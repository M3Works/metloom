{
 "cells": [
  {
   "cell_type": "markdown",
   "id": "5bbd0865",
   "metadata": {},
   "source": [
    "# Example for accessing USGS data\n",
    "\n",
    "### This notebook does the following:  \n",
    "* Load a single USGS point\n",
    "* Look at the metadata\n",
    "* Get multiple radiation datasets\n",
    "* Calculate albedo from the datasets\n",
    "* Plot the albedo evolution"
   ]
  },
  {
   "cell_type": "code",
   "execution_count": 2,
   "id": "f8319b6d",
   "metadata": {},
   "outputs": [],
   "source": [
    "# imports\n",
    "from datetime import datetime\n",
    "import pandas as pd\n",
    "import numpy as np\n",
    "\n",
    "from metloom.pointdata import USGSPointData"
   ]
  },
  {
   "cell_type": "code",
   "execution_count": 34,
   "id": "a9911803",
   "metadata": {},
   "outputs": [
    {
     "data": {
      "text/html": [
       "<div>\n",
       "<style scoped>\n",
       "    .dataframe tbody tr th:only-of-type {\n",
       "        vertical-align: middle;\n",
       "    }\n",
       "\n",
       "    .dataframe tbody tr th {\n",
       "        vertical-align: top;\n",
       "    }\n",
       "\n",
       "    .dataframe thead th {\n",
       "        text-align: right;\n",
       "    }\n",
       "</style>\n",
       "<table border=\"1\" class=\"dataframe\">\n",
       "  <thead>\n",
       "    <tr style=\"text-align: right;\">\n",
       "      <th></th>\n",
       "      <th></th>\n",
       "      <th>geometry</th>\n",
       "      <th>DOWNWARD SHORTWAVE RADIATION</th>\n",
       "      <th>DOWNWARD SHORTWAVE RADIATION_units</th>\n",
       "      <th>UPWARD SHORTWAVE RADIATION</th>\n",
       "      <th>UPWARD SHORTWAVE RADIATION_units</th>\n",
       "      <th>SNOWDEPTH</th>\n",
       "      <th>SNOWDEPTH_units</th>\n",
       "      <th>datasource</th>\n",
       "    </tr>\n",
       "    <tr>\n",
       "      <th>datetime</th>\n",
       "      <th>site</th>\n",
       "      <th></th>\n",
       "      <th></th>\n",
       "      <th></th>\n",
       "      <th></th>\n",
       "      <th></th>\n",
       "      <th></th>\n",
       "      <th></th>\n",
       "      <th></th>\n",
       "    </tr>\n",
       "  </thead>\n",
       "  <tbody>\n",
       "    <tr>\n",
       "      <th>2024-01-01 07:00:00+00:00</th>\n",
       "      <th>395709105582701</th>\n",
       "      <td>POINT Z (-105.97407 39.95258 10657.00000)</td>\n",
       "      <td>-5.6</td>\n",
       "      <td>W/m2</td>\n",
       "      <td>0.0</td>\n",
       "      <td>W/m2</td>\n",
       "      <td>0.616</td>\n",
       "      <td>m</td>\n",
       "      <td>USGS</td>\n",
       "    </tr>\n",
       "    <tr>\n",
       "      <th>2024-01-01 08:00:00+00:00</th>\n",
       "      <th>395709105582701</th>\n",
       "      <td>POINT Z (-105.97407 39.95258 10657.00000)</td>\n",
       "      <td>-9.9</td>\n",
       "      <td>W/m2</td>\n",
       "      <td>0.0</td>\n",
       "      <td>W/m2</td>\n",
       "      <td>0.620</td>\n",
       "      <td>m</td>\n",
       "      <td>USGS</td>\n",
       "    </tr>\n",
       "    <tr>\n",
       "      <th>2024-01-01 09:00:00+00:00</th>\n",
       "      <th>395709105582701</th>\n",
       "      <td>POINT Z (-105.97407 39.95258 10657.00000)</td>\n",
       "      <td>-10.8</td>\n",
       "      <td>W/m2</td>\n",
       "      <td>0.0</td>\n",
       "      <td>W/m2</td>\n",
       "      <td>0.618</td>\n",
       "      <td>m</td>\n",
       "      <td>USGS</td>\n",
       "    </tr>\n",
       "    <tr>\n",
       "      <th>2024-01-01 10:00:00+00:00</th>\n",
       "      <th>395709105582701</th>\n",
       "      <td>POINT Z (-105.97407 39.95258 10657.00000)</td>\n",
       "      <td>-10.3</td>\n",
       "      <td>W/m2</td>\n",
       "      <td>0.0</td>\n",
       "      <td>W/m2</td>\n",
       "      <td>0.619</td>\n",
       "      <td>m</td>\n",
       "      <td>USGS</td>\n",
       "    </tr>\n",
       "    <tr>\n",
       "      <th>2024-01-01 11:00:00+00:00</th>\n",
       "      <th>395709105582701</th>\n",
       "      <td>POINT Z (-105.97407 39.95258 10657.00000)</td>\n",
       "      <td>-9.9</td>\n",
       "      <td>W/m2</td>\n",
       "      <td>0.0</td>\n",
       "      <td>W/m2</td>\n",
       "      <td>0.620</td>\n",
       "      <td>m</td>\n",
       "      <td>USGS</td>\n",
       "    </tr>\n",
       "    <tr>\n",
       "      <th>2024-01-01 12:00:00+00:00</th>\n",
       "      <th>395709105582701</th>\n",
       "      <td>POINT Z (-105.97407 39.95258 10657.00000)</td>\n",
       "      <td>-10.0</td>\n",
       "      <td>W/m2</td>\n",
       "      <td>0.0</td>\n",
       "      <td>W/m2</td>\n",
       "      <td>0.618</td>\n",
       "      <td>m</td>\n",
       "      <td>USGS</td>\n",
       "    </tr>\n",
       "    <tr>\n",
       "      <th>2024-01-01 13:00:00+00:00</th>\n",
       "      <th>395709105582701</th>\n",
       "      <td>POINT Z (-105.97407 39.95258 10657.00000)</td>\n",
       "      <td>-9.9</td>\n",
       "      <td>W/m2</td>\n",
       "      <td>0.0</td>\n",
       "      <td>W/m2</td>\n",
       "      <td>0.619</td>\n",
       "      <td>m</td>\n",
       "      <td>USGS</td>\n",
       "    </tr>\n",
       "    <tr>\n",
       "      <th>2024-01-01 14:00:00+00:00</th>\n",
       "      <th>395709105582701</th>\n",
       "      <td>POINT Z (-105.97407 39.95258 10657.00000)</td>\n",
       "      <td>-9.9</td>\n",
       "      <td>W/m2</td>\n",
       "      <td>0.0</td>\n",
       "      <td>W/m2</td>\n",
       "      <td>0.618</td>\n",
       "      <td>m</td>\n",
       "      <td>USGS</td>\n",
       "    </tr>\n",
       "    <tr>\n",
       "      <th>2024-01-01 15:00:00+00:00</th>\n",
       "      <th>395709105582701</th>\n",
       "      <td>POINT Z (-105.97407 39.95258 10657.00000)</td>\n",
       "      <td>-1.9</td>\n",
       "      <td>W/m2</td>\n",
       "      <td>3.0</td>\n",
       "      <td>W/m2</td>\n",
       "      <td>0.616</td>\n",
       "      <td>m</td>\n",
       "      <td>USGS</td>\n",
       "    </tr>\n",
       "    <tr>\n",
       "      <th>2024-01-01 16:00:00+00:00</th>\n",
       "      <th>395709105582701</th>\n",
       "      <td>POINT Z (-105.97407 39.95258 10657.00000)</td>\n",
       "      <td>122.0</td>\n",
       "      <td>W/m2</td>\n",
       "      <td>55.0</td>\n",
       "      <td>W/m2</td>\n",
       "      <td>0.614</td>\n",
       "      <td>m</td>\n",
       "      <td>USGS</td>\n",
       "    </tr>\n",
       "  </tbody>\n",
       "</table>\n",
       "</div>"
      ],
      "text/plain": [
       "                                                                            geometry  \\\n",
       "datetime                  site                                                         \n",
       "2024-01-01 07:00:00+00:00 395709105582701  POINT Z (-105.97407 39.95258 10657.00000)   \n",
       "2024-01-01 08:00:00+00:00 395709105582701  POINT Z (-105.97407 39.95258 10657.00000)   \n",
       "2024-01-01 09:00:00+00:00 395709105582701  POINT Z (-105.97407 39.95258 10657.00000)   \n",
       "2024-01-01 10:00:00+00:00 395709105582701  POINT Z (-105.97407 39.95258 10657.00000)   \n",
       "2024-01-01 11:00:00+00:00 395709105582701  POINT Z (-105.97407 39.95258 10657.00000)   \n",
       "2024-01-01 12:00:00+00:00 395709105582701  POINT Z (-105.97407 39.95258 10657.00000)   \n",
       "2024-01-01 13:00:00+00:00 395709105582701  POINT Z (-105.97407 39.95258 10657.00000)   \n",
       "2024-01-01 14:00:00+00:00 395709105582701  POINT Z (-105.97407 39.95258 10657.00000)   \n",
       "2024-01-01 15:00:00+00:00 395709105582701  POINT Z (-105.97407 39.95258 10657.00000)   \n",
       "2024-01-01 16:00:00+00:00 395709105582701  POINT Z (-105.97407 39.95258 10657.00000)   \n",
       "\n",
       "                                           DOWNWARD SHORTWAVE RADIATION  \\\n",
       "datetime                  site                                            \n",
       "2024-01-01 07:00:00+00:00 395709105582701                          -5.6   \n",
       "2024-01-01 08:00:00+00:00 395709105582701                          -9.9   \n",
       "2024-01-01 09:00:00+00:00 395709105582701                         -10.8   \n",
       "2024-01-01 10:00:00+00:00 395709105582701                         -10.3   \n",
       "2024-01-01 11:00:00+00:00 395709105582701                          -9.9   \n",
       "2024-01-01 12:00:00+00:00 395709105582701                         -10.0   \n",
       "2024-01-01 13:00:00+00:00 395709105582701                          -9.9   \n",
       "2024-01-01 14:00:00+00:00 395709105582701                          -9.9   \n",
       "2024-01-01 15:00:00+00:00 395709105582701                          -1.9   \n",
       "2024-01-01 16:00:00+00:00 395709105582701                         122.0   \n",
       "\n",
       "                                          DOWNWARD SHORTWAVE RADIATION_units  \\\n",
       "datetime                  site                                                 \n",
       "2024-01-01 07:00:00+00:00 395709105582701                               W/m2   \n",
       "2024-01-01 08:00:00+00:00 395709105582701                               W/m2   \n",
       "2024-01-01 09:00:00+00:00 395709105582701                               W/m2   \n",
       "2024-01-01 10:00:00+00:00 395709105582701                               W/m2   \n",
       "2024-01-01 11:00:00+00:00 395709105582701                               W/m2   \n",
       "2024-01-01 12:00:00+00:00 395709105582701                               W/m2   \n",
       "2024-01-01 13:00:00+00:00 395709105582701                               W/m2   \n",
       "2024-01-01 14:00:00+00:00 395709105582701                               W/m2   \n",
       "2024-01-01 15:00:00+00:00 395709105582701                               W/m2   \n",
       "2024-01-01 16:00:00+00:00 395709105582701                               W/m2   \n",
       "\n",
       "                                           UPWARD SHORTWAVE RADIATION  \\\n",
       "datetime                  site                                          \n",
       "2024-01-01 07:00:00+00:00 395709105582701                         0.0   \n",
       "2024-01-01 08:00:00+00:00 395709105582701                         0.0   \n",
       "2024-01-01 09:00:00+00:00 395709105582701                         0.0   \n",
       "2024-01-01 10:00:00+00:00 395709105582701                         0.0   \n",
       "2024-01-01 11:00:00+00:00 395709105582701                         0.0   \n",
       "2024-01-01 12:00:00+00:00 395709105582701                         0.0   \n",
       "2024-01-01 13:00:00+00:00 395709105582701                         0.0   \n",
       "2024-01-01 14:00:00+00:00 395709105582701                         0.0   \n",
       "2024-01-01 15:00:00+00:00 395709105582701                         3.0   \n",
       "2024-01-01 16:00:00+00:00 395709105582701                        55.0   \n",
       "\n",
       "                                          UPWARD SHORTWAVE RADIATION_units  \\\n",
       "datetime                  site                                               \n",
       "2024-01-01 07:00:00+00:00 395709105582701                             W/m2   \n",
       "2024-01-01 08:00:00+00:00 395709105582701                             W/m2   \n",
       "2024-01-01 09:00:00+00:00 395709105582701                             W/m2   \n",
       "2024-01-01 10:00:00+00:00 395709105582701                             W/m2   \n",
       "2024-01-01 11:00:00+00:00 395709105582701                             W/m2   \n",
       "2024-01-01 12:00:00+00:00 395709105582701                             W/m2   \n",
       "2024-01-01 13:00:00+00:00 395709105582701                             W/m2   \n",
       "2024-01-01 14:00:00+00:00 395709105582701                             W/m2   \n",
       "2024-01-01 15:00:00+00:00 395709105582701                             W/m2   \n",
       "2024-01-01 16:00:00+00:00 395709105582701                             W/m2   \n",
       "\n",
       "                                           SNOWDEPTH SNOWDEPTH_units  \\\n",
       "datetime                  site                                         \n",
       "2024-01-01 07:00:00+00:00 395709105582701      0.616               m   \n",
       "2024-01-01 08:00:00+00:00 395709105582701      0.620               m   \n",
       "2024-01-01 09:00:00+00:00 395709105582701      0.618               m   \n",
       "2024-01-01 10:00:00+00:00 395709105582701      0.619               m   \n",
       "2024-01-01 11:00:00+00:00 395709105582701      0.620               m   \n",
       "2024-01-01 12:00:00+00:00 395709105582701      0.618               m   \n",
       "2024-01-01 13:00:00+00:00 395709105582701      0.619               m   \n",
       "2024-01-01 14:00:00+00:00 395709105582701      0.618               m   \n",
       "2024-01-01 15:00:00+00:00 395709105582701      0.616               m   \n",
       "2024-01-01 16:00:00+00:00 395709105582701      0.614               m   \n",
       "\n",
       "                                          datasource  \n",
       "datetime                  site                        \n",
       "2024-01-01 07:00:00+00:00 395709105582701       USGS  \n",
       "2024-01-01 08:00:00+00:00 395709105582701       USGS  \n",
       "2024-01-01 09:00:00+00:00 395709105582701       USGS  \n",
       "2024-01-01 10:00:00+00:00 395709105582701       USGS  \n",
       "2024-01-01 11:00:00+00:00 395709105582701       USGS  \n",
       "2024-01-01 12:00:00+00:00 395709105582701       USGS  \n",
       "2024-01-01 13:00:00+00:00 395709105582701       USGS  \n",
       "2024-01-01 14:00:00+00:00 395709105582701       USGS  \n",
       "2024-01-01 15:00:00+00:00 395709105582701       USGS  \n",
       "2024-01-01 16:00:00+00:00 395709105582701       USGS  "
      ]
     },
     "execution_count": 34,
     "metadata": {},
     "output_type": "execute_result"
    }
   ],
   "source": [
    "# Define a point known to have solar measurements\n",
    "pt = USGSPointData(\"395709105582701\", \"Blue Ridge Meteorological Station NR Fraser\")\n",
    "\n",
    "# start data and end date\n",
    "start_date = datetime(2024, 1, 1)\n",
    "end_date = datetime(2024, y, 1)\n",
    "# Define a list of variables we want\n",
    "incoming_sw = pt.ALLOWED_VARIABLES.DOWNSHORTWAVE\n",
    "outgoing_sw = pt.ALLOWED_VARIABLES.UPSHORTWAVE\n",
    "depth = pt.ALLOWED_VARIABLES.SNOWDEPTH\n",
    "variables = [incoming_sw, outgoing_sw, depth]\n",
    "\n"
   ]
  },
  {
   "cell_type": "code",
   "execution_count": 40,
   "id": "8dc795ff-a2d9-4e93-ae1c-e55259b14204",
   "metadata": {},
   "outputs": [
    {
     "data": {
      "text/html": [
       "<div>\n",
       "<style scoped>\n",
       "    .dataframe tbody tr th:only-of-type {\n",
       "        vertical-align: middle;\n",
       "    }\n",
       "\n",
       "    .dataframe tbody tr th {\n",
       "        vertical-align: top;\n",
       "    }\n",
       "\n",
       "    .dataframe thead th {\n",
       "        text-align: right;\n",
       "    }\n",
       "</style>\n",
       "<table border=\"1\" class=\"dataframe\">\n",
       "  <thead>\n",
       "    <tr style=\"text-align: right;\">\n",
       "      <th></th>\n",
       "      <th></th>\n",
       "      <th>geometry</th>\n",
       "      <th>DOWNWARD SHORTWAVE RADIATION</th>\n",
       "      <th>DOWNWARD SHORTWAVE RADIATION_units</th>\n",
       "      <th>UPWARD SHORTWAVE RADIATION</th>\n",
       "      <th>UPWARD SHORTWAVE RADIATION_units</th>\n",
       "      <th>SNOWDEPTH</th>\n",
       "      <th>SNOWDEPTH_units</th>\n",
       "      <th>datasource</th>\n",
       "    </tr>\n",
       "    <tr>\n",
       "      <th>datetime</th>\n",
       "      <th>site</th>\n",
       "      <th></th>\n",
       "      <th></th>\n",
       "      <th></th>\n",
       "      <th></th>\n",
       "      <th></th>\n",
       "      <th></th>\n",
       "      <th></th>\n",
       "      <th></th>\n",
       "    </tr>\n",
       "  </thead>\n",
       "  <tbody>\n",
       "    <tr>\n",
       "      <th>2024-01-01 07:00:00+00:00</th>\n",
       "      <th>395709105582701</th>\n",
       "      <td>POINT Z (-105.97407 39.95258 10657.00000)</td>\n",
       "      <td>-5.6</td>\n",
       "      <td>W/m2</td>\n",
       "      <td>0.0</td>\n",
       "      <td>W/m2</td>\n",
       "      <td>0.616</td>\n",
       "      <td>m</td>\n",
       "      <td>USGS</td>\n",
       "    </tr>\n",
       "    <tr>\n",
       "      <th>2024-01-01 08:00:00+00:00</th>\n",
       "      <th>395709105582701</th>\n",
       "      <td>POINT Z (-105.97407 39.95258 10657.00000)</td>\n",
       "      <td>-9.9</td>\n",
       "      <td>W/m2</td>\n",
       "      <td>0.0</td>\n",
       "      <td>W/m2</td>\n",
       "      <td>0.620</td>\n",
       "      <td>m</td>\n",
       "      <td>USGS</td>\n",
       "    </tr>\n",
       "    <tr>\n",
       "      <th>2024-01-01 09:00:00+00:00</th>\n",
       "      <th>395709105582701</th>\n",
       "      <td>POINT Z (-105.97407 39.95258 10657.00000)</td>\n",
       "      <td>-10.8</td>\n",
       "      <td>W/m2</td>\n",
       "      <td>0.0</td>\n",
       "      <td>W/m2</td>\n",
       "      <td>0.618</td>\n",
       "      <td>m</td>\n",
       "      <td>USGS</td>\n",
       "    </tr>\n",
       "    <tr>\n",
       "      <th>2024-01-01 10:00:00+00:00</th>\n",
       "      <th>395709105582701</th>\n",
       "      <td>POINT Z (-105.97407 39.95258 10657.00000)</td>\n",
       "      <td>-10.3</td>\n",
       "      <td>W/m2</td>\n",
       "      <td>0.0</td>\n",
       "      <td>W/m2</td>\n",
       "      <td>0.619</td>\n",
       "      <td>m</td>\n",
       "      <td>USGS</td>\n",
       "    </tr>\n",
       "    <tr>\n",
       "      <th>2024-01-01 11:00:00+00:00</th>\n",
       "      <th>395709105582701</th>\n",
       "      <td>POINT Z (-105.97407 39.95258 10657.00000)</td>\n",
       "      <td>-9.9</td>\n",
       "      <td>W/m2</td>\n",
       "      <td>0.0</td>\n",
       "      <td>W/m2</td>\n",
       "      <td>0.620</td>\n",
       "      <td>m</td>\n",
       "      <td>USGS</td>\n",
       "    </tr>\n",
       "    <tr>\n",
       "      <th>2024-01-01 12:00:00+00:00</th>\n",
       "      <th>395709105582701</th>\n",
       "      <td>POINT Z (-105.97407 39.95258 10657.00000)</td>\n",
       "      <td>-10.0</td>\n",
       "      <td>W/m2</td>\n",
       "      <td>0.0</td>\n",
       "      <td>W/m2</td>\n",
       "      <td>0.618</td>\n",
       "      <td>m</td>\n",
       "      <td>USGS</td>\n",
       "    </tr>\n",
       "    <tr>\n",
       "      <th>2024-01-01 13:00:00+00:00</th>\n",
       "      <th>395709105582701</th>\n",
       "      <td>POINT Z (-105.97407 39.95258 10657.00000)</td>\n",
       "      <td>-9.9</td>\n",
       "      <td>W/m2</td>\n",
       "      <td>0.0</td>\n",
       "      <td>W/m2</td>\n",
       "      <td>0.619</td>\n",
       "      <td>m</td>\n",
       "      <td>USGS</td>\n",
       "    </tr>\n",
       "    <tr>\n",
       "      <th>2024-01-01 14:00:00+00:00</th>\n",
       "      <th>395709105582701</th>\n",
       "      <td>POINT Z (-105.97407 39.95258 10657.00000)</td>\n",
       "      <td>-9.9</td>\n",
       "      <td>W/m2</td>\n",
       "      <td>0.0</td>\n",
       "      <td>W/m2</td>\n",
       "      <td>0.618</td>\n",
       "      <td>m</td>\n",
       "      <td>USGS</td>\n",
       "    </tr>\n",
       "    <tr>\n",
       "      <th>2024-01-01 15:00:00+00:00</th>\n",
       "      <th>395709105582701</th>\n",
       "      <td>POINT Z (-105.97407 39.95258 10657.00000)</td>\n",
       "      <td>-1.9</td>\n",
       "      <td>W/m2</td>\n",
       "      <td>3.0</td>\n",
       "      <td>W/m2</td>\n",
       "      <td>0.616</td>\n",
       "      <td>m</td>\n",
       "      <td>USGS</td>\n",
       "    </tr>\n",
       "    <tr>\n",
       "      <th>2024-01-01 16:00:00+00:00</th>\n",
       "      <th>395709105582701</th>\n",
       "      <td>POINT Z (-105.97407 39.95258 10657.00000)</td>\n",
       "      <td>122.0</td>\n",
       "      <td>W/m2</td>\n",
       "      <td>55.0</td>\n",
       "      <td>W/m2</td>\n",
       "      <td>0.614</td>\n",
       "      <td>m</td>\n",
       "      <td>USGS</td>\n",
       "    </tr>\n",
       "  </tbody>\n",
       "</table>\n",
       "</div>"
      ],
      "text/plain": [
       "                                                                            geometry  \\\n",
       "datetime                  site                                                         \n",
       "2024-01-01 07:00:00+00:00 395709105582701  POINT Z (-105.97407 39.95258 10657.00000)   \n",
       "2024-01-01 08:00:00+00:00 395709105582701  POINT Z (-105.97407 39.95258 10657.00000)   \n",
       "2024-01-01 09:00:00+00:00 395709105582701  POINT Z (-105.97407 39.95258 10657.00000)   \n",
       "2024-01-01 10:00:00+00:00 395709105582701  POINT Z (-105.97407 39.95258 10657.00000)   \n",
       "2024-01-01 11:00:00+00:00 395709105582701  POINT Z (-105.97407 39.95258 10657.00000)   \n",
       "2024-01-01 12:00:00+00:00 395709105582701  POINT Z (-105.97407 39.95258 10657.00000)   \n",
       "2024-01-01 13:00:00+00:00 395709105582701  POINT Z (-105.97407 39.95258 10657.00000)   \n",
       "2024-01-01 14:00:00+00:00 395709105582701  POINT Z (-105.97407 39.95258 10657.00000)   \n",
       "2024-01-01 15:00:00+00:00 395709105582701  POINT Z (-105.97407 39.95258 10657.00000)   \n",
       "2024-01-01 16:00:00+00:00 395709105582701  POINT Z (-105.97407 39.95258 10657.00000)   \n",
       "\n",
       "                                           DOWNWARD SHORTWAVE RADIATION  \\\n",
       "datetime                  site                                            \n",
       "2024-01-01 07:00:00+00:00 395709105582701                          -5.6   \n",
       "2024-01-01 08:00:00+00:00 395709105582701                          -9.9   \n",
       "2024-01-01 09:00:00+00:00 395709105582701                         -10.8   \n",
       "2024-01-01 10:00:00+00:00 395709105582701                         -10.3   \n",
       "2024-01-01 11:00:00+00:00 395709105582701                          -9.9   \n",
       "2024-01-01 12:00:00+00:00 395709105582701                         -10.0   \n",
       "2024-01-01 13:00:00+00:00 395709105582701                          -9.9   \n",
       "2024-01-01 14:00:00+00:00 395709105582701                          -9.9   \n",
       "2024-01-01 15:00:00+00:00 395709105582701                          -1.9   \n",
       "2024-01-01 16:00:00+00:00 395709105582701                         122.0   \n",
       "\n",
       "                                          DOWNWARD SHORTWAVE RADIATION_units  \\\n",
       "datetime                  site                                                 \n",
       "2024-01-01 07:00:00+00:00 395709105582701                               W/m2   \n",
       "2024-01-01 08:00:00+00:00 395709105582701                               W/m2   \n",
       "2024-01-01 09:00:00+00:00 395709105582701                               W/m2   \n",
       "2024-01-01 10:00:00+00:00 395709105582701                               W/m2   \n",
       "2024-01-01 11:00:00+00:00 395709105582701                               W/m2   \n",
       "2024-01-01 12:00:00+00:00 395709105582701                               W/m2   \n",
       "2024-01-01 13:00:00+00:00 395709105582701                               W/m2   \n",
       "2024-01-01 14:00:00+00:00 395709105582701                               W/m2   \n",
       "2024-01-01 15:00:00+00:00 395709105582701                               W/m2   \n",
       "2024-01-01 16:00:00+00:00 395709105582701                               W/m2   \n",
       "\n",
       "                                           UPWARD SHORTWAVE RADIATION  \\\n",
       "datetime                  site                                          \n",
       "2024-01-01 07:00:00+00:00 395709105582701                         0.0   \n",
       "2024-01-01 08:00:00+00:00 395709105582701                         0.0   \n",
       "2024-01-01 09:00:00+00:00 395709105582701                         0.0   \n",
       "2024-01-01 10:00:00+00:00 395709105582701                         0.0   \n",
       "2024-01-01 11:00:00+00:00 395709105582701                         0.0   \n",
       "2024-01-01 12:00:00+00:00 395709105582701                         0.0   \n",
       "2024-01-01 13:00:00+00:00 395709105582701                         0.0   \n",
       "2024-01-01 14:00:00+00:00 395709105582701                         0.0   \n",
       "2024-01-01 15:00:00+00:00 395709105582701                         3.0   \n",
       "2024-01-01 16:00:00+00:00 395709105582701                        55.0   \n",
       "\n",
       "                                          UPWARD SHORTWAVE RADIATION_units  \\\n",
       "datetime                  site                                               \n",
       "2024-01-01 07:00:00+00:00 395709105582701                             W/m2   \n",
       "2024-01-01 08:00:00+00:00 395709105582701                             W/m2   \n",
       "2024-01-01 09:00:00+00:00 395709105582701                             W/m2   \n",
       "2024-01-01 10:00:00+00:00 395709105582701                             W/m2   \n",
       "2024-01-01 11:00:00+00:00 395709105582701                             W/m2   \n",
       "2024-01-01 12:00:00+00:00 395709105582701                             W/m2   \n",
       "2024-01-01 13:00:00+00:00 395709105582701                             W/m2   \n",
       "2024-01-01 14:00:00+00:00 395709105582701                             W/m2   \n",
       "2024-01-01 15:00:00+00:00 395709105582701                             W/m2   \n",
       "2024-01-01 16:00:00+00:00 395709105582701                             W/m2   \n",
       "\n",
       "                                           SNOWDEPTH SNOWDEPTH_units  \\\n",
       "datetime                  site                                         \n",
       "2024-01-01 07:00:00+00:00 395709105582701      0.616               m   \n",
       "2024-01-01 08:00:00+00:00 395709105582701      0.620               m   \n",
       "2024-01-01 09:00:00+00:00 395709105582701      0.618               m   \n",
       "2024-01-01 10:00:00+00:00 395709105582701      0.619               m   \n",
       "2024-01-01 11:00:00+00:00 395709105582701      0.620               m   \n",
       "2024-01-01 12:00:00+00:00 395709105582701      0.618               m   \n",
       "2024-01-01 13:00:00+00:00 395709105582701      0.619               m   \n",
       "2024-01-01 14:00:00+00:00 395709105582701      0.618               m   \n",
       "2024-01-01 15:00:00+00:00 395709105582701      0.616               m   \n",
       "2024-01-01 16:00:00+00:00 395709105582701      0.614               m   \n",
       "\n",
       "                                          datasource  \n",
       "datetime                  site                        \n",
       "2024-01-01 07:00:00+00:00 395709105582701       USGS  \n",
       "2024-01-01 08:00:00+00:00 395709105582701       USGS  \n",
       "2024-01-01 09:00:00+00:00 395709105582701       USGS  \n",
       "2024-01-01 10:00:00+00:00 395709105582701       USGS  \n",
       "2024-01-01 11:00:00+00:00 395709105582701       USGS  \n",
       "2024-01-01 12:00:00+00:00 395709105582701       USGS  \n",
       "2024-01-01 13:00:00+00:00 395709105582701       USGS  \n",
       "2024-01-01 14:00:00+00:00 395709105582701       USGS  \n",
       "2024-01-01 15:00:00+00:00 395709105582701       USGS  \n",
       "2024-01-01 16:00:00+00:00 395709105582701       USGS  "
      ]
     },
     "execution_count": 40,
     "metadata": {},
     "output_type": "execute_result"
    }
   ],
   "source": [
    "# LETS GET THAT DATA\n",
    "df = pt.get_hourly_data(start_date, end_date, variables)\n",
    "df.head(10)"
   ]
  },
  {
   "cell_type": "code",
   "execution_count": 41,
   "id": "68ccbe7e",
   "metadata": {},
   "outputs": [
    {
     "data": {
      "text/plain": [
       "<AxesSubplot: xlabel='datetime'>"
      ]
     },
     "execution_count": 41,
     "metadata": {},
     "output_type": "execute_result"
    },
    {
     "data": {
      "image/png": "[encoded data removed]",
      "text/plain": [
       "<Figure size 640x480 with 1 Axes>"
      ]
     },
     "metadata": {},
     "output_type": "display_data"
    }
   ],
   "source": [
    "# Check out this data!\n",
    "df = df.reset_index().set_index(\"datetime\")\n",
    "var_names = [v.name for v in variables]\n",
    "\n",
    "# Sample to just the vars\n",
    "df_rad = df.loc[:, var_names]\n",
    "\n",
    "df_rad.loc[:, [incoming_sw.name, outgoing_sw.name]].plot()\n",
    "\n"
   ]
  },
  {
   "cell_type": "code",
   "execution_count": 42,
   "id": "9112e047-7f6f-4771-be01-c6f1efdbd661",
   "metadata": {},
   "outputs": [
    {
     "data": {
      "text/plain": [
       "<AxesSubplot: xlabel='datetime'>"
      ]
     },
     "execution_count": 42,
     "metadata": {},
     "output_type": "execute_result"
    },
    {
     "data": {
      "image/png": "[encoded data removed]",
      "text/plain": [
       "<Figure size 640x480 with 1 Axes>"
      ]
     },
     "metadata": {},
     "output_type": "display_data"
    }
   ],
   "source": [
    "# Let's get the data in a more usable state\n",
    "sw_thresh = 10\n",
    "\n",
    "# mask the SW to decent values\n",
    "df_rad[incoming_sw.name] = df_rad[incoming_sw.name].mask(df_rad[incoming_sw.name] < sw_thresh, np.nan)\n",
    "df_rad[outgoing_sw.name] = df_rad[outgoing_sw.name].mask(df_rad[outgoing_sw.name] < sw_thresh, np.nan)\n",
    "\n",
    "# Resample to daily, based on mean values\n",
    "df_rad = df_rad.resample(\"D\").mean()\n",
    "\n",
    "# Plot again\n",
    "df_rad.loc[:, [incoming_sw.name, outgoing_sw.name]].plot()\n"
   ]
  },
  {
   "cell_type": "markdown",
   "id": "5515ac70-b7f7-4eaa-b58a-b7c4201e2717",
   "metadata": {},
   "source": [
    "### Now we can think Albedo\n",
    "\n",
    "The daily data plot looks much better. Now we can start to think about albedo.\n",
    "We can use the SW to calcaulate albedo next"
   ]
  },
  {
   "cell_type": "code",
   "execution_count": 43,
   "id": "f9c91bbe",
   "metadata": {},
   "outputs": [
    {
     "data": {
      "text/plain": [
       "<AxesSubplot: xlabel='datetime'>"
      ]
     },
     "execution_count": 43,
     "metadata": {},
     "output_type": "execute_result"
    },
    {
     "data": {
      "image/png": "[encoded data removed]",
      "text/plain": [
       "<Figure size 640x480 with 1 Axes>"
      ]
     },
     "metadata": {},
     "output_type": "display_data"
    }
   ],
   "source": [
    "# Calculate albedo\n",
    "albedo_var = \"ALBEDO\"\n",
    "df_rad[albedo_var] = df_rad[outgoing_sw.name] / df_rad[incoming_sw.name]\n",
    "df_rad[albedo_var] = df_rad[albedo_var].mask(df_rad[albedo_var] < 0.1, np.nan)\n",
    "df_rad[albedo_var] = df_rad[albedo_var].mask(df_rad[albedo_var] > 1, np.nan)\n",
    "df_rad[albedo_var].plot()"
   ]
  },
  {
   "cell_type": "markdown",
   "id": "61cb8617-dd47-495c-9164-5a69efaded78",
   "metadata": {},
   "source": [
    "### Better plotting\n",
    "Awesome - now we have albedo. We haven't used snowdepth yet,\n",
    "so let's create a better plot that shows how the two relate"
   ]
  },
  {
   "cell_type": "code",
   "execution_count": 44,
   "id": "d0fe841b-0b9a-43fa-9df2-e106ecf2483c",
   "metadata": {},
   "outputs": [],
   "source": [
    "# Get plotly for a nicer plot\n",
    "# !pip install plotly\n",
    "import plotly.express as px\n",
    "import plotly.graph_objects as go\n",
    "from plotly.subplots import make_subplots"
   ]
  },
  {
   "cell_type": "code",
   "execution_count": 45,
   "id": "445efe95-75a7-46db-88d0-4bc20027f789",
   "metadata": {
    "editable": true,
    "slideshow": {
     "slide_type": ""
    },
    "tags": [
     "nbsphinx-thumbnail",
     "nbsphinx-gallery"
    ]
   },
   "outputs": [
    {
     "data": {
      "application/vnd.plotly.v1+json": {
       "config": {
        "plotlyServerURL": "https://plot.ly"
       },
       "data": [
        {
         "name": "ALBEDO",
         "type": "scatter",
         "x": [
          "2024-01-01T00:00:00+00:00",
          "2024-01-02T00:00:00+00:00",
          "2024-01-03T00:00:00+00:00",
          "2024-01-04T00:00:00+00:00",
          "2024-01-05T00:00:00+00:00",
          "2024-01-06T00:00:00+00:00",
          "2024-01-07T00:00:00+00:00",
          "2024-01-08T00:00:00+00:00",
          "2024-01-09T00:00:00+00:00",
          "2024-01-10T00:00:00+00:00",
          "2024-01-11T00:00:00+00:00",
          "2024-01-12T00:00:00+00:00",
          "2024-01-13T00:00:00+00:00",
          "2024-01-14T00:00:00+00:00",
          "2024-01-15T00:00:00+00:00",
          "2024-01-16T00:00:00+00:00",
          "2024-01-17T00:00:00+00:00",
          "2024-01-18T00:00:00+00:00",
          "2024-01-19T00:00:00+00:00",
          "2024-01-20T00:00:00+00:00",
          "2024-01-21T00:00:00+00:00",
          "2024-01-22T00:00:00+00:00",
          "2024-01-23T00:00:00+00:00",
          "2024-01-24T00:00:00+00:00",
          "2024-01-25T00:00:00+00:00",
          "2024-01-26T00:00:00+00:00",
          "2024-01-27T00:00:00+00:00",
          "2024-01-28T00:00:00+00:00",
          "2024-01-29T00:00:00+00:00",
          "2024-01-30T00:00:00+00:00",
          "2024-01-31T00:00:00+00:00",
          "2024-02-01T00:00:00+00:00",
          "2024-02-02T00:00:00+00:00",
          "2024-02-03T00:00:00+00:00",
          "2024-02-04T00:00:00+00:00",
          "2024-02-05T00:00:00+00:00",
          "2024-02-06T00:00:00+00:00",
          "2024-02-07T00:00:00+00:00",
          "2024-02-08T00:00:00+00:00",
          "2024-02-09T00:00:00+00:00",
          "2024-02-10T00:00:00+00:00",
          "2024-02-11T00:00:00+00:00",
          "2024-02-12T00:00:00+00:00",
          "2024-02-13T00:00:00+00:00",
          "2024-02-14T00:00:00+00:00",
          "2024-02-15T00:00:00+00:00",
          "2024-02-16T00:00:00+00:00",
          "2024-02-17T00:00:00+00:00",
          "2024-02-18T00:00:00+00:00",
          "2024-02-19T00:00:00+00:00",
          "2024-02-20T00:00:00+00:00",
          "2024-02-21T00:00:00+00:00",
          "2024-02-22T00:00:00+00:00",
          "2024-02-23T00:00:00+00:00",
          "2024-02-24T00:00:00+00:00",
          "2024-02-25T00:00:00+00:00",
          "2024-02-26T00:00:00+00:00",
          "2024-02-27T00:00:00+00:00",
          "2024-02-28T00:00:00+00:00",
          "2024-02-29T00:00:00+00:00",
          "2024-03-01T00:00:00+00:00",
          "2024-03-02T00:00:00+00:00",
          "2024-03-03T00:00:00+00:00",
          "2024-03-04T00:00:00+00:00",
          "2024-03-05T00:00:00+00:00",
          "2024-03-06T00:00:00+00:00",
          "2024-03-07T00:00:00+00:00",
          "2024-03-08T00:00:00+00:00",
          "2024-03-09T00:00:00+00:00",
          "2024-03-10T00:00:00+00:00",
          "2024-03-11T00:00:00+00:00",
          "2024-03-12T00:00:00+00:00",
          "2024-03-13T00:00:00+00:00",
          "2024-03-14T00:00:00+00:00",
          "2024-03-15T00:00:00+00:00",
          "2024-03-16T00:00:00+00:00",
          "2024-03-17T00:00:00+00:00",
          "2024-03-18T00:00:00+00:00",
          "2024-03-19T00:00:00+00:00",
          "2024-03-20T00:00:00+00:00",
          "2024-03-21T00:00:00+00:00",
          "2024-03-22T00:00:00+00:00",
          "2024-03-23T00:00:00+00:00",
          "2024-03-24T00:00:00+00:00",
          "2024-03-25T00:00:00+00:00",
          "2024-03-26T00:00:00+00:00",
          "2024-03-27T00:00:00+00:00",
          "2024-03-28T00:00:00+00:00",
          "2024-03-29T00:00:00+00:00",
          "2024-03-30T00:00:00+00:00",
          "2024-03-31T00:00:00+00:00",
          "2024-04-01T00:00:00+00:00",
          "2024-04-02T00:00:00+00:00",
          "2024-04-03T00:00:00+00:00",
          "2024-04-04T00:00:00+00:00",
          "2024-04-05T00:00:00+00:00",
          "2024-04-06T00:00:00+00:00",
          "2024-04-07T00:00:00+00:00",
          "2024-04-08T00:00:00+00:00",
          "2024-04-09T00:00:00+00:00",
          "2024-04-10T00:00:00+00:00",
          "2024-04-11T00:00:00+00:00",
          "2024-04-12T00:00:00+00:00",
          "2024-04-13T00:00:00+00:00",
          "2024-04-14T00:00:00+00:00",
          "2024-04-15T00:00:00+00:00",
          "2024-04-16T00:00:00+00:00",
          "2024-04-17T00:00:00+00:00",
          "2024-04-18T00:00:00+00:00",
          "2024-04-19T00:00:00+00:00",
          "2024-04-20T00:00:00+00:00",
          "2024-04-21T00:00:00+00:00",
          "2024-04-22T00:00:00+00:00",
          "2024-04-23T00:00:00+00:00",
          "2024-04-24T00:00:00+00:00",
          "2024-04-25T00:00:00+00:00",
          "2024-04-26T00:00:00+00:00",
          "2024-04-27T00:00:00+00:00",
          "2024-04-28T00:00:00+00:00",
          "2024-04-29T00:00:00+00:00",
          "2024-04-30T00:00:00+00:00",
          "2024-05-01T00:00:00+00:00",
          "2024-05-02T00:00:00+00:00",
          "2024-05-03T00:00:00+00:00",
          "2024-05-04T00:00:00+00:00",
          "2024-05-05T00:00:00+00:00",
          "2024-05-06T00:00:00+00:00",
          "2024-05-07T00:00:00+00:00",
          "2024-05-08T00:00:00+00:00",
          "2024-05-09T00:00:00+00:00",
          "2024-05-10T00:00:00+00:00",
          "2024-05-11T00:00:00+00:00",
          "2024-05-12T00:00:00+00:00",
          "2024-05-13T00:00:00+00:00",
          "2024-05-14T00:00:00+00:00",
          "2024-05-15T00:00:00+00:00",
          "2024-05-16T00:00:00+00:00",
          "2024-05-17T00:00:00+00:00",
          "2024-05-18T00:00:00+00:00",
          "2024-05-19T00:00:00+00:00",
          "2024-05-20T00:00:00+00:00",
          "2024-05-21T00:00:00+00:00",
          "2024-05-22T00:00:00+00:00"
         ],
         "xaxis": "x",
         "y": [
          0.6282821269441731,
          0.5733020312661534,
          0.6033322119715501,
          0.6784820684144912,
          0.7515879790618374,
          0.6984424639938616,
          0.7364351675194745,
          0.6838360575075074,
          0.7438754283634876,
          0.7078032636892133,
          0.7376139291455419,
          0.7674299148334078,
          0.7734844577080587,
          0.8274015257615939,
          0.7940390132969529,
          0.7201567520897757,
          0.8252608622286352,
          0.7497510546802237,
          0.7431198352355068,
          0.6661591441402472,
          0.7836562867408843,
          0.7713577190098818,
          0.7068682098273239,
          0.6774393890587871,
          0.7578310351255181,
          0.7990675943251626,
          0.6434136622899822,
          0.6408052390428215,
          0.6619315263635472,
          0.6711833290624634,
          0.6218831862850722,
          0.6204077878091044,
          0.7140525715309599,
          0.8188992924055695,
          0.7381078345608251,
          0.677903563621409,
          0.7291544289886908,
          0.7226021080724885,
          0.7403395099364205,
          0.6812971415393569,
          0.7681099442952327,
          0.7325268447908742,
          0.7369756412746576,
          0.6863273296373008,
          0.7581088525203064,
          0.7573108250426361,
          0.8116543924943312,
          0.7343175186657496,
          0.8183691356593971,
          0.7435980473444584,
          0.8276606426651051,
          0.7508908066211751,
          0.7739596273619694,
          0.7563190260163619,
          0.7276131045241809,
          0.7219038689567217,
          0.7025793533494624,
          0.763815008291028,
          0.7588788518660968,
          0.72915905499424,
          0.7217314493327488,
          0.7838437109965604,
          0.8064236851689892,
          0.8042022350235718,
          0.7950518628412019,
          0.7671845254516177,
          0.7612011012581064,
          0.792604115685214,
          0.7436879558574961,
          0.7302074928001246,
          0.7312283322182338,
          0.7591099228022334,
          0.8077318638667256,
          0.768580396818089,
          0.7671194009142057,
          0.7214573679793159,
          0.7229692818200448,
          0.7132259090766834,
          0.7009111296174608,
          0.6932833849149092,
          0.6841520956464274,
          0.7249666855104598,
          0.7092017206589533,
          0.7475176189112417,
          0.791463675901946,
          0.7773692398512511,
          0.7772020714561035,
          0.7601926770513457,
          0.8052529052916853,
          0.7813871029922077,
          0.7575228768831924,
          0.7677826605044067,
          0.7414122576229721,
          0.7057042253521127,
          0.6901504787961698,
          0.6749548651082475,
          0.7943622527337941,
          0.7780878304236526,
          0.7624865314153236,
          0.7967221554429742,
          0.770247194934074,
          0.7983920154968939,
          0.7451778662813013,
          0.6637692398057952,
          0.6822245131549968,
          0.6821201390765983,
          0.8362949807225251,
          0.7475520534511803,
          0.7594069810262258,
          0.7545634318175565,
          0.7614732479140454,
          0.68283036583252,
          0.6946067618835894,
          0.7671307470186784,
          0.6376338861768858,
          0.6366677507024215,
          0.7472806672393983,
          0.8586046265540445,
          0.7966439298782335,
          0.7684862900552625,
          0.7439750402289486,
          0.713070529401463,
          0.7591919595366784,
          0.7191158692942129,
          0.6825293181994824,
          0.6153428955041721,
          0.780447508852303,
          0.819323171283358,
          0.8142047256194616,
          0.7920586609944911,
          0.7491727072545903,
          0.720232699427666,
          0.6730510093253363,
          0.6318947698567453,
          0.5989457236948554,
          0.608970871439403,
          0.566786444003051,
          0.5531470430201315,
          0.5389878811377145,
          0.5339315385270175,
          0.532648722237007,
          0.7353871658115606,
          0.7587248366951143
         ],
         "yaxis": "y"
        },
        {
         "mode": "lines+markers",
         "name": "SNOWDEPTH signal",
         "type": "scatter",
         "x": [
          "2024-01-01T00:00:00+00:00",
          "2024-01-02T00:00:00+00:00",
          "2024-01-03T00:00:00+00:00",
          "2024-01-04T00:00:00+00:00",
          "2024-01-05T00:00:00+00:00",
          "2024-01-06T00:00:00+00:00",
          "2024-01-07T00:00:00+00:00",
          "2024-01-08T00:00:00+00:00",
          "2024-01-09T00:00:00+00:00",
          "2024-01-10T00:00:00+00:00",
          "2024-01-11T00:00:00+00:00",
          "2024-01-12T00:00:00+00:00",
          "2024-01-13T00:00:00+00:00",
          "2024-01-14T00:00:00+00:00",
          "2024-01-15T00:00:00+00:00",
          "2024-01-16T00:00:00+00:00",
          "2024-01-17T00:00:00+00:00",
          "2024-01-18T00:00:00+00:00",
          "2024-01-19T00:00:00+00:00",
          "2024-01-20T00:00:00+00:00",
          "2024-01-21T00:00:00+00:00",
          "2024-01-22T00:00:00+00:00",
          "2024-01-23T00:00:00+00:00",
          "2024-01-24T00:00:00+00:00",
          "2024-01-25T00:00:00+00:00",
          "2024-01-26T00:00:00+00:00",
          "2024-01-27T00:00:00+00:00",
          "2024-01-28T00:00:00+00:00",
          "2024-01-29T00:00:00+00:00",
          "2024-01-30T00:00:00+00:00",
          "2024-01-31T00:00:00+00:00",
          "2024-02-01T00:00:00+00:00",
          "2024-02-02T00:00:00+00:00",
          "2024-02-03T00:00:00+00:00",
          "2024-02-04T00:00:00+00:00",
          "2024-02-05T00:00:00+00:00",
          "2024-02-06T00:00:00+00:00",
          "2024-02-07T00:00:00+00:00",
          "2024-02-08T00:00:00+00:00",
          "2024-02-09T00:00:00+00:00",
          "2024-02-10T00:00:00+00:00",
          "2024-02-11T00:00:00+00:00",
          "2024-02-12T00:00:00+00:00",
          "2024-02-13T00:00:00+00:00",
          "2024-02-14T00:00:00+00:00",
          "2024-02-15T00:00:00+00:00",
          "2024-02-16T00:00:00+00:00",
          "2024-02-17T00:00:00+00:00",
          "2024-02-18T00:00:00+00:00",
          "2024-02-19T00:00:00+00:00",
          "2024-02-20T00:00:00+00:00",
          "2024-02-21T00:00:00+00:00",
          "2024-02-22T00:00:00+00:00",
          "2024-02-23T00:00:00+00:00",
          "2024-02-24T00:00:00+00:00",
          "2024-02-25T00:00:00+00:00",
          "2024-02-26T00:00:00+00:00",
          "2024-02-27T00:00:00+00:00",
          "2024-02-28T00:00:00+00:00",
          "2024-02-29T00:00:00+00:00",
          "2024-03-01T00:00:00+00:00",
          "2024-03-02T00:00:00+00:00",
          "2024-03-03T00:00:00+00:00",
          "2024-03-04T00:00:00+00:00",
          "2024-03-05T00:00:00+00:00",
          "2024-03-06T00:00:00+00:00",
          "2024-03-07T00:00:00+00:00",
          "2024-03-08T00:00:00+00:00",
          "2024-03-09T00:00:00+00:00",
          "2024-03-10T00:00:00+00:00",
          "2024-03-11T00:00:00+00:00",
          "2024-03-12T00:00:00+00:00",
          "2024-03-13T00:00:00+00:00",
          "2024-03-14T00:00:00+00:00",
          "2024-03-15T00:00:00+00:00",
          "2024-03-16T00:00:00+00:00",
          "2024-03-17T00:00:00+00:00",
          "2024-03-18T00:00:00+00:00",
          "2024-03-19T00:00:00+00:00",
          "2024-03-20T00:00:00+00:00",
          "2024-03-21T00:00:00+00:00",
          "2024-03-22T00:00:00+00:00",
          "2024-03-23T00:00:00+00:00",
          "2024-03-24T00:00:00+00:00",
          "2024-03-25T00:00:00+00:00",
          "2024-03-26T00:00:00+00:00",
          "2024-03-27T00:00:00+00:00",
          "2024-03-28T00:00:00+00:00",
          "2024-03-29T00:00:00+00:00",
          "2024-03-30T00:00:00+00:00",
          "2024-03-31T00:00:00+00:00",
          "2024-04-01T00:00:00+00:00",
          "2024-04-02T00:00:00+00:00",
          "2024-04-03T00:00:00+00:00",
          "2024-04-04T00:00:00+00:00",
          "2024-04-05T00:00:00+00:00",
          "2024-04-06T00:00:00+00:00",
          "2024-04-07T00:00:00+00:00",
          "2024-04-08T00:00:00+00:00",
          "2024-04-09T00:00:00+00:00",
          "2024-04-10T00:00:00+00:00",
          "2024-04-11T00:00:00+00:00",
          "2024-04-12T00:00:00+00:00",
          "2024-04-13T00:00:00+00:00",
          "2024-04-14T00:00:00+00:00",
          "2024-04-15T00:00:00+00:00",
          "2024-04-16T00:00:00+00:00",
          "2024-04-17T00:00:00+00:00",
          "2024-04-18T00:00:00+00:00",
          "2024-04-19T00:00:00+00:00",
          "2024-04-20T00:00:00+00:00",
          "2024-04-21T00:00:00+00:00",
          "2024-04-22T00:00:00+00:00",
          "2024-04-23T00:00:00+00:00",
          "2024-04-24T00:00:00+00:00",
          "2024-04-25T00:00:00+00:00",
          "2024-04-26T00:00:00+00:00",
          "2024-04-27T00:00:00+00:00",
          "2024-04-28T00:00:00+00:00",
          "2024-04-29T00:00:00+00:00",
          "2024-04-30T00:00:00+00:00",
          "2024-05-01T00:00:00+00:00",
          "2024-05-02T00:00:00+00:00",
          "2024-05-03T00:00:00+00:00",
          "2024-05-04T00:00:00+00:00",
          "2024-05-05T00:00:00+00:00",
          "2024-05-06T00:00:00+00:00",
          "2024-05-07T00:00:00+00:00",
          "2024-05-08T00:00:00+00:00",
          "2024-05-09T00:00:00+00:00",
          "2024-05-10T00:00:00+00:00",
          "2024-05-11T00:00:00+00:00",
          "2024-05-12T00:00:00+00:00",
          "2024-05-13T00:00:00+00:00",
          "2024-05-14T00:00:00+00:00",
          "2024-05-15T00:00:00+00:00",
          "2024-05-16T00:00:00+00:00",
          "2024-05-17T00:00:00+00:00",
          "2024-05-18T00:00:00+00:00",
          "2024-05-19T00:00:00+00:00",
          "2024-05-20T00:00:00+00:00",
          "2024-05-21T00:00:00+00:00",
          "2024-05-22T00:00:00+00:00"
         ],
         "xaxis": "x",
         "y": [
          null,
          -0.010732840527506449,
          0.0015000030398368835,
          0.0022916669646898535,
          0.06637499729792284,
          0.11429166545470548,
          0.0008333424727122729,
          -0.028916674355665917,
          -0.009749998648961311,
          0.0489583363135655,
          0.04833332697550463,
          0.013000006477038029,
          0.0087499966224035,
          0.08895832796891523,
          0.28483334432045615,
          0.016833320260047913,
          -0.04687499006589246,
          0.07149999340375257,
          -0.017916664481163025,
          -0.04479165871938062,
          -0.03154167036215472,
          -0.017666677633921157,
          -0.03220832844575261,
          -0.014541675647099739,
          -0.0015000055233638232,
          0.017291679978370667,
          -0.002583324909210205,
          -0.011791671315828811,
          -0.02874998251597094,
          -0.01604168613751722,
          -0.0039166659116744995,
          -0.007583320140838623,
          -0.0035833468039832006,
          0.09495834012826299,
          0.1940833429495492,
          -0.02466667691866542,
          -0.041416674852371216,
          -0.02662499248981476,
          0.04345833261807752,
          0.04125001033147169,
          -0.027083342274029976,
          0.011249999205271477,
          -0.01537499825159716,
          -0.01958334942658735,
          -0.016749997933705796,
          0.002958322564760918,
          0.05262502531210589,
          0.12762499849001552,
          -0.021666665871937996,
          -0.014083330829938179,
          -0.027791668971379746,
          -0.027000005046526443,
          0.0028750052054722364,
          0.0383333216110866,
          -0.0013749897480010986,
          -0.026125003894170273,
          -0.022499998410542732,
          0.054833347598711724,
          0.15474998454252864,
          -0.04741665720939636,
          -0.031000008185704475,
          -0.022624994317690605,
          0.13695833583672856,
          0.21462499598662044,
          0.023333340883255005,
          -0.044041673342386733,
          -0.048041661580403794,
          -0.025375013550122505,
          -0.015333344539006477,
          -0.0245833148558936,
          -0.02508333822091413,
          -0.013833343982696533,
          0.006500015656153435,
          0.13395833472410823,
          -0.0483750055233636,
          -0.04437500238418579,
          -0.02175000309944153,
          -0.020458340644836426,
          -0.02241664131482457,
          -0.015875016649564033,
          -0.019958337148030525,
          -0.006999999284744263,
          -0.013208329677581787,
          -0.012499993046124924,
          0.13266667226950335,
          0.027374987800915962,
          0.0023750017086665576,
          -0.029249995946884155,
          0.002958322564760918,
          0.0718333373467126,
          -0.04895831644535065,
          0.007749974727630615,
          -0.031749988595644485,
          -0.01341666777928685,
          -0.04525000353654218,
          -0.026791661977767944,
          0.031874994436899895,
          0.10537500182787563,
          -0.022874991099039566,
          -0.03700000047683716,
          -0.010875001549720764,
          -0.011124998331069946,
          -0.03604167203108477,
          -0.04333332180976868,
          -0.04041668772697449,
          -0.04887499411900831,
          0.22341668605804443,
          0.09224998950958252,
          -0.06833333770434069,
          -0.013541648785273308,
          0.029416650533676147,
          -0.05404166380564357,
          -0.04145834346612309,
          -0.05383332570393873,
          -0.0320416589577992,
          -0.050666674971580505,
          0.09337500234444929,
          0.07016666730244947,
          0.027208333214124192,
          0.01199999451637268,
          -0.03074999650319432,
          -0.025333330035209656,
          0.0595833410819373,
          -0.05733334521452593,
          -0.01570831735928846,
          -0.04762503008047747,
          0.0071250200271606445,
          0.0599583238363266,
          0.04241665701071429,
          -0.007583325107892502,
          -0.021083325147628784,
          -0.03291666507720947,
          -0.018625006079673767,
          -0.047791674733161926,
          -0.05812498927116394,
          -0.027749990423520332,
          -0.03983335196971893,
          -0.05937499801317858,
          -0.05849997202555324,
          -0.06416669984658574,
          -0.06554164985815669,
          -0.02745833992958069,
          0.0629000137249629
         ],
         "yaxis": "y2"
        },
        {
         "name": "SNOWDEPTH",
         "opacity": 0.3,
         "type": "scatter",
         "x": [
          "2024-01-01T00:00:00+00:00",
          "2024-01-02T00:00:00+00:00",
          "2024-01-03T00:00:00+00:00",
          "2024-01-04T00:00:00+00:00",
          "2024-01-05T00:00:00+00:00",
          "2024-01-06T00:00:00+00:00",
          "2024-01-07T00:00:00+00:00",
          "2024-01-08T00:00:00+00:00",
          "2024-01-09T00:00:00+00:00",
          "2024-01-10T00:00:00+00:00",
          "2024-01-11T00:00:00+00:00",
          "2024-01-12T00:00:00+00:00",
          "2024-01-13T00:00:00+00:00",
          "2024-01-14T00:00:00+00:00",
          "2024-01-15T00:00:00+00:00",
          "2024-01-16T00:00:00+00:00",
          "2024-01-17T00:00:00+00:00",
          "2024-01-18T00:00:00+00:00",
          "2024-01-19T00:00:00+00:00",
          "2024-01-20T00:00:00+00:00",
          "2024-01-21T00:00:00+00:00",
          "2024-01-22T00:00:00+00:00",
          "2024-01-23T00:00:00+00:00",
          "2024-01-24T00:00:00+00:00",
          "2024-01-25T00:00:00+00:00",
          "2024-01-26T00:00:00+00:00",
          "2024-01-27T00:00:00+00:00",
          "2024-01-28T00:00:00+00:00",
          "2024-01-29T00:00:00+00:00",
          "2024-01-30T00:00:00+00:00",
          "2024-01-31T00:00:00+00:00",
          "2024-02-01T00:00:00+00:00",
          "2024-02-02T00:00:00+00:00",
          "2024-02-03T00:00:00+00:00",
          "2024-02-04T00:00:00+00:00",
          "2024-02-05T00:00:00+00:00",
          "2024-02-06T00:00:00+00:00",
          "2024-02-07T00:00:00+00:00",
          "2024-02-08T00:00:00+00:00",
          "2024-02-09T00:00:00+00:00",
          "2024-02-10T00:00:00+00:00",
          "2024-02-11T00:00:00+00:00",
          "2024-02-12T00:00:00+00:00",
          "2024-02-13T00:00:00+00:00",
          "2024-02-14T00:00:00+00:00",
          "2024-02-15T00:00:00+00:00",
          "2024-02-16T00:00:00+00:00",
          "2024-02-17T00:00:00+00:00",
          "2024-02-18T00:00:00+00:00",
          "2024-02-19T00:00:00+00:00",
          "2024-02-20T00:00:00+00:00",
          "2024-02-21T00:00:00+00:00",
          "2024-02-22T00:00:00+00:00",
          "2024-02-23T00:00:00+00:00",
          "2024-02-24T00:00:00+00:00",
          "2024-02-25T00:00:00+00:00",
          "2024-02-26T00:00:00+00:00",
          "2024-02-27T00:00:00+00:00",
          "2024-02-28T00:00:00+00:00",
          "2024-02-29T00:00:00+00:00",
          "2024-03-01T00:00:00+00:00",
          "2024-03-02T00:00:00+00:00",
          "2024-03-03T00:00:00+00:00",
          "2024-03-04T00:00:00+00:00",
          "2024-03-05T00:00:00+00:00",
          "2024-03-06T00:00:00+00:00",
          "2024-03-07T00:00:00+00:00",
          "2024-03-08T00:00:00+00:00",
          "2024-03-09T00:00:00+00:00",
          "2024-03-10T00:00:00+00:00",
          "2024-03-11T00:00:00+00:00",
          "2024-03-12T00:00:00+00:00",
          "2024-03-13T00:00:00+00:00",
          "2024-03-14T00:00:00+00:00",
          "2024-03-15T00:00:00+00:00",
          "2024-03-16T00:00:00+00:00",
          "2024-03-17T00:00:00+00:00",
          "2024-03-18T00:00:00+00:00",
          "2024-03-19T00:00:00+00:00",
          "2024-03-20T00:00:00+00:00",
          "2024-03-21T00:00:00+00:00",
          "2024-03-22T00:00:00+00:00",
          "2024-03-23T00:00:00+00:00",
          "2024-03-24T00:00:00+00:00",
          "2024-03-25T00:00:00+00:00",
          "2024-03-26T00:00:00+00:00",
          "2024-03-27T00:00:00+00:00",
          "2024-03-28T00:00:00+00:00",
          "2024-03-29T00:00:00+00:00",
          "2024-03-30T00:00:00+00:00",
          "2024-03-31T00:00:00+00:00",
          "2024-04-01T00:00:00+00:00",
          "2024-04-02T00:00:00+00:00",
          "2024-04-03T00:00:00+00:00",
          "2024-04-04T00:00:00+00:00",
          "2024-04-05T00:00:00+00:00",
          "2024-04-06T00:00:00+00:00",
          "2024-04-07T00:00:00+00:00",
          "2024-04-08T00:00:00+00:00",
          "2024-04-09T00:00:00+00:00",
          "2024-04-10T00:00:00+00:00",
          "2024-04-11T00:00:00+00:00",
          "2024-04-12T00:00:00+00:00",
          "2024-04-13T00:00:00+00:00",
          "2024-04-14T00:00:00+00:00",
          "2024-04-15T00:00:00+00:00",
          "2024-04-16T00:00:00+00:00",
          "2024-04-17T00:00:00+00:00",
          "2024-04-18T00:00:00+00:00",
          "2024-04-19T00:00:00+00:00",
          "2024-04-20T00:00:00+00:00",
          "2024-04-21T00:00:00+00:00",
          "2024-04-22T00:00:00+00:00",
          "2024-04-23T00:00:00+00:00",
          "2024-04-24T00:00:00+00:00",
          "2024-04-25T00:00:00+00:00",
          "2024-04-26T00:00:00+00:00",
          "2024-04-27T00:00:00+00:00",
          "2024-04-28T00:00:00+00:00",
          "2024-04-29T00:00:00+00:00",
          "2024-04-30T00:00:00+00:00",
          "2024-05-01T00:00:00+00:00",
          "2024-05-02T00:00:00+00:00",
          "2024-05-03T00:00:00+00:00",
          "2024-05-04T00:00:00+00:00",
          "2024-05-05T00:00:00+00:00",
          "2024-05-06T00:00:00+00:00",
          "2024-05-07T00:00:00+00:00",
          "2024-05-08T00:00:00+00:00",
          "2024-05-09T00:00:00+00:00",
          "2024-05-10T00:00:00+00:00",
          "2024-05-11T00:00:00+00:00",
          "2024-05-12T00:00:00+00:00",
          "2024-05-13T00:00:00+00:00",
          "2024-05-14T00:00:00+00:00",
          "2024-05-15T00:00:00+00:00",
          "2024-05-16T00:00:00+00:00",
          "2024-05-17T00:00:00+00:00",
          "2024-05-18T00:00:00+00:00",
          "2024-05-19T00:00:00+00:00",
          "2024-05-20T00:00:00+00:00",
          "2024-05-21T00:00:00+00:00",
          "2024-05-22T00:00:00+00:00"
         ],
         "xaxis": "x",
         "y": [
          0.6159411703839022,
          0.6052083298563957,
          0.6067083328962326,
          0.6089999998609225,
          0.6753749971588453,
          0.7896666626135508,
          0.7905000050862631,
          0.7615833307305971,
          0.7518333320816358,
          0.8007916683952013,
          0.849124995370706,
          0.862125001847744,
          0.8708749984701475,
          0.9598333264390627,
          1.2446666707595189,
          1.2614999910195668,
          1.2146250009536743,
          1.2861249943574269,
          1.2682083298762639,
          1.2234166711568832,
          1.1918750007947285,
          1.1742083231608074,
          1.1419999947150548,
          1.127458319067955,
          1.1259583135445912,
          1.1432499935229619,
          1.1406666686137517,
          1.1288749972979228,
          1.100125014781952,
          1.0840833286444347,
          1.0801666627327602,
          1.0725833425919216,
          1.0689999957879384,
          1.1639583359162013,
          1.3580416788657506,
          1.3333750019470851,
          1.291958327094714,
          1.2653333346048992,
          1.3087916672229767,
          1.3500416775544484,
          1.3229583352804184,
          1.3342083344856899,
          1.3188333362340927,
          1.2992499868075054,
          1.2824999888737996,
          1.2854583114385605,
          1.3380833367506664,
          1.465708335240682,
          1.444041669368744,
          1.4299583385388057,
          1.402166669567426,
          1.3751666645208995,
          1.3780416697263718,
          1.4163749913374584,
          1.4150000015894573,
          1.388874997695287,
          1.3663749992847443,
          1.421208346883456,
          1.5759583314259846,
          1.5285416742165883,
          1.4975416660308838,
          1.4749166717131932,
          1.6118750075499217,
          1.8265000035365422,
          1.8498333444197972,
          1.8057916710774105,
          1.7577500094970067,
          1.7323749959468842,
          1.7170416514078777,
          1.692458336551984,
          1.66737499833107,
          1.6535416543483734,
          1.6600416700045268,
          1.794000004728635,
          1.7456249992052715,
          1.7012499968210857,
          1.6794999937216442,
          1.6590416530768077,
          1.6366250117619832,
          1.6207499951124191,
          1.6007916579643886,
          1.5937916586796443,
          1.5805833290020626,
          1.5680833359559376,
          1.700750008225441,
          1.728124996026357,
          1.7304999977350235,
          1.7012500017881393,
          1.7042083243529003,
          1.7760416616996129,
          1.7270833452542622,
          1.7348333199818928,
          1.7030833313862483,
          1.6896666636069615,
          1.6444166600704193,
          1.6176249980926514,
          1.6494999925295513,
          1.7548749943574269,
          1.7320000032583873,
          1.6950000027815502,
          1.6841250012318294,
          1.6730000029007595,
          1.6369583308696747,
          1.593625009059906,
          1.5532083213329315,
          1.5043333272139232,
          1.7277500132719676,
          1.8200000027815502,
          1.7516666650772095,
          1.7381250162919362,
          1.7675416668256123,
          1.7135000030199687,
          1.6720416595538456,
          1.618208333849907,
          1.5861666748921077,
          1.5354999999205272,
          1.6288750022649765,
          1.699041669567426,
          1.7262500027815502,
          1.7382499972979228,
          1.7075000007947285,
          1.6821666707595189,
          1.7417500118414562,
          1.6844166666269302,
          1.6687083492676418,
          1.6210833191871643,
          1.628208339214325,
          1.6881666630506516,
          1.7305833200613658,
          1.7229999949534733,
          1.7019166698058446,
          1.669000004728635,
          1.6503749986489613,
          1.6025833239157994,
          1.5444583346446354,
          1.5167083442211151,
          1.4768749922513962,
          1.4174999942382176,
          1.3590000222126644,
          1.2948333223660786,
          1.229291672507922,
          1.2018333325783412,
          1.2647333463033041
         ],
         "yaxis": "y2"
        }
       ],
       "layout": {
        "autosize": true,
        "template": {
         "data": {
          "bar": [
           {
            "error_x": {
             "color": "#2a3f5f"
            },
            "error_y": {
             "color": "#2a3f5f"
            },
            "marker": {
             "line": {
              "color": "#E5ECF6",
              "width": 0.5
             },
             "pattern": {
              "fillmode": "overlay",
              "size": 10,
              "solidity": 0.2
             }
            },
            "type": "bar"
           }
          ],
          "barpolar": [
           {
            "marker": {
             "line": {
              "color": "#E5ECF6",
              "width": 0.5
             },
             "pattern": {
              "fillmode": "overlay",
              "size": 10,
              "solidity": 0.2
             }
            },
            "type": "barpolar"
           }
          ],
          "carpet": [
           {
            "aaxis": {
             "endlinecolor": "#2a3f5f",
             "gridcolor": "white",
             "linecolor": "white",
             "minorgridcolor": "white",
             "startlinecolor": "#2a3f5f"
            },
            "baxis": {
             "endlinecolor": "#2a3f5f",
             "gridcolor": "white",
             "linecolor": "white",
             "minorgridcolor": "white",
             "startlinecolor": "#2a3f5f"
            },
            "type": "carpet"
           }
          ],
          "choropleth": [
           {
            "colorbar": {
             "outlinewidth": 0,
             "ticks": ""
            },
            "type": "choropleth"
           }
          ],
          "contour": [
           {
            "colorbar": {
             "outlinewidth": 0,
             "ticks": ""
            },
            "colorscale": [
             [
              0,
              "#0d0887"
             ],
             [
              0.1111111111111111,
              "#46039f"
             ],
             [
              0.2222222222222222,
              "#7201a8"
             ],
             [
              0.3333333333333333,
              "#9c179e"
             ],
             [
              0.4444444444444444,
              "#bd3786"
             ],
             [
              0.5555555555555556,
              "#d8576b"
             ],
             [
              0.6666666666666666,
              "#ed7953"
             ],
             [
              0.7777777777777778,
              "#fb9f3a"
             ],
             [
              0.8888888888888888,
              "#fdca26"
             ],
             [
              1,
              "#f0f921"
             ]
            ],
            "type": "contour"
           }
          ],
          "contourcarpet": [
           {
            "colorbar": {
             "outlinewidth": 0,
             "ticks": ""
            },
            "type": "contourcarpet"
           }
          ],
          "heatmap": [
           {
            "colorbar": {
             "outlinewidth": 0,
             "ticks": ""
            },
            "colorscale": [
             [
              0,
              "#0d0887"
             ],
             [
              0.1111111111111111,
              "#46039f"
             ],
             [
              0.2222222222222222,
              "#7201a8"
             ],
             [
              0.3333333333333333,
              "#9c179e"
             ],
             [
              0.4444444444444444,
              "#bd3786"
             ],
             [
              0.5555555555555556,
              "#d8576b"
             ],
             [
              0.6666666666666666,
              "#ed7953"
             ],
             [
              0.7777777777777778,
              "#fb9f3a"
             ],
             [
              0.8888888888888888,
              "#fdca26"
             ],
             [
              1,
              "#f0f921"
             ]
            ],
            "type": "heatmap"
           }
          ],
          "heatmapgl": [
           {
            "colorbar": {
             "outlinewidth": 0,
             "ticks": ""
            },
            "colorscale": [
             [
              0,
              "#0d0887"
             ],
             [
              0.1111111111111111,
              "#46039f"
             ],
             [
              0.2222222222222222,
              "#7201a8"
             ],
             [
              0.3333333333333333,
              "#9c179e"
             ],
             [
              0.4444444444444444,
              "#bd3786"
             ],
             [
              0.5555555555555556,
              "#d8576b"
             ],
             [
              0.6666666666666666,
              "#ed7953"
             ],
             [
              0.7777777777777778,
              "#fb9f3a"
             ],
             [
              0.8888888888888888,
              "#fdca26"
             ],
             [
              1,
              "#f0f921"
             ]
            ],
            "type": "heatmapgl"
           }
          ],
          "histogram": [
           {
            "marker": {
             "pattern": {
              "fillmode": "overlay",
              "size": 10,
              "solidity": 0.2
             }
            },
            "type": "histogram"
           }
          ],
          "histogram2d": [
           {
            "colorbar": {
             "outlinewidth": 0,
             "ticks": ""
            },
            "colorscale": [
             [
              0,
              "#0d0887"
             ],
             [
              0.1111111111111111,
              "#46039f"
             ],
             [
              0.2222222222222222,
              "#7201a8"
             ],
             [
              0.3333333333333333,
              "#9c179e"
             ],
             [
              0.4444444444444444,
              "#bd3786"
             ],
             [
              0.5555555555555556,
              "#d8576b"
             ],
             [
              0.6666666666666666,
              "#ed7953"
             ],
             [
              0.7777777777777778,
              "#fb9f3a"
             ],
             [
              0.8888888888888888,
              "#fdca26"
             ],
             [
              1,
              "#f0f921"
             ]
            ],
            "type": "histogram2d"
           }
          ],
          "histogram2dcontour": [
           {
            "colorbar": {
             "outlinewidth": 0,
             "ticks": ""
            },
            "colorscale": [
             [
              0,
              "#0d0887"
             ],
             [
              0.1111111111111111,
              "#46039f"
             ],
             [
              0.2222222222222222,
              "#7201a8"
             ],
             [
              0.3333333333333333,
              "#9c179e"
             ],
             [
              0.4444444444444444,
              "#bd3786"
             ],
             [
              0.5555555555555556,
              "#d8576b"
             ],
             [
              0.6666666666666666,
              "#ed7953"
             ],
             [
              0.7777777777777778,
              "#fb9f3a"
             ],
             [
              0.8888888888888888,
              "#fdca26"
             ],
             [
              1,
              "#f0f921"
             ]
            ],
            "type": "histogram2dcontour"
           }
          ],
          "mesh3d": [
           {
            "colorbar": {
             "outlinewidth": 0,
             "ticks": ""
            },
            "type": "mesh3d"
           }
          ],
          "parcoords": [
           {
            "line": {
             "colorbar": {
              "outlinewidth": 0,
              "ticks": ""
             }
            },
            "type": "parcoords"
           }
          ],
          "pie": [
           {
            "automargin": true,
            "type": "pie"
           }
          ],
          "scatter": [
           {
            "fillpattern": {
             "fillmode": "overlay",
             "size": 10,
             "solidity": 0.2
            },
            "type": "scatter"
           }
          ],
          "scatter3d": [
           {
            "line": {
             "colorbar": {
              "outlinewidth": 0,
              "ticks": ""
             }
            },
            "marker": {
             "colorbar": {
              "outlinewidth": 0,
              "ticks": ""
             }
            },
            "type": "scatter3d"
           }
          ],
          "scattercarpet": [
           {
            "marker": {
             "colorbar": {
              "outlinewidth": 0,
              "ticks": ""
             }
            },
            "type": "scattercarpet"
           }
          ],
          "scattergeo": [
           {
            "marker": {
             "colorbar": {
              "outlinewidth": 0,
              "ticks": ""
             }
            },
            "type": "scattergeo"
           }
          ],
          "scattergl": [
           {
            "marker": {
             "colorbar": {
              "outlinewidth": 0,
              "ticks": ""
             }
            },
            "type": "scattergl"
           }
          ],
          "scattermapbox": [
           {
            "marker": {
             "colorbar": {
              "outlinewidth": 0,
              "ticks": ""
             }
            },
            "type": "scattermapbox"
           }
          ],
          "scatterpolar": [
           {
            "marker": {
             "colorbar": {
              "outlinewidth": 0,
              "ticks": ""
             }
            },
            "type": "scatterpolar"
           }
          ],
          "scatterpolargl": [
           {
            "marker": {
             "colorbar": {
              "outlinewidth": 0,
              "ticks": ""
             }
            },
            "type": "scatterpolargl"
           }
          ],
          "scatterternary": [
           {
            "marker": {
             "colorbar": {
              "outlinewidth": 0,
              "ticks": ""
             }
            },
            "type": "scatterternary"
           }
          ],
          "surface": [
           {
            "colorbar": {
             "outlinewidth": 0,
             "ticks": ""
            },
            "colorscale": [
             [
              0,
              "#0d0887"
             ],
             [
              0.1111111111111111,
              "#46039f"
             ],
             [
              0.2222222222222222,
              "#7201a8"
             ],
             [
              0.3333333333333333,
              "#9c179e"
             ],
             [
              0.4444444444444444,
              "#bd3786"
             ],
             [
              0.5555555555555556,
              "#d8576b"
             ],
             [
              0.6666666666666666,
              "#ed7953"
             ],
             [
              0.7777777777777778,
              "#fb9f3a"
             ],
             [
              0.8888888888888888,
              "#fdca26"
             ],
             [
              1,
              "#f0f921"
             ]
            ],
            "type": "surface"
           }
          ],
          "table": [
           {
            "cells": {
             "fill": {
              "color": "#EBF0F8"
             },
             "line": {
              "color": "white"
             }
            },
            "header": {
             "fill": {
              "color": "#C8D4E3"
             },
             "line": {
              "color": "white"
             }
            },
            "type": "table"
           }
          ]
         },
         "layout": {
          "annotationdefaults": {
           "arrowcolor": "#2a3f5f",
           "arrowhead": 0,
           "arrowwidth": 1
          },
          "autotypenumbers": "strict",
          "coloraxis": {
           "colorbar": {
            "outlinewidth": 0,
            "ticks": ""
           }
          },
          "colorscale": {
           "diverging": [
            [
             0,
             "#8e0152"
            ],
            [
             0.1,
             "#c51b7d"
            ],
            [
             0.2,
             "#de77ae"
            ],
            [
             0.3,
             "#f1b6da"
            ],
            [
             0.4,
             "#fde0ef"
            ],
            [
             0.5,
             "#f7f7f7"
            ],
            [
             0.6,
             "#e6f5d0"
            ],
            [
             0.7,
             "#b8e186"
            ],
            [
             0.8,
             "#7fbc41"
            ],
            [
             0.9,
             "#4d9221"
            ],
            [
             1,
             "#276419"
            ]
           ],
           "sequential": [
            [
             0,
             "#0d0887"
            ],
            [
             0.1111111111111111,
             "#46039f"
            ],
            [
             0.2222222222222222,
             "#7201a8"
            ],
            [
             0.3333333333333333,
             "#9c179e"
            ],
            [
             0.4444444444444444,
             "#bd3786"
            ],
            [
             0.5555555555555556,
             "#d8576b"
            ],
            [
             0.6666666666666666,
             "#ed7953"
            ],
            [
             0.7777777777777778,
             "#fb9f3a"
            ],
            [
             0.8888888888888888,
             "#fdca26"
            ],
            [
             1,
             "#f0f921"
            ]
           ],
           "sequentialminus": [
            [
             0,
             "#0d0887"
            ],
            [
             0.1111111111111111,
             "#46039f"
            ],
            [
             0.2222222222222222,
             "#7201a8"
            ],
            [
             0.3333333333333333,
             "#9c179e"
            ],
            [
             0.4444444444444444,
             "#bd3786"
            ],
            [
             0.5555555555555556,
             "#d8576b"
            ],
            [
             0.6666666666666666,
             "#ed7953"
            ],
            [
             0.7777777777777778,
             "#fb9f3a"
            ],
            [
             0.8888888888888888,
             "#fdca26"
            ],
            [
             1,
             "#f0f921"
            ]
           ]
          },
          "colorway": [
           "#636efa",
           "#EF553B",
           "#00cc96",
           "#ab63fa",
           "#FFA15A",
           "#19d3f3",
           "#FF6692",
           "#B6E880",
           "#FF97FF",
           "#FECB52"
          ],
          "font": {
           "color": "#2a3f5f"
          },
          "geo": {
           "bgcolor": "white",
           "lakecolor": "white",
           "landcolor": "#E5ECF6",
           "showlakes": true,
           "showland": true,
           "subunitcolor": "white"
          },
          "hoverlabel": {
           "align": "left"
          },
          "hovermode": "closest",
          "mapbox": {
           "style": "light"
          },
          "paper_bgcolor": "white",
          "plot_bgcolor": "#E5ECF6",
          "polar": {
           "angularaxis": {
            "gridcolor": "white",
            "linecolor": "white",
            "ticks": ""
           },
           "bgcolor": "#E5ECF6",
           "radialaxis": {
            "gridcolor": "white",
            "linecolor": "white",
            "ticks": ""
           }
          },
          "scene": {
           "xaxis": {
            "backgroundcolor": "#E5ECF6",
            "gridcolor": "white",
            "gridwidth": 2,
            "linecolor": "white",
            "showbackground": true,
            "ticks": "",
            "zerolinecolor": "white"
           },
           "yaxis": {
            "backgroundcolor": "#E5ECF6",
            "gridcolor": "white",
            "gridwidth": 2,
            "linecolor": "white",
            "showbackground": true,
            "ticks": "",
            "zerolinecolor": "white"
           },
           "zaxis": {
            "backgroundcolor": "#E5ECF6",
            "gridcolor": "white",
            "gridwidth": 2,
            "linecolor": "white",
            "showbackground": true,
            "ticks": "",
            "zerolinecolor": "white"
           }
          },
          "shapedefaults": {
           "line": {
            "color": "#2a3f5f"
           }
          },
          "ternary": {
           "aaxis": {
            "gridcolor": "white",
            "linecolor": "white",
            "ticks": ""
           },
           "baxis": {
            "gridcolor": "white",
            "linecolor": "white",
            "ticks": ""
           },
           "bgcolor": "#E5ECF6",
           "caxis": {
            "gridcolor": "white",
            "linecolor": "white",
            "ticks": ""
           }
          },
          "title": {
           "x": 0.05
          },
          "xaxis": {
           "automargin": true,
           "gridcolor": "white",
           "linecolor": "white",
           "ticks": "",
           "title": {
            "standoff": 15
           },
           "zerolinecolor": "white",
           "zerolinewidth": 2
          },
          "yaxis": {
           "automargin": true,
           "gridcolor": "white",
           "linecolor": "white",
           "ticks": "",
           "title": {
            "standoff": 15
           },
           "zerolinecolor": "white",
           "zerolinewidth": 2
          }
         }
        },
        "title": {
         "text": "Blue Ridge Meteorological Station NR Fraser"
        },
        "xaxis": {
         "anchor": "y",
         "autorange": true,
         "domain": [
          0,
          0.94
         ],
         "range": [
          "2023-12-23 06:06:01.3296",
          "2024-05-30 17:53:58.6704"
         ],
         "title": {
          "text": "Date"
         },
         "type": "date"
        },
        "yaxis": {
         "anchor": "x",
         "domain": [
          0,
          1
         ],
         "range": [
          0.25,
          1
         ],
         "tickfont": {
          "color": "blue"
         },
         "tickvals": [
          0.25,
          0.5,
          0.75,
          1
         ],
         "title": {
          "font": {
           "color": "blue"
          },
          "text": "Unitless"
         },
         "type": "linear"
        },
        "yaxis2": {
         "anchor": "x",
         "autorange": true,
         "overlaying": "y",
         "range": [
          -0.22287757275699635,
          1.95892339269226
         ],
         "side": "right",
         "tickfont": {
          "color": "red"
         },
         "title": {
          "font": {
           "color": "red"
          },
          "text": "[m]"
         },
         "type": "linear"
        }
       }
      },
      "image/png": "[encoded data removed]",
      "text/html": [
       "<div>                            <div id=\"8e932625-1536-4d9a-9f1f-5fdfdf03a58c\" class=\"plotly-graph-div\" style=\"height:525px; width:100%;\"></div>            <script type=\"text/javascript\">                require([\"plotly\"], function(Plotly) {                    window.PLOTLYENV=window.PLOTLYENV || {};                                    if (document.getElementById(\"8e932625-1536-4d9a-9f1f-5fdfdf03a58c\")) {                    Plotly.newPlot(                        \"8e932625-1536-4d9a-9f1f-5fdfdf03a58c\",                        [{\"name\":\"ALBEDO\",\"x\":[\"2024-01-01T00:00:00+00:00\",\"2024-01-02T00:00:00+00:00\",\"2024-01-03T00:00:00+00:00\",\"2024-01-04T00:00:00+00:00\",\"2024-01-05T00:00:00+00:00\",\"2024-01-06T00:00:00+00:00\",\"2024-01-07T00:00:00+00:00\",\"2024-01-08T00:00:00+00:00\",\"2024-01-09T00:00:00+00:00\",\"2024-01-10T00:00:00+00:00\",\"2024-01-11T00:00:00+00:00\",\"2024-01-12T00:00:00+00:00\",\"2024-01-13T00:00:00+00:00\",\"2024-01-14T00:00:00+00:00\",\"2024-01-15T00:00:00+00:00\",\"2024-01-16T00:00:00+00:00\",\"2024-01-17T00:00:00+00:00\",\"2024-01-18T00:00:00+00:00\",\"2024-01-19T00:00:00+00:00\",\"2024-01-20T00:00:00+00:00\",\"2024-01-21T00:00:00+00:00\",\"2024-01-22T00:00:00+00:00\",\"2024-01-23T00:00:00+00:00\",\"2024-01-24T00:00:00+00:00\",\"2024-01-25T00:00:00+00:00\",\"2024-01-26T00:00:00+00:00\",\"2024-01-27T00:00:00+00:00\",\"2024-01-28T00:00:00+00:00\",\"2024-01-29T00:00:00+00:00\",\"2024-01-30T00:00:00+00:00\",\"2024-01-31T00:00:00+00:00\",\"2024-02-01T00:00:00+00:00\",\"2024-02-02T00:00:00+00:00\",\"2024-02-03T00:00:00+00:00\",\"2024-02-04T00:00:00+00:00\",\"2024-02-05T00:00:00+00:00\",\"2024-02-06T00:00:00+00:00\",\"2024-02-07T00:00:00+00:00\",\"2024-02-08T00:00:00+00:00\",\"2024-02-09T00:00:00+00:00\",\"2024-02-10T00:00:00+00:00\",\"2024-02-11T00:00:00+00:00\",\"2024-02-12T00:00:00+00:00\",\"2024-02-13T00:00:00+00:00\",\"2024-02-14T00:00:00+00:00\",\"2024-02-15T00:00:00+00:00\",\"2024-02-16T00:00:00+00:00\",\"2024-02-17T00:00:00+00:00\",\"2024-02-18T00:00:00+00:00\",\"2024-02-19T00:00:00+00:00\",\"2024-02-20T00:00:00+00:00\",\"2024-02-21T00:00:00+00:00\",\"2024-02-22T00:00:00+00:00\",\"2024-02-23T00:00:00+00:00\",\"2024-02-24T00:00:00+00:00\",\"2024-02-25T00:00:00+00:00\",\"2024-02-26T00:00:00+00:00\",\"2024-02-27T00:00:00+00:00\",\"2024-02-28T00:00:00+00:00\",\"2024-02-29T00:00:00+00:00\",\"2024-03-01T00:00:00+00:00\",\"2024-03-02T00:00:00+00:00\",\"2024-03-03T00:00:00+00:00\",\"2024-03-04T00:00:00+00:00\",\"2024-03-05T00:00:00+00:00\",\"2024-03-06T00:00:00+00:00\",\"2024-03-07T00:00:00+00:00\",\"2024-03-08T00:00:00+00:00\",\"2024-03-09T00:00:00+00:00\",\"2024-03-10T00:00:00+00:00\",\"2024-03-11T00:00:00+00:00\",\"2024-03-12T00:00:00+00:00\",\"2024-03-13T00:00:00+00:00\",\"2024-03-14T00:00:00+00:00\",\"2024-03-15T00:00:00+00:00\",\"2024-03-16T00:00:00+00:00\",\"2024-03-17T00:00:00+00:00\",\"2024-03-18T00:00:00+00:00\",\"2024-03-19T00:00:00+00:00\",\"2024-03-20T00:00:00+00:00\",\"2024-03-21T00:00:00+00:00\",\"2024-03-22T00:00:00+00:00\",\"2024-03-23T00:00:00+00:00\",\"2024-03-24T00:00:00+00:00\",\"2024-03-25T00:00:00+00:00\",\"2024-03-26T00:00:00+00:00\",\"2024-03-27T00:00:00+00:00\",\"2024-03-28T00:00:00+00:00\",\"2024-03-29T00:00:00+00:00\",\"2024-03-30T00:00:00+00:00\",\"2024-03-31T00:00:00+00:00\",\"2024-04-01T00:00:00+00:00\",\"2024-04-02T00:00:00+00:00\",\"2024-04-03T00:00:00+00:00\",\"2024-04-04T00:00:00+00:00\",\"2024-04-05T00:00:00+00:00\",\"2024-04-06T00:00:00+00:00\",\"2024-04-07T00:00:00+00:00\",\"2024-04-08T00:00:00+00:00\",\"2024-04-09T00:00:00+00:00\",\"2024-04-10T00:00:00+00:00\",\"2024-04-11T00:00:00+00:00\",\"2024-04-12T00:00:00+00:00\",\"2024-04-13T00:00:00+00:00\",\"2024-04-14T00:00:00+00:00\",\"2024-04-15T00:00:00+00:00\",\"2024-04-16T00:00:00+00:00\",\"2024-04-17T00:00:00+00:00\",\"2024-04-18T00:00:00+00:00\",\"2024-04-19T00:00:00+00:00\",\"2024-04-20T00:00:00+00:00\",\"2024-04-21T00:00:00+00:00\",\"2024-04-22T00:00:00+00:00\",\"2024-04-23T00:00:00+00:00\",\"2024-04-24T00:00:00+00:00\",\"2024-04-25T00:00:00+00:00\",\"2024-04-26T00:00:00+00:00\",\"2024-04-27T00:00:00+00:00\",\"2024-04-28T00:00:00+00:00\",\"2024-04-29T00:00:00+00:00\",\"2024-04-30T00:00:00+00:00\",\"2024-05-01T00:00:00+00:00\",\"2024-05-02T00:00:00+00:00\",\"2024-05-03T00:00:00+00:00\",\"2024-05-04T00:00:00+00:00\",\"2024-05-05T00:00:00+00:00\",\"2024-05-06T00:00:00+00:00\",\"2024-05-07T00:00:00+00:00\",\"2024-05-08T00:00:00+00:00\",\"2024-05-09T00:00:00+00:00\",\"2024-05-10T00:00:00+00:00\",\"2024-05-11T00:00:00+00:00\",\"2024-05-12T00:00:00+00:00\",\"2024-05-13T00:00:00+00:00\",\"2024-05-14T00:00:00+00:00\",\"2024-05-15T00:00:00+00:00\",\"2024-05-16T00:00:00+00:00\",\"2024-05-17T00:00:00+00:00\",\"2024-05-18T00:00:00+00:00\",\"2024-05-19T00:00:00+00:00\",\"2024-05-20T00:00:00+00:00\",\"2024-05-21T00:00:00+00:00\",\"2024-05-22T00:00:00+00:00\"],\"y\":[0.6282821269441731,0.5733020312661534,0.6033322119715501,0.6784820684144912,0.7515879790618374,0.6984424639938616,0.7364351675194745,0.6838360575075074,0.7438754283634876,0.7078032636892133,0.7376139291455419,0.7674299148334078,0.7734844577080587,0.8274015257615939,0.7940390132969529,0.7201567520897757,0.8252608622286352,0.7497510546802237,0.7431198352355068,0.6661591441402472,0.7836562867408843,0.7713577190098818,0.7068682098273239,0.6774393890587871,0.7578310351255181,0.7990675943251626,0.6434136622899822,0.6408052390428215,0.6619315263635472,0.6711833290624634,0.6218831862850722,0.6204077878091044,0.7140525715309599,0.8188992924055695,0.7381078345608251,0.677903563621409,0.7291544289886908,0.7226021080724885,0.7403395099364205,0.6812971415393569,0.7681099442952327,0.7325268447908742,0.7369756412746576,0.6863273296373008,0.7581088525203064,0.7573108250426361,0.8116543924943312,0.7343175186657496,0.8183691356593971,0.7435980473444584,0.8276606426651051,0.7508908066211751,0.7739596273619694,0.7563190260163619,0.7276131045241809,0.7219038689567217,0.7025793533494624,0.763815008291028,0.7588788518660968,0.72915905499424,0.7217314493327488,0.7838437109965604,0.8064236851689892,0.8042022350235718,0.7950518628412019,0.7671845254516177,0.7612011012581064,0.792604115685214,0.7436879558574961,0.7302074928001246,0.7312283322182338,0.7591099228022334,0.8077318638667256,0.768580396818089,0.7671194009142057,0.7214573679793159,0.7229692818200448,0.7132259090766834,0.7009111296174608,0.6932833849149092,0.6841520956464274,0.7249666855104598,0.7092017206589533,0.7475176189112417,0.791463675901946,0.7773692398512511,0.7772020714561035,0.7601926770513457,0.8052529052916853,0.7813871029922077,0.7575228768831924,0.7677826605044067,0.7414122576229721,0.7057042253521127,0.6901504787961698,0.6749548651082475,0.7943622527337941,0.7780878304236526,0.7624865314153236,0.7967221554429742,0.770247194934074,0.7983920154968939,0.7451778662813013,0.6637692398057952,0.6822245131549968,0.6821201390765983,0.8362949807225251,0.7475520534511803,0.7594069810262258,0.7545634318175565,0.7614732479140454,0.68283036583252,0.6946067618835894,0.7671307470186784,0.6376338861768858,0.6366677507024215,0.7472806672393983,0.8586046265540445,0.7966439298782335,0.7684862900552625,0.7439750402289486,0.713070529401463,0.7591919595366784,0.7191158692942129,0.6825293181994824,0.6153428955041721,0.780447508852303,0.819323171283358,0.8142047256194616,0.7920586609944911,0.7491727072545903,0.720232699427666,0.6730510093253363,0.6318947698567453,0.5989457236948554,0.608970871439403,0.566786444003051,0.5531470430201315,0.5389878811377145,0.5339315385270175,0.532648722237007,0.7353871658115606,0.7587248366951143],\"type\":\"scatter\",\"xaxis\":\"x\",\"yaxis\":\"y\"},{\"mode\":\"lines+markers\",\"name\":\"SNOWDEPTH signal\",\"x\":[\"2024-01-01T00:00:00+00:00\",\"2024-01-02T00:00:00+00:00\",\"2024-01-03T00:00:00+00:00\",\"2024-01-04T00:00:00+00:00\",\"2024-01-05T00:00:00+00:00\",\"2024-01-06T00:00:00+00:00\",\"2024-01-07T00:00:00+00:00\",\"2024-01-08T00:00:00+00:00\",\"2024-01-09T00:00:00+00:00\",\"2024-01-10T00:00:00+00:00\",\"2024-01-11T00:00:00+00:00\",\"2024-01-12T00:00:00+00:00\",\"2024-01-13T00:00:00+00:00\",\"2024-01-14T00:00:00+00:00\",\"2024-01-15T00:00:00+00:00\",\"2024-01-16T00:00:00+00:00\",\"2024-01-17T00:00:00+00:00\",\"2024-01-18T00:00:00+00:00\",\"2024-01-19T00:00:00+00:00\",\"2024-01-20T00:00:00+00:00\",\"2024-01-21T00:00:00+00:00\",\"2024-01-22T00:00:00+00:00\",\"2024-01-23T00:00:00+00:00\",\"2024-01-24T00:00:00+00:00\",\"2024-01-25T00:00:00+00:00\",\"2024-01-26T00:00:00+00:00\",\"2024-01-27T00:00:00+00:00\",\"2024-01-28T00:00:00+00:00\",\"2024-01-29T00:00:00+00:00\",\"2024-01-30T00:00:00+00:00\",\"2024-01-31T00:00:00+00:00\",\"2024-02-01T00:00:00+00:00\",\"2024-02-02T00:00:00+00:00\",\"2024-02-03T00:00:00+00:00\",\"2024-02-04T00:00:00+00:00\",\"2024-02-05T00:00:00+00:00\",\"2024-02-06T00:00:00+00:00\",\"2024-02-07T00:00:00+00:00\",\"2024-02-08T00:00:00+00:00\",\"2024-02-09T00:00:00+00:00\",\"2024-02-10T00:00:00+00:00\",\"2024-02-11T00:00:00+00:00\",\"2024-02-12T00:00:00+00:00\",\"2024-02-13T00:00:00+00:00\",\"2024-02-14T00:00:00+00:00\",\"2024-02-15T00:00:00+00:00\",\"2024-02-16T00:00:00+00:00\",\"2024-02-17T00:00:00+00:00\",\"2024-02-18T00:00:00+00:00\",\"2024-02-19T00:00:00+00:00\",\"2024-02-20T00:00:00+00:00\",\"2024-02-21T00:00:00+00:00\",\"2024-02-22T00:00:00+00:00\",\"2024-02-23T00:00:00+00:00\",\"2024-02-24T00:00:00+00:00\",\"2024-02-25T00:00:00+00:00\",\"2024-02-26T00:00:00+00:00\",\"2024-02-27T00:00:00+00:00\",\"2024-02-28T00:00:00+00:00\",\"2024-02-29T00:00:00+00:00\",\"2024-03-01T00:00:00+00:00\",\"2024-03-02T00:00:00+00:00\",\"2024-03-03T00:00:00+00:00\",\"2024-03-04T00:00:00+00:00\",\"2024-03-05T00:00:00+00:00\",\"2024-03-06T00:00:00+00:00\",\"2024-03-07T00:00:00+00:00\",\"2024-03-08T00:00:00+00:00\",\"2024-03-09T00:00:00+00:00\",\"2024-03-10T00:00:00+00:00\",\"2024-03-11T00:00:00+00:00\",\"2024-03-12T00:00:00+00:00\",\"2024-03-13T00:00:00+00:00\",\"2024-03-14T00:00:00+00:00\",\"2024-03-15T00:00:00+00:00\",\"2024-03-16T00:00:00+00:00\",\"2024-03-17T00:00:00+00:00\",\"2024-03-18T00:00:00+00:00\",\"2024-03-19T00:00:00+00:00\",\"2024-03-20T00:00:00+00:00\",\"2024-03-21T00:00:00+00:00\",\"2024-03-22T00:00:00+00:00\",\"2024-03-23T00:00:00+00:00\",\"2024-03-24T00:00:00+00:00\",\"2024-03-25T00:00:00+00:00\",\"2024-03-26T00:00:00+00:00\",\"2024-03-27T00:00:00+00:00\",\"2024-03-28T00:00:00+00:00\",\"2024-03-29T00:00:00+00:00\",\"2024-03-30T00:00:00+00:00\",\"2024-03-31T00:00:00+00:00\",\"2024-04-01T00:00:00+00:00\",\"2024-04-02T00:00:00+00:00\",\"2024-04-03T00:00:00+00:00\",\"2024-04-04T00:00:00+00:00\",\"2024-04-05T00:00:00+00:00\",\"2024-04-06T00:00:00+00:00\",\"2024-04-07T00:00:00+00:00\",\"2024-04-08T00:00:00+00:00\",\"2024-04-09T00:00:00+00:00\",\"2024-04-10T00:00:00+00:00\",\"2024-04-11T00:00:00+00:00\",\"2024-04-12T00:00:00+00:00\",\"2024-04-13T00:00:00+00:00\",\"2024-04-14T00:00:00+00:00\",\"2024-04-15T00:00:00+00:00\",\"2024-04-16T00:00:00+00:00\",\"2024-04-17T00:00:00+00:00\",\"2024-04-18T00:00:00+00:00\",\"2024-04-19T00:00:00+00:00\",\"2024-04-20T00:00:00+00:00\",\"2024-04-21T00:00:00+00:00\",\"2024-04-22T00:00:00+00:00\",\"2024-04-23T00:00:00+00:00\",\"2024-04-24T00:00:00+00:00\",\"2024-04-25T00:00:00+00:00\",\"2024-04-26T00:00:00+00:00\",\"2024-04-27T00:00:00+00:00\",\"2024-04-28T00:00:00+00:00\",\"2024-04-29T00:00:00+00:00\",\"2024-04-30T00:00:00+00:00\",\"2024-05-01T00:00:00+00:00\",\"2024-05-02T00:00:00+00:00\",\"2024-05-03T00:00:00+00:00\",\"2024-05-04T00:00:00+00:00\",\"2024-05-05T00:00:00+00:00\",\"2024-05-06T00:00:00+00:00\",\"2024-05-07T00:00:00+00:00\",\"2024-05-08T00:00:00+00:00\",\"2024-05-09T00:00:00+00:00\",\"2024-05-10T00:00:00+00:00\",\"2024-05-11T00:00:00+00:00\",\"2024-05-12T00:00:00+00:00\",\"2024-05-13T00:00:00+00:00\",\"2024-05-14T00:00:00+00:00\",\"2024-05-15T00:00:00+00:00\",\"2024-05-16T00:00:00+00:00\",\"2024-05-17T00:00:00+00:00\",\"2024-05-18T00:00:00+00:00\",\"2024-05-19T00:00:00+00:00\",\"2024-05-20T00:00:00+00:00\",\"2024-05-21T00:00:00+00:00\",\"2024-05-22T00:00:00+00:00\"],\"y\":[null,-0.010732840527506449,0.0015000030398368835,0.0022916669646898535,0.06637499729792284,0.11429166545470548,0.0008333424727122729,-0.028916674355665917,-0.009749998648961311,0.0489583363135655,0.04833332697550463,0.013000006477038029,0.0087499966224035,0.08895832796891523,0.28483334432045615,0.016833320260047913,-0.04687499006589246,0.07149999340375257,-0.017916664481163025,-0.04479165871938062,-0.03154167036215472,-0.017666677633921157,-0.03220832844575261,-0.014541675647099739,-0.0015000055233638232,0.017291679978370667,-0.002583324909210205,-0.011791671315828811,-0.02874998251597094,-0.01604168613751722,-0.0039166659116744995,-0.007583320140838623,-0.0035833468039832006,0.09495834012826299,0.1940833429495492,-0.02466667691866542,-0.041416674852371216,-0.02662499248981476,0.04345833261807752,0.04125001033147169,-0.027083342274029976,0.011249999205271477,-0.01537499825159716,-0.01958334942658735,-0.016749997933705796,0.002958322564760918,0.05262502531210589,0.12762499849001552,-0.021666665871937996,-0.014083330829938179,-0.027791668971379746,-0.027000005046526443,0.0028750052054722364,0.0383333216110866,-0.0013749897480010986,-0.026125003894170273,-0.022499998410542732,0.054833347598711724,0.15474998454252864,-0.04741665720939636,-0.031000008185704475,-0.022624994317690605,0.13695833583672856,0.21462499598662044,0.023333340883255005,-0.044041673342386733,-0.048041661580403794,-0.025375013550122505,-0.015333344539006477,-0.0245833148558936,-0.02508333822091413,-0.013833343982696533,0.006500015656153435,0.13395833472410823,-0.0483750055233636,-0.04437500238418579,-0.02175000309944153,-0.020458340644836426,-0.02241664131482457,-0.015875016649564033,-0.019958337148030525,-0.006999999284744263,-0.013208329677581787,-0.012499993046124924,0.13266667226950335,0.027374987800915962,0.0023750017086665576,-0.029249995946884155,0.002958322564760918,0.0718333373467126,-0.04895831644535065,0.007749974727630615,-0.031749988595644485,-0.01341666777928685,-0.04525000353654218,-0.026791661977767944,0.031874994436899895,0.10537500182787563,-0.022874991099039566,-0.03700000047683716,-0.010875001549720764,-0.011124998331069946,-0.03604167203108477,-0.04333332180976868,-0.04041668772697449,-0.04887499411900831,0.22341668605804443,0.09224998950958252,-0.06833333770434069,-0.013541648785273308,0.029416650533676147,-0.05404166380564357,-0.04145834346612309,-0.05383332570393873,-0.0320416589577992,-0.050666674971580505,0.09337500234444929,0.07016666730244947,0.027208333214124192,0.01199999451637268,-0.03074999650319432,-0.025333330035209656,0.0595833410819373,-0.05733334521452593,-0.01570831735928846,-0.04762503008047747,0.0071250200271606445,0.0599583238363266,0.04241665701071429,-0.007583325107892502,-0.021083325147628784,-0.03291666507720947,-0.018625006079673767,-0.047791674733161926,-0.05812498927116394,-0.027749990423520332,-0.03983335196971893,-0.05937499801317858,-0.05849997202555324,-0.06416669984658574,-0.06554164985815669,-0.02745833992958069,0.0629000137249629],\"type\":\"scatter\",\"xaxis\":\"x\",\"yaxis\":\"y2\"},{\"name\":\"SNOWDEPTH\",\"opacity\":0.3,\"x\":[\"2024-01-01T00:00:00+00:00\",\"2024-01-02T00:00:00+00:00\",\"2024-01-03T00:00:00+00:00\",\"2024-01-04T00:00:00+00:00\",\"2024-01-05T00:00:00+00:00\",\"2024-01-06T00:00:00+00:00\",\"2024-01-07T00:00:00+00:00\",\"2024-01-08T00:00:00+00:00\",\"2024-01-09T00:00:00+00:00\",\"2024-01-10T00:00:00+00:00\",\"2024-01-11T00:00:00+00:00\",\"2024-01-12T00:00:00+00:00\",\"2024-01-13T00:00:00+00:00\",\"2024-01-14T00:00:00+00:00\",\"2024-01-15T00:00:00+00:00\",\"2024-01-16T00:00:00+00:00\",\"2024-01-17T00:00:00+00:00\",\"2024-01-18T00:00:00+00:00\",\"2024-01-19T00:00:00+00:00\",\"2024-01-20T00:00:00+00:00\",\"2024-01-21T00:00:00+00:00\",\"2024-01-22T00:00:00+00:00\",\"2024-01-23T00:00:00+00:00\",\"2024-01-24T00:00:00+00:00\",\"2024-01-25T00:00:00+00:00\",\"2024-01-26T00:00:00+00:00\",\"2024-01-27T00:00:00+00:00\",\"2024-01-28T00:00:00+00:00\",\"2024-01-29T00:00:00+00:00\",\"2024-01-30T00:00:00+00:00\",\"2024-01-31T00:00:00+00:00\",\"2024-02-01T00:00:00+00:00\",\"2024-02-02T00:00:00+00:00\",\"2024-02-03T00:00:00+00:00\",\"2024-02-04T00:00:00+00:00\",\"2024-02-05T00:00:00+00:00\",\"2024-02-06T00:00:00+00:00\",\"2024-02-07T00:00:00+00:00\",\"2024-02-08T00:00:00+00:00\",\"2024-02-09T00:00:00+00:00\",\"2024-02-10T00:00:00+00:00\",\"2024-02-11T00:00:00+00:00\",\"2024-02-12T00:00:00+00:00\",\"2024-02-13T00:00:00+00:00\",\"2024-02-14T00:00:00+00:00\",\"2024-02-15T00:00:00+00:00\",\"2024-02-16T00:00:00+00:00\",\"2024-02-17T00:00:00+00:00\",\"2024-02-18T00:00:00+00:00\",\"2024-02-19T00:00:00+00:00\",\"2024-02-20T00:00:00+00:00\",\"2024-02-21T00:00:00+00:00\",\"2024-02-22T00:00:00+00:00\",\"2024-02-23T00:00:00+00:00\",\"2024-02-24T00:00:00+00:00\",\"2024-02-25T00:00:00+00:00\",\"2024-02-26T00:00:00+00:00\",\"2024-02-27T00:00:00+00:00\",\"2024-02-28T00:00:00+00:00\",\"2024-02-29T00:00:00+00:00\",\"2024-03-01T00:00:00+00:00\",\"2024-03-02T00:00:00+00:00\",\"2024-03-03T00:00:00+00:00\",\"2024-03-04T00:00:00+00:00\",\"2024-03-05T00:00:00+00:00\",\"2024-03-06T00:00:00+00:00\",\"2024-03-07T00:00:00+00:00\",\"2024-03-08T00:00:00+00:00\",\"2024-03-09T00:00:00+00:00\",\"2024-03-10T00:00:00+00:00\",\"2024-03-11T00:00:00+00:00\",\"2024-03-12T00:00:00+00:00\",\"2024-03-13T00:00:00+00:00\",\"2024-03-14T00:00:00+00:00\",\"2024-03-15T00:00:00+00:00\",\"2024-03-16T00:00:00+00:00\",\"2024-03-17T00:00:00+00:00\",\"2024-03-18T00:00:00+00:00\",\"2024-03-19T00:00:00+00:00\",\"2024-03-20T00:00:00+00:00\",\"2024-03-21T00:00:00+00:00\",\"2024-03-22T00:00:00+00:00\",\"2024-03-23T00:00:00+00:00\",\"2024-03-24T00:00:00+00:00\",\"2024-03-25T00:00:00+00:00\",\"2024-03-26T00:00:00+00:00\",\"2024-03-27T00:00:00+00:00\",\"2024-03-28T00:00:00+00:00\",\"2024-03-29T00:00:00+00:00\",\"2024-03-30T00:00:00+00:00\",\"2024-03-31T00:00:00+00:00\",\"2024-04-01T00:00:00+00:00\",\"2024-04-02T00:00:00+00:00\",\"2024-04-03T00:00:00+00:00\",\"2024-04-04T00:00:00+00:00\",\"2024-04-05T00:00:00+00:00\",\"2024-04-06T00:00:00+00:00\",\"2024-04-07T00:00:00+00:00\",\"2024-04-08T00:00:00+00:00\",\"2024-04-09T00:00:00+00:00\",\"2024-04-10T00:00:00+00:00\",\"2024-04-11T00:00:00+00:00\",\"2024-04-12T00:00:00+00:00\",\"2024-04-13T00:00:00+00:00\",\"2024-04-14T00:00:00+00:00\",\"2024-04-15T00:00:00+00:00\",\"2024-04-16T00:00:00+00:00\",\"2024-04-17T00:00:00+00:00\",\"2024-04-18T00:00:00+00:00\",\"2024-04-19T00:00:00+00:00\",\"2024-04-20T00:00:00+00:00\",\"2024-04-21T00:00:00+00:00\",\"2024-04-22T00:00:00+00:00\",\"2024-04-23T00:00:00+00:00\",\"2024-04-24T00:00:00+00:00\",\"2024-04-25T00:00:00+00:00\",\"2024-04-26T00:00:00+00:00\",\"2024-04-27T00:00:00+00:00\",\"2024-04-28T00:00:00+00:00\",\"2024-04-29T00:00:00+00:00\",\"2024-04-30T00:00:00+00:00\",\"2024-05-01T00:00:00+00:00\",\"2024-05-02T00:00:00+00:00\",\"2024-05-03T00:00:00+00:00\",\"2024-05-04T00:00:00+00:00\",\"2024-05-05T00:00:00+00:00\",\"2024-05-06T00:00:00+00:00\",\"2024-05-07T00:00:00+00:00\",\"2024-05-08T00:00:00+00:00\",\"2024-05-09T00:00:00+00:00\",\"2024-05-10T00:00:00+00:00\",\"2024-05-11T00:00:00+00:00\",\"2024-05-12T00:00:00+00:00\",\"2024-05-13T00:00:00+00:00\",\"2024-05-14T00:00:00+00:00\",\"2024-05-15T00:00:00+00:00\",\"2024-05-16T00:00:00+00:00\",\"2024-05-17T00:00:00+00:00\",\"2024-05-18T00:00:00+00:00\",\"2024-05-19T00:00:00+00:00\",\"2024-05-20T00:00:00+00:00\",\"2024-05-21T00:00:00+00:00\",\"2024-05-22T00:00:00+00:00\"],\"y\":[0.6159411703839022,0.6052083298563957,0.6067083328962326,0.6089999998609225,0.6753749971588453,0.7896666626135508,0.7905000050862631,0.7615833307305971,0.7518333320816358,0.8007916683952013,0.849124995370706,0.862125001847744,0.8708749984701475,0.9598333264390627,1.2446666707595189,1.2614999910195668,1.2146250009536743,1.2861249943574269,1.2682083298762639,1.2234166711568832,1.1918750007947285,1.1742083231608074,1.1419999947150548,1.127458319067955,1.1259583135445912,1.1432499935229619,1.1406666686137517,1.1288749972979228,1.100125014781952,1.0840833286444347,1.0801666627327602,1.0725833425919216,1.0689999957879384,1.1639583359162013,1.3580416788657506,1.3333750019470851,1.291958327094714,1.2653333346048992,1.3087916672229767,1.3500416775544484,1.3229583352804184,1.3342083344856899,1.3188333362340927,1.2992499868075054,1.2824999888737996,1.2854583114385605,1.3380833367506664,1.465708335240682,1.444041669368744,1.4299583385388057,1.402166669567426,1.3751666645208995,1.3780416697263718,1.4163749913374584,1.4150000015894573,1.388874997695287,1.3663749992847443,1.421208346883456,1.5759583314259846,1.5285416742165883,1.4975416660308838,1.4749166717131932,1.6118750075499217,1.8265000035365422,1.8498333444197972,1.8057916710774105,1.7577500094970067,1.7323749959468842,1.7170416514078777,1.692458336551984,1.66737499833107,1.6535416543483734,1.6600416700045268,1.794000004728635,1.7456249992052715,1.7012499968210857,1.6794999937216442,1.6590416530768077,1.6366250117619832,1.6207499951124191,1.6007916579643886,1.5937916586796443,1.5805833290020626,1.5680833359559376,1.700750008225441,1.728124996026357,1.7304999977350235,1.7012500017881393,1.7042083243529003,1.7760416616996129,1.7270833452542622,1.7348333199818928,1.7030833313862483,1.6896666636069615,1.6444166600704193,1.6176249980926514,1.6494999925295513,1.7548749943574269,1.7320000032583873,1.6950000027815502,1.6841250012318294,1.6730000029007595,1.6369583308696747,1.593625009059906,1.5532083213329315,1.5043333272139232,1.7277500132719676,1.8200000027815502,1.7516666650772095,1.7381250162919362,1.7675416668256123,1.7135000030199687,1.6720416595538456,1.618208333849907,1.5861666748921077,1.5354999999205272,1.6288750022649765,1.699041669567426,1.7262500027815502,1.7382499972979228,1.7075000007947285,1.6821666707595189,1.7417500118414562,1.6844166666269302,1.6687083492676418,1.6210833191871643,1.628208339214325,1.6881666630506516,1.7305833200613658,1.7229999949534733,1.7019166698058446,1.669000004728635,1.6503749986489613,1.6025833239157994,1.5444583346446354,1.5167083442211151,1.4768749922513962,1.4174999942382176,1.3590000222126644,1.2948333223660786,1.229291672507922,1.2018333325783412,1.2647333463033041],\"type\":\"scatter\",\"xaxis\":\"x\",\"yaxis\":\"y2\"}],                        {\"template\":{\"data\":{\"histogram2dcontour\":[{\"type\":\"histogram2dcontour\",\"colorbar\":{\"outlinewidth\":0,\"ticks\":\"\"},\"colorscale\":[[0.0,\"#0d0887\"],[0.1111111111111111,\"#46039f\"],[0.2222222222222222,\"#7201a8\"],[0.3333333333333333,\"#9c179e\"],[0.4444444444444444,\"#bd3786\"],[0.5555555555555556,\"#d8576b\"],[0.6666666666666666,\"#ed7953\"],[0.7777777777777778,\"#fb9f3a\"],[0.8888888888888888,\"#fdca26\"],[1.0,\"#f0f921\"]]}],\"choropleth\":[{\"type\":\"choropleth\",\"colorbar\":{\"outlinewidth\":0,\"ticks\":\"\"}}],\"histogram2d\":[{\"type\":\"histogram2d\",\"colorbar\":{\"outlinewidth\":0,\"ticks\":\"\"},\"colorscale\":[[0.0,\"#0d0887\"],[0.1111111111111111,\"#46039f\"],[0.2222222222222222,\"#7201a8\"],[0.3333333333333333,\"#9c179e\"],[0.4444444444444444,\"#bd3786\"],[0.5555555555555556,\"#d8576b\"],[0.6666666666666666,\"#ed7953\"],[0.7777777777777778,\"#fb9f3a\"],[0.8888888888888888,\"#fdca26\"],[1.0,\"#f0f921\"]]}],\"heatmap\":[{\"type\":\"heatmap\",\"colorbar\":{\"outlinewidth\":0,\"ticks\":\"\"},\"colorscale\":[[0.0,\"#0d0887\"],[0.1111111111111111,\"#46039f\"],[0.2222222222222222,\"#7201a8\"],[0.3333333333333333,\"#9c179e\"],[0.4444444444444444,\"#bd3786\"],[0.5555555555555556,\"#d8576b\"],[0.6666666666666666,\"#ed7953\"],[0.7777777777777778,\"#fb9f3a\"],[0.8888888888888888,\"#fdca26\"],[1.0,\"#f0f921\"]]}],\"heatmapgl\":[{\"type\":\"heatmapgl\",\"colorbar\":{\"outlinewidth\":0,\"ticks\":\"\"},\"colorscale\":[[0.0,\"#0d0887\"],[0.1111111111111111,\"#46039f\"],[0.2222222222222222,\"#7201a8\"],[0.3333333333333333,\"#9c179e\"],[0.4444444444444444,\"#bd3786\"],[0.5555555555555556,\"#d8576b\"],[0.6666666666666666,\"#ed7953\"],[0.7777777777777778,\"#fb9f3a\"],[0.8888888888888888,\"#fdca26\"],[1.0,\"#f0f921\"]]}],\"contourcarpet\":[{\"type\":\"contourcarpet\",\"colorbar\":{\"outlinewidth\":0,\"ticks\":\"\"}}],\"contour\":[{\"type\":\"contour\",\"colorbar\":{\"outlinewidth\":0,\"ticks\":\"\"},\"colorscale\":[[0.0,\"#0d0887\"],[0.1111111111111111,\"#46039f\"],[0.2222222222222222,\"#7201a8\"],[0.3333333333333333,\"#9c179e\"],[0.4444444444444444,\"#bd3786\"],[0.5555555555555556,\"#d8576b\"],[0.6666666666666666,\"#ed7953\"],[0.7777777777777778,\"#fb9f3a\"],[0.8888888888888888,\"#fdca26\"],[1.0,\"#f0f921\"]]}],\"surface\":[{\"type\":\"surface\",\"colorbar\":{\"outlinewidth\":0,\"ticks\":\"\"},\"colorscale\":[[0.0,\"#0d0887\"],[0.1111111111111111,\"#46039f\"],[0.2222222222222222,\"#7201a8\"],[0.3333333333333333,\"#9c179e\"],[0.4444444444444444,\"#bd3786\"],[0.5555555555555556,\"#d8576b\"],[0.6666666666666666,\"#ed7953\"],[0.7777777777777778,\"#fb9f3a\"],[0.8888888888888888,\"#fdca26\"],[1.0,\"#f0f921\"]]}],\"mesh3d\":[{\"type\":\"mesh3d\",\"colorbar\":{\"outlinewidth\":0,\"ticks\":\"\"}}],\"scatter\":[{\"fillpattern\":{\"fillmode\":\"overlay\",\"size\":10,\"solidity\":0.2},\"type\":\"scatter\"}],\"parcoords\":[{\"type\":\"parcoords\",\"line\":{\"colorbar\":{\"outlinewidth\":0,\"ticks\":\"\"}}}],\"scatterpolargl\":[{\"type\":\"scatterpolargl\",\"marker\":{\"colorbar\":{\"outlinewidth\":0,\"ticks\":\"\"}}}],\"bar\":[{\"error_x\":{\"color\":\"#2a3f5f\"},\"error_y\":{\"color\":\"#2a3f5f\"},\"marker\":{\"line\":{\"color\":\"#E5ECF6\",\"width\":0.5},\"pattern\":{\"fillmode\":\"overlay\",\"size\":10,\"solidity\":0.2}},\"type\":\"bar\"}],\"scattergeo\":[{\"type\":\"scattergeo\",\"marker\":{\"colorbar\":{\"outlinewidth\":0,\"ticks\":\"\"}}}],\"scatterpolar\":[{\"type\":\"scatterpolar\",\"marker\":{\"colorbar\":{\"outlinewidth\":0,\"ticks\":\"\"}}}],\"histogram\":[{\"marker\":{\"pattern\":{\"fillmode\":\"overlay\",\"size\":10,\"solidity\":0.2}},\"type\":\"histogram\"}],\"scattergl\":[{\"type\":\"scattergl\",\"marker\":{\"colorbar\":{\"outlinewidth\":0,\"ticks\":\"\"}}}],\"scatter3d\":[{\"type\":\"scatter3d\",\"line\":{\"colorbar\":{\"outlinewidth\":0,\"ticks\":\"\"}},\"marker\":{\"colorbar\":{\"outlinewidth\":0,\"ticks\":\"\"}}}],\"scattermapbox\":[{\"type\":\"scattermapbox\",\"marker\":{\"colorbar\":{\"outlinewidth\":0,\"ticks\":\"\"}}}],\"scatterternary\":[{\"type\":\"scatterternary\",\"marker\":{\"colorbar\":{\"outlinewidth\":0,\"ticks\":\"\"}}}],\"scattercarpet\":[{\"type\":\"scattercarpet\",\"marker\":{\"colorbar\":{\"outlinewidth\":0,\"ticks\":\"\"}}}],\"carpet\":[{\"aaxis\":{\"endlinecolor\":\"#2a3f5f\",\"gridcolor\":\"white\",\"linecolor\":\"white\",\"minorgridcolor\":\"white\",\"startlinecolor\":\"#2a3f5f\"},\"baxis\":{\"endlinecolor\":\"#2a3f5f\",\"gridcolor\":\"white\",\"linecolor\":\"white\",\"minorgridcolor\":\"white\",\"startlinecolor\":\"#2a3f5f\"},\"type\":\"carpet\"}],\"table\":[{\"cells\":{\"fill\":{\"color\":\"#EBF0F8\"},\"line\":{\"color\":\"white\"}},\"header\":{\"fill\":{\"color\":\"#C8D4E3\"},\"line\":{\"color\":\"white\"}},\"type\":\"table\"}],\"barpolar\":[{\"marker\":{\"line\":{\"color\":\"#E5ECF6\",\"width\":0.5},\"pattern\":{\"fillmode\":\"overlay\",\"size\":10,\"solidity\":0.2}},\"type\":\"barpolar\"}],\"pie\":[{\"automargin\":true,\"type\":\"pie\"}]},\"layout\":{\"autotypenumbers\":\"strict\",\"colorway\":[\"#636efa\",\"#EF553B\",\"#00cc96\",\"#ab63fa\",\"#FFA15A\",\"#19d3f3\",\"#FF6692\",\"#B6E880\",\"#FF97FF\",\"#FECB52\"],\"font\":{\"color\":\"#2a3f5f\"},\"hovermode\":\"closest\",\"hoverlabel\":{\"align\":\"left\"},\"paper_bgcolor\":\"white\",\"plot_bgcolor\":\"#E5ECF6\",\"polar\":{\"bgcolor\":\"#E5ECF6\",\"angularaxis\":{\"gridcolor\":\"white\",\"linecolor\":\"white\",\"ticks\":\"\"},\"radialaxis\":{\"gridcolor\":\"white\",\"linecolor\":\"white\",\"ticks\":\"\"}},\"ternary\":{\"bgcolor\":\"#E5ECF6\",\"aaxis\":{\"gridcolor\":\"white\",\"linecolor\":\"white\",\"ticks\":\"\"},\"baxis\":{\"gridcolor\":\"white\",\"linecolor\":\"white\",\"ticks\":\"\"},\"caxis\":{\"gridcolor\":\"white\",\"linecolor\":\"white\",\"ticks\":\"\"}},\"coloraxis\":{\"colorbar\":{\"outlinewidth\":0,\"ticks\":\"\"}},\"colorscale\":{\"sequential\":[[0.0,\"#0d0887\"],[0.1111111111111111,\"#46039f\"],[0.2222222222222222,\"#7201a8\"],[0.3333333333333333,\"#9c179e\"],[0.4444444444444444,\"#bd3786\"],[0.5555555555555556,\"#d8576b\"],[0.6666666666666666,\"#ed7953\"],[0.7777777777777778,\"#fb9f3a\"],[0.8888888888888888,\"#fdca26\"],[1.0,\"#f0f921\"]],\"sequentialminus\":[[0.0,\"#0d0887\"],[0.1111111111111111,\"#46039f\"],[0.2222222222222222,\"#7201a8\"],[0.3333333333333333,\"#9c179e\"],[0.4444444444444444,\"#bd3786\"],[0.5555555555555556,\"#d8576b\"],[0.6666666666666666,\"#ed7953\"],[0.7777777777777778,\"#fb9f3a\"],[0.8888888888888888,\"#fdca26\"],[1.0,\"#f0f921\"]],\"diverging\":[[0,\"#8e0152\"],[0.1,\"#c51b7d\"],[0.2,\"#de77ae\"],[0.3,\"#f1b6da\"],[0.4,\"#fde0ef\"],[0.5,\"#f7f7f7\"],[0.6,\"#e6f5d0\"],[0.7,\"#b8e186\"],[0.8,\"#7fbc41\"],[0.9,\"#4d9221\"],[1,\"#276419\"]]},\"xaxis\":{\"gridcolor\":\"white\",\"linecolor\":\"white\",\"ticks\":\"\",\"title\":{\"standoff\":15},\"zerolinecolor\":\"white\",\"automargin\":true,\"zerolinewidth\":2},\"yaxis\":{\"gridcolor\":\"white\",\"linecolor\":\"white\",\"ticks\":\"\",\"title\":{\"standoff\":15},\"zerolinecolor\":\"white\",\"automargin\":true,\"zerolinewidth\":2},\"scene\":{\"xaxis\":{\"backgroundcolor\":\"#E5ECF6\",\"gridcolor\":\"white\",\"linecolor\":\"white\",\"showbackground\":true,\"ticks\":\"\",\"zerolinecolor\":\"white\",\"gridwidth\":2},\"yaxis\":{\"backgroundcolor\":\"#E5ECF6\",\"gridcolor\":\"white\",\"linecolor\":\"white\",\"showbackground\":true,\"ticks\":\"\",\"zerolinecolor\":\"white\",\"gridwidth\":2},\"zaxis\":{\"backgroundcolor\":\"#E5ECF6\",\"gridcolor\":\"white\",\"linecolor\":\"white\",\"showbackground\":true,\"ticks\":\"\",\"zerolinecolor\":\"white\",\"gridwidth\":2}},\"shapedefaults\":{\"line\":{\"color\":\"#2a3f5f\"}},\"annotationdefaults\":{\"arrowcolor\":\"#2a3f5f\",\"arrowhead\":0,\"arrowwidth\":1},\"geo\":{\"bgcolor\":\"white\",\"landcolor\":\"#E5ECF6\",\"subunitcolor\":\"white\",\"showland\":true,\"showlakes\":true,\"lakecolor\":\"white\"},\"title\":{\"x\":0.05},\"mapbox\":{\"style\":\"light\"}}},\"xaxis\":{\"anchor\":\"y\",\"domain\":[0.0,0.94],\"title\":{\"text\":\"Date\"}},\"yaxis\":{\"anchor\":\"x\",\"domain\":[0.0,1.0],\"title\":{\"text\":\"Unitless\",\"font\":{\"color\":\"blue\"}},\"tickfont\":{\"color\":\"blue\"},\"tickvals\":[0.25,0.5,0.75,1.0],\"range\":[0.25,1]},\"yaxis2\":{\"anchor\":\"x\",\"overlaying\":\"y\",\"side\":\"right\",\"title\":{\"text\":\"[m]\",\"font\":{\"color\":\"red\"}},\"tickfont\":{\"color\":\"red\"}},\"title\":{\"text\":\"Blue Ridge Meteorological Station NR Fraser\"}},                        {\"responsive\": true}                    ).then(function(){\n",
       "                            \n",
       "var gd = document.getElementById('8e932625-1536-4d9a-9f1f-5fdfdf03a58c');\n",
       "var x = new MutationObserver(function (mutations, observer) {{\n",
       "        var display = window.getComputedStyle(gd).display;\n",
       "        if (!display || display === 'none') {{\n",
       "            console.log([gd, 'removed!']);\n",
       "            Plotly.purge(gd);\n",
       "            observer.disconnect();\n",
       "        }}\n",
       "}});\n",
       "\n",
       "// Listen for the removal of the full notebook cells\n",
       "var notebookContainer = gd.closest('#notebook-container');\n",
       "if (notebookContainer) {{\n",
       "    x.observe(notebookContainer, {childList: true});\n",
       "}}\n",
       "\n",
       "// Listen for the clearing of the current output cell\n",
       "var outputEl = gd.closest('.output');\n",
       "if (outputEl) {{\n",
       "    x.observe(outputEl, {childList: true});\n",
       "}}\n",
       "\n",
       "                        })                };                });            </script>        </div>"
      ]
     },
     "metadata": {},
     "output_type": "display_data"
    }
   ],
   "source": [
    "# Create figure with secondary y-axis\n",
    "fig = make_subplots(specs=[[{\"secondary_y\": True}]])\n",
    "\n",
    "# Add traces\n",
    "fig.add_trace(\n",
    "    go.Scatter(x=df_rad.index, y=df_rad[albedo_var], name=albedo_var),\n",
    "    secondary_y=False,\n",
    ")\n",
    "\n",
    "fig.add_trace(\n",
    "    go.Scatter(\n",
    "        x=df_rad.index, y=df_rad[depth.name].diff(), name=f\"{depth.name} signal\", mode=\"lines+markers\"\n",
    "    ), secondary_y=True, \n",
    ")\n",
    "\n",
    "fig.add_trace(\n",
    "    go.Scatter(\n",
    "        x=df_rad.index, y=df_rad[depth.name], name=f\"{depth.name}\", opacity=0.3,\n",
    "    ), secondary_y=True, \n",
    ")\n",
    "\n",
    "fig.update_layout(\n",
    "    # template='plotly_dark',\n",
    "    title=f'{pt.name}',\n",
    "    xaxis=dict(title='Date'),\n",
    "    yaxis=dict(\n",
    "        title=f'Unitless',\n",
    "        titlefont=dict(color='blue'),\n",
    "        tickfont=dict(color='blue'),\n",
    "        tickvals=[.25, .5, .75, 1.0],\n",
    "        range=[.25, 1]\n",
    "    ),\n",
    "    yaxis2=dict(\n",
    "        title=f'[m]',\n",
    "        titlefont=dict(color='red'),\n",
    "        tickfont=dict(color='red'), overlaying='y', side='right'\n",
    "    )\n",
    ")\n",
    "\n",
    "# Show the plot\n",
    "fig.show()"
   ]
  },
  {
   "cell_type": "markdown",
   "id": "eac2af7c-b240-4e95-baa1-e65611347a95",
   "metadata": {
    "editable": true,
    "slideshow": {
     "slide_type": ""
    },
    "tags": []
   },
   "source": [
    "### Summary\n",
    "* We started with a point that we knew had shortwave measurements.\n",
    "* Next, we pulled all the necessary data, cleaned it, and resampled to daily.\n",
    "* We calculated albedo, and plotted it to see how the snowdepth changes affected the broadband albedo."
   ]
  },
  {
   "cell_type": "code",
   "execution_count": null,
   "id": "72ac1ea5-3c9c-4b85-8d74-454055599194",
   "metadata": {},
   "outputs": [],
   "source": []
  }
 ],
 "metadata": {
  "kernelspec": {
   "display_name": "Python 3 (ipykernel)",
   "language": "python",
   "name": "python3"
  },
  "language_info": {
   "codemirror_mode": {
    "name": "ipython",
    "version": 3
   },
   "file_extension": ".py",
   "mimetype": "text/x-python",
   "name": "python",
   "nbconvert_exporter": "python",
   "pygments_lexer": "ipython3",
   "version": "3.9.18"
  }
 },
 "nbformat": 4,
 "nbformat_minor": 5
}

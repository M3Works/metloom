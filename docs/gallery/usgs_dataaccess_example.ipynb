{
 "cells": [
  {
   "cell_type": "markdown",
   "id": "5bbd0865",
   "metadata": {},
   "source": [
    "# Example for accessing USGS data\n",
    "\n",
    "### This notebook does the following:  \n",
    "* Load a single USGS point\n",
    "* Look at the metadata\n",
    "* Get multiple radiation datasets\n",
    "* Calculate albedo from the datasets\n",
    "* Plot the albedo evolution"
   ]
  },
  {
   "cell_type": "code",
   "execution_count": 1,
   "id": "f8319b6d",
   "metadata": {},
   "outputs": [
    {
     "data": {
      "text/html": [
       "        <script type=\"text/javascript\">\n",
       "        window.PlotlyConfig = {MathJaxConfig: 'local'};\n",
       "        if (window.MathJax && window.MathJax.Hub && window.MathJax.Hub.Config) {window.MathJax.Hub.Config({SVG: {font: \"STIX-Web\"}});}\n",
       "        if (typeof require !== 'undefined') {\n",
       "        require.undef(\"plotly\");\n",
       "        requirejs.config({\n",
       "            paths: {\n",
       "                'plotly': ['https://cdn.plot.ly/plotly-2.32.0.min']\n",
       "            }\n",
       "        });\n",
       "        require(['plotly'], function(Plotly) {\n",
       "            window._Plotly = Plotly;\n",
       "        });\n",
       "        }\n",
       "        </script>\n",
       "        "
      ]
     },
     "metadata": {},
     "output_type": "display_data"
    }
   ],
   "source": [
    "# imports\n",
    "from datetime import datetime\n",
    "import pandas as pd\n",
    "import numpy as np\n",
    "\n",
    "from metloom.pointdata import USGSPointData\n",
    "\n",
    "# For rendering in readthedocs\n",
    "# import plotly.offline as py\n",
    "# py.init_notebook_mode(connected=True)"
   ]
  },
  {
   "cell_type": "code",
   "execution_count": 6,
   "id": "a9911803",
   "metadata": {},
   "outputs": [],
   "source": [
    "# Define a point known to have solar measurements\n",
    "pt = USGSPointData(\"395709105582701\", \"Blue Ridge Meteorological Station NR Fraser\")\n",
    "\n",
    "# start data and end date\n",
    "start_date = datetime(2024, 1, 1)\n",
    "end_date = datetime(2024, 7, 1)\n",
    "# Define a list of variables we want\n",
    "incoming_sw = pt.ALLOWED_VARIABLES.DOWNSHORTWAVE\n",
    "outgoing_sw = pt.ALLOWED_VARIABLES.UPSHORTWAVE\n",
    "depth = pt.ALLOWED_VARIABLES.SNOWDEPTH\n",
    "variables = [incoming_sw, outgoing_sw, depth]\n",
    "\n"
   ]
  },
  {
   "cell_type": "code",
   "execution_count": 7,
   "id": "8dc795ff-a2d9-4e93-ae1c-e55259b14204",
   "metadata": {},
   "outputs": [
    {
     "data": {
      "text/html": [
       "<div>\n",
       "<style scoped>\n",
       "    .dataframe tbody tr th:only-of-type {\n",
       "        vertical-align: middle;\n",
       "    }\n",
       "\n",
       "    .dataframe tbody tr th {\n",
       "        vertical-align: top;\n",
       "    }\n",
       "\n",
       "    .dataframe thead th {\n",
       "        text-align: right;\n",
       "    }\n",
       "</style>\n",
       "<table border=\"1\" class=\"dataframe\">\n",
       "  <thead>\n",
       "    <tr style=\"text-align: right;\">\n",
       "      <th></th>\n",
       "      <th></th>\n",
       "      <th>geometry</th>\n",
       "      <th>DOWNWARD SHORTWAVE RADIATION</th>\n",
       "      <th>DOWNWARD SHORTWAVE RADIATION_units</th>\n",
       "      <th>UPWARD SHORTWAVE RADIATION</th>\n",
       "      <th>UPWARD SHORTWAVE RADIATION_units</th>\n",
       "      <th>SNOWDEPTH</th>\n",
       "      <th>SNOWDEPTH_units</th>\n",
       "      <th>datasource</th>\n",
       "    </tr>\n",
       "    <tr>\n",
       "      <th>datetime</th>\n",
       "      <th>site</th>\n",
       "      <th></th>\n",
       "      <th></th>\n",
       "      <th></th>\n",
       "      <th></th>\n",
       "      <th></th>\n",
       "      <th></th>\n",
       "      <th></th>\n",
       "      <th></th>\n",
       "    </tr>\n",
       "  </thead>\n",
       "  <tbody>\n",
       "    <tr>\n",
       "      <th>2024-01-01 07:00:00+00:00</th>\n",
       "      <th>395709105582701</th>\n",
       "      <td>POINT Z (-105.97407 39.95258 10657.00000)</td>\n",
       "      <td>-5.6</td>\n",
       "      <td>W/m2</td>\n",
       "      <td>0.0</td>\n",
       "      <td>W/m2</td>\n",
       "      <td>0.616</td>\n",
       "      <td>m</td>\n",
       "      <td>USGS</td>\n",
       "    </tr>\n",
       "    <tr>\n",
       "      <th>2024-01-01 08:00:00+00:00</th>\n",
       "      <th>395709105582701</th>\n",
       "      <td>POINT Z (-105.97407 39.95258 10657.00000)</td>\n",
       "      <td>-9.9</td>\n",
       "      <td>W/m2</td>\n",
       "      <td>0.0</td>\n",
       "      <td>W/m2</td>\n",
       "      <td>0.620</td>\n",
       "      <td>m</td>\n",
       "      <td>USGS</td>\n",
       "    </tr>\n",
       "    <tr>\n",
       "      <th>2024-01-01 09:00:00+00:00</th>\n",
       "      <th>395709105582701</th>\n",
       "      <td>POINT Z (-105.97407 39.95258 10657.00000)</td>\n",
       "      <td>-10.8</td>\n",
       "      <td>W/m2</td>\n",
       "      <td>0.0</td>\n",
       "      <td>W/m2</td>\n",
       "      <td>0.618</td>\n",
       "      <td>m</td>\n",
       "      <td>USGS</td>\n",
       "    </tr>\n",
       "    <tr>\n",
       "      <th>2024-01-01 10:00:00+00:00</th>\n",
       "      <th>395709105582701</th>\n",
       "      <td>POINT Z (-105.97407 39.95258 10657.00000)</td>\n",
       "      <td>-10.3</td>\n",
       "      <td>W/m2</td>\n",
       "      <td>0.0</td>\n",
       "      <td>W/m2</td>\n",
       "      <td>0.619</td>\n",
       "      <td>m</td>\n",
       "      <td>USGS</td>\n",
       "    </tr>\n",
       "    <tr>\n",
       "      <th>2024-01-01 11:00:00+00:00</th>\n",
       "      <th>395709105582701</th>\n",
       "      <td>POINT Z (-105.97407 39.95258 10657.00000)</td>\n",
       "      <td>-9.9</td>\n",
       "      <td>W/m2</td>\n",
       "      <td>0.0</td>\n",
       "      <td>W/m2</td>\n",
       "      <td>0.620</td>\n",
       "      <td>m</td>\n",
       "      <td>USGS</td>\n",
       "    </tr>\n",
       "    <tr>\n",
       "      <th>2024-01-01 12:00:00+00:00</th>\n",
       "      <th>395709105582701</th>\n",
       "      <td>POINT Z (-105.97407 39.95258 10657.00000)</td>\n",
       "      <td>-10.0</td>\n",
       "      <td>W/m2</td>\n",
       "      <td>0.0</td>\n",
       "      <td>W/m2</td>\n",
       "      <td>0.618</td>\n",
       "      <td>m</td>\n",
       "      <td>USGS</td>\n",
       "    </tr>\n",
       "    <tr>\n",
       "      <th>2024-01-01 13:00:00+00:00</th>\n",
       "      <th>395709105582701</th>\n",
       "      <td>POINT Z (-105.97407 39.95258 10657.00000)</td>\n",
       "      <td>-9.9</td>\n",
       "      <td>W/m2</td>\n",
       "      <td>0.0</td>\n",
       "      <td>W/m2</td>\n",
       "      <td>0.619</td>\n",
       "      <td>m</td>\n",
       "      <td>USGS</td>\n",
       "    </tr>\n",
       "    <tr>\n",
       "      <th>2024-01-01 14:00:00+00:00</th>\n",
       "      <th>395709105582701</th>\n",
       "      <td>POINT Z (-105.97407 39.95258 10657.00000)</td>\n",
       "      <td>-9.9</td>\n",
       "      <td>W/m2</td>\n",
       "      <td>0.0</td>\n",
       "      <td>W/m2</td>\n",
       "      <td>0.618</td>\n",
       "      <td>m</td>\n",
       "      <td>USGS</td>\n",
       "    </tr>\n",
       "    <tr>\n",
       "      <th>2024-01-01 15:00:00+00:00</th>\n",
       "      <th>395709105582701</th>\n",
       "      <td>POINT Z (-105.97407 39.95258 10657.00000)</td>\n",
       "      <td>-1.9</td>\n",
       "      <td>W/m2</td>\n",
       "      <td>3.0</td>\n",
       "      <td>W/m2</td>\n",
       "      <td>0.616</td>\n",
       "      <td>m</td>\n",
       "      <td>USGS</td>\n",
       "    </tr>\n",
       "    <tr>\n",
       "      <th>2024-01-01 16:00:00+00:00</th>\n",
       "      <th>395709105582701</th>\n",
       "      <td>POINT Z (-105.97407 39.95258 10657.00000)</td>\n",
       "      <td>122.0</td>\n",
       "      <td>W/m2</td>\n",
       "      <td>55.0</td>\n",
       "      <td>W/m2</td>\n",
       "      <td>0.614</td>\n",
       "      <td>m</td>\n",
       "      <td>USGS</td>\n",
       "    </tr>\n",
       "  </tbody>\n",
       "</table>\n",
       "</div>"
      ],
      "text/plain": [
       "                                                                            geometry  \\\n",
       "datetime                  site                                                         \n",
       "2024-01-01 07:00:00+00:00 395709105582701  POINT Z (-105.97407 39.95258 10657.00000)   \n",
       "2024-01-01 08:00:00+00:00 395709105582701  POINT Z (-105.97407 39.95258 10657.00000)   \n",
       "2024-01-01 09:00:00+00:00 395709105582701  POINT Z (-105.97407 39.95258 10657.00000)   \n",
       "2024-01-01 10:00:00+00:00 395709105582701  POINT Z (-105.97407 39.95258 10657.00000)   \n",
       "2024-01-01 11:00:00+00:00 395709105582701  POINT Z (-105.97407 39.95258 10657.00000)   \n",
       "2024-01-01 12:00:00+00:00 395709105582701  POINT Z (-105.97407 39.95258 10657.00000)   \n",
       "2024-01-01 13:00:00+00:00 395709105582701  POINT Z (-105.97407 39.95258 10657.00000)   \n",
       "2024-01-01 14:00:00+00:00 395709105582701  POINT Z (-105.97407 39.95258 10657.00000)   \n",
       "2024-01-01 15:00:00+00:00 395709105582701  POINT Z (-105.97407 39.95258 10657.00000)   \n",
       "2024-01-01 16:00:00+00:00 395709105582701  POINT Z (-105.97407 39.95258 10657.00000)   \n",
       "\n",
       "                                           DOWNWARD SHORTWAVE RADIATION  \\\n",
       "datetime                  site                                            \n",
       "2024-01-01 07:00:00+00:00 395709105582701                          -5.6   \n",
       "2024-01-01 08:00:00+00:00 395709105582701                          -9.9   \n",
       "2024-01-01 09:00:00+00:00 395709105582701                         -10.8   \n",
       "2024-01-01 10:00:00+00:00 395709105582701                         -10.3   \n",
       "2024-01-01 11:00:00+00:00 395709105582701                          -9.9   \n",
       "2024-01-01 12:00:00+00:00 395709105582701                         -10.0   \n",
       "2024-01-01 13:00:00+00:00 395709105582701                          -9.9   \n",
       "2024-01-01 14:00:00+00:00 395709105582701                          -9.9   \n",
       "2024-01-01 15:00:00+00:00 395709105582701                          -1.9   \n",
       "2024-01-01 16:00:00+00:00 395709105582701                         122.0   \n",
       "\n",
       "                                          DOWNWARD SHORTWAVE RADIATION_units  \\\n",
       "datetime                  site                                                 \n",
       "2024-01-01 07:00:00+00:00 395709105582701                               W/m2   \n",
       "2024-01-01 08:00:00+00:00 395709105582701                               W/m2   \n",
       "2024-01-01 09:00:00+00:00 395709105582701                               W/m2   \n",
       "2024-01-01 10:00:00+00:00 395709105582701                               W/m2   \n",
       "2024-01-01 11:00:00+00:00 395709105582701                               W/m2   \n",
       "2024-01-01 12:00:00+00:00 395709105582701                               W/m2   \n",
       "2024-01-01 13:00:00+00:00 395709105582701                               W/m2   \n",
       "2024-01-01 14:00:00+00:00 395709105582701                               W/m2   \n",
       "2024-01-01 15:00:00+00:00 395709105582701                               W/m2   \n",
       "2024-01-01 16:00:00+00:00 395709105582701                               W/m2   \n",
       "\n",
       "                                           UPWARD SHORTWAVE RADIATION  \\\n",
       "datetime                  site                                          \n",
       "2024-01-01 07:00:00+00:00 395709105582701                         0.0   \n",
       "2024-01-01 08:00:00+00:00 395709105582701                         0.0   \n",
       "2024-01-01 09:00:00+00:00 395709105582701                         0.0   \n",
       "2024-01-01 10:00:00+00:00 395709105582701                         0.0   \n",
       "2024-01-01 11:00:00+00:00 395709105582701                         0.0   \n",
       "2024-01-01 12:00:00+00:00 395709105582701                         0.0   \n",
       "2024-01-01 13:00:00+00:00 395709105582701                         0.0   \n",
       "2024-01-01 14:00:00+00:00 395709105582701                         0.0   \n",
       "2024-01-01 15:00:00+00:00 395709105582701                         3.0   \n",
       "2024-01-01 16:00:00+00:00 395709105582701                        55.0   \n",
       "\n",
       "                                          UPWARD SHORTWAVE RADIATION_units  \\\n",
       "datetime                  site                                               \n",
       "2024-01-01 07:00:00+00:00 395709105582701                             W/m2   \n",
       "2024-01-01 08:00:00+00:00 395709105582701                             W/m2   \n",
       "2024-01-01 09:00:00+00:00 395709105582701                             W/m2   \n",
       "2024-01-01 10:00:00+00:00 395709105582701                             W/m2   \n",
       "2024-01-01 11:00:00+00:00 395709105582701                             W/m2   \n",
       "2024-01-01 12:00:00+00:00 395709105582701                             W/m2   \n",
       "2024-01-01 13:00:00+00:00 395709105582701                             W/m2   \n",
       "2024-01-01 14:00:00+00:00 395709105582701                             W/m2   \n",
       "2024-01-01 15:00:00+00:00 395709105582701                             W/m2   \n",
       "2024-01-01 16:00:00+00:00 395709105582701                             W/m2   \n",
       "\n",
       "                                           SNOWDEPTH SNOWDEPTH_units  \\\n",
       "datetime                  site                                         \n",
       "2024-01-01 07:00:00+00:00 395709105582701      0.616               m   \n",
       "2024-01-01 08:00:00+00:00 395709105582701      0.620               m   \n",
       "2024-01-01 09:00:00+00:00 395709105582701      0.618               m   \n",
       "2024-01-01 10:00:00+00:00 395709105582701      0.619               m   \n",
       "2024-01-01 11:00:00+00:00 395709105582701      0.620               m   \n",
       "2024-01-01 12:00:00+00:00 395709105582701      0.618               m   \n",
       "2024-01-01 13:00:00+00:00 395709105582701      0.619               m   \n",
       "2024-01-01 14:00:00+00:00 395709105582701      0.618               m   \n",
       "2024-01-01 15:00:00+00:00 395709105582701      0.616               m   \n",
       "2024-01-01 16:00:00+00:00 395709105582701      0.614               m   \n",
       "\n",
       "                                          datasource  \n",
       "datetime                  site                        \n",
       "2024-01-01 07:00:00+00:00 395709105582701       USGS  \n",
       "2024-01-01 08:00:00+00:00 395709105582701       USGS  \n",
       "2024-01-01 09:00:00+00:00 395709105582701       USGS  \n",
       "2024-01-01 10:00:00+00:00 395709105582701       USGS  \n",
       "2024-01-01 11:00:00+00:00 395709105582701       USGS  \n",
       "2024-01-01 12:00:00+00:00 395709105582701       USGS  \n",
       "2024-01-01 13:00:00+00:00 395709105582701       USGS  \n",
       "2024-01-01 14:00:00+00:00 395709105582701       USGS  \n",
       "2024-01-01 15:00:00+00:00 395709105582701       USGS  \n",
       "2024-01-01 16:00:00+00:00 395709105582701       USGS  "
      ]
     },
     "execution_count": 7,
     "metadata": {},
     "output_type": "execute_result"
    }
   ],
   "source": [
    "# LETS GET THAT DATA\n",
    "df = pt.get_hourly_data(start_date, end_date, variables)\n",
    "df.head(10)"
   ]
  },
  {
   "cell_type": "code",
   "execution_count": 8,
   "id": "68ccbe7e",
   "metadata": {
    "editable": true,
    "slideshow": {
     "slide_type": ""
    },
   },
   "outputs": [
    {
     "data": {
      "text/plain": [
       "<AxesSubplot: xlabel='datetime'>"
      ]
     },
     "execution_count": 8,
     "metadata": {},
     "output_type": "execute_result"
    },
    {
     "data": {
      "image/png": "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\n",
      "text/plain": [
       "<Figure size 640x480 with 1 Axes>"
      ]
     },
     "metadata": {},
     "output_type": "display_data"
    }
   ],
   "source": [
    "# Check out this data!\n",
    "df = df.reset_index().set_index(\"datetime\")\n",
    "var_names = [v.name for v in variables]\n",
    "\n",
    "# Sample to just the vars\n",
    "df_rad = df.loc[:, var_names]\n",
    "\n",
    "df_rad.loc[:, [incoming_sw.name, outgoing_sw.name]].plot()\n",
    "\n"
   ]
  },
  {
   "cell_type": "code",
   "execution_count": 9,
   "id": "9112e047-7f6f-4771-be01-c6f1efdbd661",
   "metadata": {},
   "outputs": [
    {
     "data": {
      "text/plain": [
       "<AxesSubplot: xlabel='datetime'>"
      ]
     },
     "execution_count": 9,
     "metadata": {},
     "output_type": "execute_result"
    },
    {
     "data": {
      "image/png": "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\n",
      "text/plain": [
       "<Figure size 640x480 with 1 Axes>"
      ]
     },
     "metadata": {
         "tags": [
             "nbsphinx-thumbnail",
             "nbsphinx-gallery"
        ]
     }
     },
     }
     "output_type": "display_data"
    }
   ],
   "source": [
    "# Let's get the data in a more usable state\n",
    "sw_thresh = 10\n",
    "\n",
    "# mask the SW to decent values\n",
    "df_rad[incoming_sw.name] = df_rad[incoming_sw.name].mask(df_rad[incoming_sw.name] < sw_thresh, np.nan)\n",
    "df_rad[outgoing_sw.name] = df_rad[outgoing_sw.name].mask(df_rad[outgoing_sw.name] < sw_thresh, np.nan)\n",
    "\n",
    "# Resample to daily, based on mean values\n",
    "df_rad = df_rad.resample(\"D\").mean()\n",
    "\n",
    "# Plot again\n",
    "df_rad.loc[:, [incoming_sw.name, outgoing_sw.name]].plot()\n"
   ]
  },
  {
   "cell_type": "markdown",
   "id": "5515ac70-b7f7-4eaa-b58a-b7c4201e2717",
   "metadata": {},
   "source": [
    "### Now we can think Albedo\n",
    "\n",
    "The daily data plot looks much better. Now we can start to think about albedo.\n",
    "We can use the SW to calcaulate albedo next"
   ]
  },
  {
   "cell_type": "code",
   "execution_count": 10,
   "id": "f9c91bbe",
   "metadata": {},
   "outputs": [
    {
     "data": {
      "text/plain": [
       "<AxesSubplot: xlabel='datetime'>"
      ]
     },
     "execution_count": 10,
     "metadata": {},
     "output_type": "execute_result"
    },
    {
     "data": {
      "image/png": "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\n",
      "text/plain": [
       "<Figure size 640x480 with 1 Axes>"
      ]
     },
     "metadata": {},
     "output_type": "display_data"
    }
   ],
   "source": [
    "# Calculate albedo\n",
    "albedo_var = \"ALBEDO\"\n",
    "df_rad[albedo_var] = df_rad[outgoing_sw.name] / df_rad[incoming_sw.name]\n",
    "df_rad[albedo_var] = df_rad[albedo_var].mask(df_rad[albedo_var] < 0.1, np.nan)\n",
    "df_rad[albedo_var] = df_rad[albedo_var].mask(df_rad[albedo_var] > 1, np.nan)\n",
    "df_rad[albedo_var].plot()"
   ]
  },
  {
   "cell_type": "markdown",
   "id": "61cb8617-dd47-495c-9164-5a69efaded78",
   "metadata": {},
   "source": [
    "### Better plotting\n",
    "Awesome - now we have albedo. We haven't used snowdepth yet,\n",
    "so let's create a better plot that shows how the two relate"
   ]
  },
  {
   "cell_type": "code",
   "execution_count": 11,
   "id": "d0fe841b-0b9a-43fa-9df2-e106ecf2483c",
   "metadata": {},
   "outputs": [],
   "source": [
    "# Get plotly for a nicer plot\n",
    "# !pip install plotly\n",
    "import plotly.express as px\n",
    "import plotly.graph_objects as go\n",
    "from plotly.subplots import make_subplots"
   ]
  },
  {
   "cell_type": "code",
   "execution_count": 13,
   "id": "445efe95-75a7-46db-88d0-4bc20027f789",
   "metadata": {
    "editable": true,
    "slideshow": {
     "slide_type": ""
    },
   },
   "outputs": [
    {
     "data": {
      "application/vnd.plotly.v1+json": {
       "config": {
        "plotlyServerURL": "https://plot.ly"
       },
       "data": [
        {
         "name": "ALBEDO",
         "type": "scatter",
         "x": [
          "2024-01-01T00:00:00+00:00",
          "2024-01-02T00:00:00+00:00",
          "2024-01-03T00:00:00+00:00",
          "2024-01-04T00:00:00+00:00",
          "2024-01-05T00:00:00+00:00",
          "2024-01-06T00:00:00+00:00",
          "2024-01-07T00:00:00+00:00",
          "2024-01-08T00:00:00+00:00",
          "2024-01-09T00:00:00+00:00",
          "2024-01-10T00:00:00+00:00",
          "2024-01-11T00:00:00+00:00",
          "2024-01-12T00:00:00+00:00",
          "2024-01-13T00:00:00+00:00",
          "2024-01-14T00:00:00+00:00",
          "2024-01-15T00:00:00+00:00",
          "2024-01-16T00:00:00+00:00",
          "2024-01-17T00:00:00+00:00",
          "2024-01-18T00:00:00+00:00",
          "2024-01-19T00:00:00+00:00",
          "2024-01-20T00:00:00+00:00",
          "2024-01-21T00:00:00+00:00",
          "2024-01-22T00:00:00+00:00",
          "2024-01-23T00:00:00+00:00",
          "2024-01-24T00:00:00+00:00",
          "2024-01-25T00:00:00+00:00",
          "2024-01-26T00:00:00+00:00",
          "2024-01-27T00:00:00+00:00",
          "2024-01-28T00:00:00+00:00",
          "2024-01-29T00:00:00+00:00",
          "2024-01-30T00:00:00+00:00",
          "2024-01-31T00:00:00+00:00",
          "2024-02-01T00:00:00+00:00",
          "2024-02-02T00:00:00+00:00",
          "2024-02-03T00:00:00+00:00",
          "2024-02-04T00:00:00+00:00",
          "2024-02-05T00:00:00+00:00",
          "2024-02-06T00:00:00+00:00",
          "2024-02-07T00:00:00+00:00",
          "2024-02-08T00:00:00+00:00",
          "2024-02-09T00:00:00+00:00",
          "2024-02-10T00:00:00+00:00",
          "2024-02-11T00:00:00+00:00",
          "2024-02-12T00:00:00+00:00",
          "2024-02-13T00:00:00+00:00",
          "2024-02-14T00:00:00+00:00",
          "2024-02-15T00:00:00+00:00",
          "2024-02-16T00:00:00+00:00",
          "2024-02-17T00:00:00+00:00",
          "2024-02-18T00:00:00+00:00",
          "2024-02-19T00:00:00+00:00",
          "2024-02-20T00:00:00+00:00",
          "2024-02-21T00:00:00+00:00",
          "2024-02-22T00:00:00+00:00",
          "2024-02-23T00:00:00+00:00",
          "2024-02-24T00:00:00+00:00",
          "2024-02-25T00:00:00+00:00",
          "2024-02-26T00:00:00+00:00",
          "2024-02-27T00:00:00+00:00",
          "2024-02-28T00:00:00+00:00",
          "2024-02-29T00:00:00+00:00",
          "2024-03-01T00:00:00+00:00",
          "2024-03-02T00:00:00+00:00",
          "2024-03-03T00:00:00+00:00",
          "2024-03-04T00:00:00+00:00",
          "2024-03-05T00:00:00+00:00",
          "2024-03-06T00:00:00+00:00",
          "2024-03-07T00:00:00+00:00",
          "2024-03-08T00:00:00+00:00",
          "2024-03-09T00:00:00+00:00",
          "2024-03-10T00:00:00+00:00",
          "2024-03-11T00:00:00+00:00",
          "2024-03-12T00:00:00+00:00",
          "2024-03-13T00:00:00+00:00",
          "2024-03-14T00:00:00+00:00",
          "2024-03-15T00:00:00+00:00",
          "2024-03-16T00:00:00+00:00",
          "2024-03-17T00:00:00+00:00",
          "2024-03-18T00:00:00+00:00",
          "2024-03-19T00:00:00+00:00",
          "2024-03-20T00:00:00+00:00",
          "2024-03-21T00:00:00+00:00",
          "2024-03-22T00:00:00+00:00",
          "2024-03-23T00:00:00+00:00",
          "2024-03-24T00:00:00+00:00",
          "2024-03-25T00:00:00+00:00",
          "2024-03-26T00:00:00+00:00",
          "2024-03-27T00:00:00+00:00",
          "2024-03-28T00:00:00+00:00",
          "2024-03-29T00:00:00+00:00",
          "2024-03-30T00:00:00+00:00",
          "2024-03-31T00:00:00+00:00",
          "2024-04-01T00:00:00+00:00",
          "2024-04-02T00:00:00+00:00",
          "2024-04-03T00:00:00+00:00",
          "2024-04-04T00:00:00+00:00",
          "2024-04-05T00:00:00+00:00",
          "2024-04-06T00:00:00+00:00",
          "2024-04-07T00:00:00+00:00",
          "2024-04-08T00:00:00+00:00",
          "2024-04-09T00:00:00+00:00",
          "2024-04-10T00:00:00+00:00",
          "2024-04-11T00:00:00+00:00",
          "2024-04-12T00:00:00+00:00",
          "2024-04-13T00:00:00+00:00",
          "2024-04-14T00:00:00+00:00",
          "2024-04-15T00:00:00+00:00",
          "2024-04-16T00:00:00+00:00",
          "2024-04-17T00:00:00+00:00",
          "2024-04-18T00:00:00+00:00",
          "2024-04-19T00:00:00+00:00",
          "2024-04-20T00:00:00+00:00",
          "2024-04-21T00:00:00+00:00",
          "2024-04-22T00:00:00+00:00",
          "2024-04-23T00:00:00+00:00",
          "2024-04-24T00:00:00+00:00",
          "2024-04-25T00:00:00+00:00",
          "2024-04-26T00:00:00+00:00",
          "2024-04-27T00:00:00+00:00",
          "2024-04-28T00:00:00+00:00",
          "2024-04-29T00:00:00+00:00",
          "2024-04-30T00:00:00+00:00",
          "2024-05-01T00:00:00+00:00",
          "2024-05-02T00:00:00+00:00",
          "2024-05-03T00:00:00+00:00",
          "2024-05-04T00:00:00+00:00",
          "2024-05-05T00:00:00+00:00",
          "2024-05-06T00:00:00+00:00",
          "2024-05-07T00:00:00+00:00",
          "2024-05-08T00:00:00+00:00",
          "2024-05-09T00:00:00+00:00",
          "2024-05-10T00:00:00+00:00",
          "2024-05-11T00:00:00+00:00",
          "2024-05-12T00:00:00+00:00",
          "2024-05-13T00:00:00+00:00",
          "2024-05-14T00:00:00+00:00",
          "2024-05-15T00:00:00+00:00",
          "2024-05-16T00:00:00+00:00",
          "2024-05-17T00:00:00+00:00",
          "2024-05-18T00:00:00+00:00",
          "2024-05-19T00:00:00+00:00",
          "2024-05-20T00:00:00+00:00",
          "2024-05-21T00:00:00+00:00",
          "2024-05-22T00:00:00+00:00"
         ],
         "xaxis": "x",
         "y": [
          0.6282821269441731,
          0.5733020312661534,
          0.6033322119715501,
          0.6784820684144912,
          0.7515879790618374,
          0.6984424639938616,
          0.7364351675194745,
          0.6838360575075074,
          0.7438754283634876,
          0.7078032636892133,
          0.7376139291455419,
          0.7674299148334078,
          0.7734844577080587,
          0.8274015257615939,
          0.7940390132969529,
          0.7201567520897757,
          0.8252608622286352,
          0.7497510546802237,
          0.7431198352355068,
          0.6661591441402472,
          0.7836562867408843,
          0.7713577190098818,
          0.7068682098273239,
          0.6774393890587871,
          0.7578310351255181,
          0.7990675943251626,
          0.6434136622899822,
          0.6408052390428215,
          0.6619315263635472,
          0.6711833290624634,
          0.6218831862850722,
          0.6204077878091044,
          0.7140525715309599,
          0.8188992924055695,
          0.7381078345608251,
          0.677903563621409,
          0.7291544289886908,
          0.7226021080724885,
          0.7403395099364205,
          0.6812971415393569,
          0.7681099442952327,
          0.7325268447908742,
          0.7369756412746576,
          0.6863273296373008,
          0.7581088525203064,
          0.7573108250426361,
          0.8116543924943312,
          0.7343175186657496,
          0.8183691356593971,
          0.7435980473444584,
          0.8276606426651051,
          0.7508908066211751,
          0.7739596273619694,
          0.7563190260163619,
          0.7276131045241809,
          0.7219038689567217,
          0.7025793533494624,
          0.763815008291028,
          0.7588788518660968,
          0.72915905499424,
          0.7217314493327488,
          0.7838437109965604,
          0.8064236851689892,
          0.8042022350235718,
          0.7950518628412019,
          0.7671845254516177,
          0.7612011012581064,
          0.792604115685214,
          0.7436879558574961,
          0.7302074928001246,
          0.7312283322182338,
          0.7591099228022334,
          0.8077318638667256,
          0.768580396818089,
          0.7671194009142057,
          0.7214573679793159,
          0.7229692818200448,
          0.7132259090766834,
          0.7009111296174608,
          0.6932833849149092,
          0.6841520956464274,
          0.7249666855104598,
          0.7092017206589533,
          0.7475176189112417,
          0.791463675901946,
          0.7773692398512511,
          0.7772020714561035,
          0.7601926770513457,
          0.8052529052916853,
          0.7813871029922077,
          0.7575228768831924,
          0.7677826605044067,
          0.7414122576229721,
          0.7057042253521127,
          0.6901504787961698,
          0.6749548651082475,
          0.7943622527337941,
          0.7780878304236526,
          0.7624865314153236,
          0.7967221554429742,
          0.770247194934074,
          0.7983920154968939,
          0.7451778662813013,
          0.6637692398057952,
          0.6822245131549968,
          0.6821201390765983,
          0.8362949807225251,
          0.7475520534511803,
          0.7594069810262258,
          0.7545634318175565,
          0.7614732479140454,
          0.68283036583252,
          0.6946067618835894,
          0.7671307470186784,
          0.6376338861768858,
          0.6366677507024215,
          0.7472806672393983,
          0.8586046265540445,
          0.7966439298782335,
          0.7684862900552625,
          0.7439750402289486,
          0.713070529401463,
          0.7591919595366784,
          0.7191158692942129,
          0.6825293181994824,
          0.6153428955041721,
          0.780447508852303,
          0.819323171283358,
          0.8142047256194616,
          0.7920586609944911,
          0.7491727072545903,
          0.720232699427666,
          0.6730510093253363,
          0.6318947698567453,
          0.5989457236948554,
          0.608970871439403,
          0.566786444003051,
          0.5531470430201315,
          0.5389878811377145,
          0.5339315385270175,
          0.532648722237007,
          0.7353871658115606,
          0.7527567574784563
         ],
         "yaxis": "y"
        },
        {
         "mode": "lines+markers",
         "name": "SNOWDEPTH signal",
         "type": "scatter",
         "x": [
          "2024-01-01T00:00:00+00:00",
          "2024-01-02T00:00:00+00:00",
          "2024-01-03T00:00:00+00:00",
          "2024-01-04T00:00:00+00:00",
          "2024-01-05T00:00:00+00:00",
          "2024-01-06T00:00:00+00:00",
          "2024-01-07T00:00:00+00:00",
          "2024-01-08T00:00:00+00:00",
          "2024-01-09T00:00:00+00:00",
          "2024-01-10T00:00:00+00:00",
          "2024-01-11T00:00:00+00:00",
          "2024-01-12T00:00:00+00:00",
          "2024-01-13T00:00:00+00:00",
          "2024-01-14T00:00:00+00:00",
          "2024-01-15T00:00:00+00:00",
          "2024-01-16T00:00:00+00:00",
          "2024-01-17T00:00:00+00:00",
          "2024-01-18T00:00:00+00:00",
          "2024-01-19T00:00:00+00:00",
          "2024-01-20T00:00:00+00:00",
          "2024-01-21T00:00:00+00:00",
          "2024-01-22T00:00:00+00:00",
          "2024-01-23T00:00:00+00:00",
          "2024-01-24T00:00:00+00:00",
          "2024-01-25T00:00:00+00:00",
          "2024-01-26T00:00:00+00:00",
          "2024-01-27T00:00:00+00:00",
          "2024-01-28T00:00:00+00:00",
          "2024-01-29T00:00:00+00:00",
          "2024-01-30T00:00:00+00:00",
          "2024-01-31T00:00:00+00:00",
          "2024-02-01T00:00:00+00:00",
          "2024-02-02T00:00:00+00:00",
          "2024-02-03T00:00:00+00:00",
          "2024-02-04T00:00:00+00:00",
          "2024-02-05T00:00:00+00:00",
          "2024-02-06T00:00:00+00:00",
          "2024-02-07T00:00:00+00:00",
          "2024-02-08T00:00:00+00:00",
          "2024-02-09T00:00:00+00:00",
          "2024-02-10T00:00:00+00:00",
          "2024-02-11T00:00:00+00:00",
          "2024-02-12T00:00:00+00:00",
          "2024-02-13T00:00:00+00:00",
          "2024-02-14T00:00:00+00:00",
          "2024-02-15T00:00:00+00:00",
          "2024-02-16T00:00:00+00:00",
          "2024-02-17T00:00:00+00:00",
          "2024-02-18T00:00:00+00:00",
          "2024-02-19T00:00:00+00:00",
          "2024-02-20T00:00:00+00:00",
          "2024-02-21T00:00:00+00:00",
          "2024-02-22T00:00:00+00:00",
          "2024-02-23T00:00:00+00:00",
          "2024-02-24T00:00:00+00:00",
          "2024-02-25T00:00:00+00:00",
          "2024-02-26T00:00:00+00:00",
          "2024-02-27T00:00:00+00:00",
          "2024-02-28T00:00:00+00:00",
          "2024-02-29T00:00:00+00:00",
          "2024-03-01T00:00:00+00:00",
          "2024-03-02T00:00:00+00:00",
          "2024-03-03T00:00:00+00:00",
          "2024-03-04T00:00:00+00:00",
          "2024-03-05T00:00:00+00:00",
          "2024-03-06T00:00:00+00:00",
          "2024-03-07T00:00:00+00:00",
          "2024-03-08T00:00:00+00:00",
          "2024-03-09T00:00:00+00:00",
          "2024-03-10T00:00:00+00:00",
          "2024-03-11T00:00:00+00:00",
          "2024-03-12T00:00:00+00:00",
          "2024-03-13T00:00:00+00:00",
          "2024-03-14T00:00:00+00:00",
          "2024-03-15T00:00:00+00:00",
          "2024-03-16T00:00:00+00:00",
          "2024-03-17T00:00:00+00:00",
          "2024-03-18T00:00:00+00:00",
          "2024-03-19T00:00:00+00:00",
          "2024-03-20T00:00:00+00:00",
          "2024-03-21T00:00:00+00:00",
          "2024-03-22T00:00:00+00:00",
          "2024-03-23T00:00:00+00:00",
          "2024-03-24T00:00:00+00:00",
          "2024-03-25T00:00:00+00:00",
          "2024-03-26T00:00:00+00:00",
          "2024-03-27T00:00:00+00:00",
          "2024-03-28T00:00:00+00:00",
          "2024-03-29T00:00:00+00:00",
          "2024-03-30T00:00:00+00:00",
          "2024-03-31T00:00:00+00:00",
          "2024-04-01T00:00:00+00:00",
          "2024-04-02T00:00:00+00:00",
          "2024-04-03T00:00:00+00:00",
          "2024-04-04T00:00:00+00:00",
          "2024-04-05T00:00:00+00:00",
          "2024-04-06T00:00:00+00:00",
          "2024-04-07T00:00:00+00:00",
          "2024-04-08T00:00:00+00:00",
          "2024-04-09T00:00:00+00:00",
          "2024-04-10T00:00:00+00:00",
          "2024-04-11T00:00:00+00:00",
          "2024-04-12T00:00:00+00:00",
          "2024-04-13T00:00:00+00:00",
          "2024-04-14T00:00:00+00:00",
          "2024-04-15T00:00:00+00:00",
          "2024-04-16T00:00:00+00:00",
          "2024-04-17T00:00:00+00:00",
          "2024-04-18T00:00:00+00:00",
          "2024-04-19T00:00:00+00:00",
          "2024-04-20T00:00:00+00:00",
          "2024-04-21T00:00:00+00:00",
          "2024-04-22T00:00:00+00:00",
          "2024-04-23T00:00:00+00:00",
          "2024-04-24T00:00:00+00:00",
          "2024-04-25T00:00:00+00:00",
          "2024-04-26T00:00:00+00:00",
          "2024-04-27T00:00:00+00:00",
          "2024-04-28T00:00:00+00:00",
          "2024-04-29T00:00:00+00:00",
          "2024-04-30T00:00:00+00:00",
          "2024-05-01T00:00:00+00:00",
          "2024-05-02T00:00:00+00:00",
          "2024-05-03T00:00:00+00:00",
          "2024-05-04T00:00:00+00:00",
          "2024-05-05T00:00:00+00:00",
          "2024-05-06T00:00:00+00:00",
          "2024-05-07T00:00:00+00:00",
          "2024-05-08T00:00:00+00:00",
          "2024-05-09T00:00:00+00:00",
          "2024-05-10T00:00:00+00:00",
          "2024-05-11T00:00:00+00:00",
          "2024-05-12T00:00:00+00:00",
          "2024-05-13T00:00:00+00:00",
          "2024-05-14T00:00:00+00:00",
          "2024-05-15T00:00:00+00:00",
          "2024-05-16T00:00:00+00:00",
          "2024-05-17T00:00:00+00:00",
          "2024-05-18T00:00:00+00:00",
          "2024-05-19T00:00:00+00:00",
          "2024-05-20T00:00:00+00:00",
          "2024-05-21T00:00:00+00:00",
          "2024-05-22T00:00:00+00:00"
         ],
         "xaxis": "x",
         "y": [
          null,
          -0.010732840527506449,
          0.0015000030398368835,
          0.0022916669646898535,
          0.06637499729792284,
          0.11429166545470548,
          0.0008333424727122729,
          -0.028916674355665917,
          -0.009749998648961311,
          0.0489583363135655,
          0.04833332697550463,
          0.013000006477038029,
          0.0087499966224035,
          0.08895832796891523,
          0.28483334432045615,
          0.016833320260047913,
          -0.04687499006589246,
          0.07149999340375257,
          -0.017916664481163025,
          -0.04479165871938062,
          -0.03154167036215472,
          -0.017666677633921157,
          -0.03220832844575261,
          -0.014541675647099739,
          -0.0015000055233638232,
          0.017291679978370667,
          -0.002583324909210205,
          -0.011791671315828811,
          -0.02874998251597094,
          -0.01604168613751722,
          -0.0039166659116744995,
          -0.007583320140838623,
          -0.0035833468039832006,
          0.09495834012826299,
          0.1940833429495492,
          -0.02466667691866542,
          -0.041416674852371216,
          -0.02662499248981476,
          0.04345833261807752,
          0.04125001033147169,
          -0.027083342274029976,
          0.011249999205271477,
          -0.01537499825159716,
          -0.01958334942658735,
          -0.016749997933705796,
          0.002958322564760918,
          0.05262502531210589,
          0.12762499849001552,
          -0.021666665871937996,
          -0.014083330829938179,
          -0.027791668971379746,
          -0.027000005046526443,
          0.0028750052054722364,
          0.0383333216110866,
          -0.0013749897480010986,
          -0.026125003894170273,
          -0.022499998410542732,
          0.054833347598711724,
          0.15474998454252864,
          -0.04741665720939636,
          -0.031000008185704475,
          -0.022624994317690605,
          0.13695833583672856,
          0.21462499598662044,
          0.023333340883255005,
          -0.044041673342386733,
          -0.048041661580403794,
          -0.025375013550122505,
          -0.015333344539006477,
          -0.0245833148558936,
          -0.02508333822091413,
          -0.013833343982696533,
          0.006500015656153435,
          0.13395833472410823,
          -0.0483750055233636,
          -0.04437500238418579,
          -0.02175000309944153,
          -0.020458340644836426,
          -0.02241664131482457,
          -0.015875016649564033,
          -0.019958337148030525,
          -0.006999999284744263,
          -0.013208329677581787,
          -0.012499993046124924,
          0.13266667226950335,
          0.027374987800915962,
          0.0023750017086665576,
          -0.029249995946884155,
          0.002958322564760918,
          0.0718333373467126,
          -0.04895831644535065,
          0.007749974727630615,
          -0.031749988595644485,
          -0.01341666777928685,
          -0.04525000353654218,
          -0.026791661977767944,
          0.031874994436899895,
          0.10537500182787563,
          -0.022874991099039566,
          -0.03700000047683716,
          -0.010875001549720764,
          -0.011124998331069946,
          -0.03604167203108477,
          -0.04333332180976868,
          -0.04041668772697449,
          -0.04887499411900831,
          0.22341668605804443,
          0.09224998950958252,
          -0.06833333770434069,
          -0.013541648785273308,
          0.029416650533676147,
          -0.05404166380564357,
          -0.04145834346612309,
          -0.05383332570393873,
          -0.0320416589577992,
          -0.050666674971580505,
          0.09337500234444929,
          0.07016666730244947,
          0.027208333214124192,
          0.01199999451637268,
          -0.03074999650319432,
          -0.025333330035209656,
          0.0595833410819373,
          -0.05733334521452593,
          -0.01570831735928846,
          -0.04762503008047747,
          0.0071250200271606445,
          0.0599583238363266,
          0.04241665701071429,
          -0.007583325107892502,
          -0.021083325147628784,
          -0.03291666507720947,
          -0.018625006079673767,
          -0.047791674733161926,
          -0.05812498927116394,
          -0.027749990423520332,
          -0.03983335196971893,
          -0.05937499801317858,
          -0.05849997202555324,
          -0.06416669984658574,
          -0.06554164985815669,
          -0.02745833992958069,
          0.05890351560032148
         ],
         "yaxis": "y2"
        },
        {
         "name": "SNOWDEPTH",
         "opacity": 0.3,
         "type": "scatter",
         "x": [
          "2024-01-01T00:00:00+00:00",
          "2024-01-02T00:00:00+00:00",
          "2024-01-03T00:00:00+00:00",
          "2024-01-04T00:00:00+00:00",
          "2024-01-05T00:00:00+00:00",
          "2024-01-06T00:00:00+00:00",
          "2024-01-07T00:00:00+00:00",
          "2024-01-08T00:00:00+00:00",
          "2024-01-09T00:00:00+00:00",
          "2024-01-10T00:00:00+00:00",
          "2024-01-11T00:00:00+00:00",
          "2024-01-12T00:00:00+00:00",
          "2024-01-13T00:00:00+00:00",
          "2024-01-14T00:00:00+00:00",
          "2024-01-15T00:00:00+00:00",
          "2024-01-16T00:00:00+00:00",
          "2024-01-17T00:00:00+00:00",
          "2024-01-18T00:00:00+00:00",
          "2024-01-19T00:00:00+00:00",
          "2024-01-20T00:00:00+00:00",
          "2024-01-21T00:00:00+00:00",
          "2024-01-22T00:00:00+00:00",
          "2024-01-23T00:00:00+00:00",
          "2024-01-24T00:00:00+00:00",
          "2024-01-25T00:00:00+00:00",
          "2024-01-26T00:00:00+00:00",
          "2024-01-27T00:00:00+00:00",
          "2024-01-28T00:00:00+00:00",
          "2024-01-29T00:00:00+00:00",
          "2024-01-30T00:00:00+00:00",
          "2024-01-31T00:00:00+00:00",
          "2024-02-01T00:00:00+00:00",
          "2024-02-02T00:00:00+00:00",
          "2024-02-03T00:00:00+00:00",
          "2024-02-04T00:00:00+00:00",
          "2024-02-05T00:00:00+00:00",
          "2024-02-06T00:00:00+00:00",
          "2024-02-07T00:00:00+00:00",
          "2024-02-08T00:00:00+00:00",
          "2024-02-09T00:00:00+00:00",
          "2024-02-10T00:00:00+00:00",
          "2024-02-11T00:00:00+00:00",
          "2024-02-12T00:00:00+00:00",
          "2024-02-13T00:00:00+00:00",
          "2024-02-14T00:00:00+00:00",
          "2024-02-15T00:00:00+00:00",
          "2024-02-16T00:00:00+00:00",
          "2024-02-17T00:00:00+00:00",
          "2024-02-18T00:00:00+00:00",
          "2024-02-19T00:00:00+00:00",
          "2024-02-20T00:00:00+00:00",
          "2024-02-21T00:00:00+00:00",
          "2024-02-22T00:00:00+00:00",
          "2024-02-23T00:00:00+00:00",
          "2024-02-24T00:00:00+00:00",
          "2024-02-25T00:00:00+00:00",
          "2024-02-26T00:00:00+00:00",
          "2024-02-27T00:00:00+00:00",
          "2024-02-28T00:00:00+00:00",
          "2024-02-29T00:00:00+00:00",
          "2024-03-01T00:00:00+00:00",
          "2024-03-02T00:00:00+00:00",
          "2024-03-03T00:00:00+00:00",
          "2024-03-04T00:00:00+00:00",
          "2024-03-05T00:00:00+00:00",
          "2024-03-06T00:00:00+00:00",
          "2024-03-07T00:00:00+00:00",
          "2024-03-08T00:00:00+00:00",
          "2024-03-09T00:00:00+00:00",
          "2024-03-10T00:00:00+00:00",
          "2024-03-11T00:00:00+00:00",
          "2024-03-12T00:00:00+00:00",
          "2024-03-13T00:00:00+00:00",
          "2024-03-14T00:00:00+00:00",
          "2024-03-15T00:00:00+00:00",
          "2024-03-16T00:00:00+00:00",
          "2024-03-17T00:00:00+00:00",
          "2024-03-18T00:00:00+00:00",
          "2024-03-19T00:00:00+00:00",
          "2024-03-20T00:00:00+00:00",
          "2024-03-21T00:00:00+00:00",
          "2024-03-22T00:00:00+00:00",
          "2024-03-23T00:00:00+00:00",
          "2024-03-24T00:00:00+00:00",
          "2024-03-25T00:00:00+00:00",
          "2024-03-26T00:00:00+00:00",
          "2024-03-27T00:00:00+00:00",
          "2024-03-28T00:00:00+00:00",
          "2024-03-29T00:00:00+00:00",
          "2024-03-30T00:00:00+00:00",
          "2024-03-31T00:00:00+00:00",
          "2024-04-01T00:00:00+00:00",
          "2024-04-02T00:00:00+00:00",
          "2024-04-03T00:00:00+00:00",
          "2024-04-04T00:00:00+00:00",
          "2024-04-05T00:00:00+00:00",
          "2024-04-06T00:00:00+00:00",
          "2024-04-07T00:00:00+00:00",
          "2024-04-08T00:00:00+00:00",
          "2024-04-09T00:00:00+00:00",
          "2024-04-10T00:00:00+00:00",
          "2024-04-11T00:00:00+00:00",
          "2024-04-12T00:00:00+00:00",
          "2024-04-13T00:00:00+00:00",
          "2024-04-14T00:00:00+00:00",
          "2024-04-15T00:00:00+00:00",
          "2024-04-16T00:00:00+00:00",
          "2024-04-17T00:00:00+00:00",
          "2024-04-18T00:00:00+00:00",
          "2024-04-19T00:00:00+00:00",
          "2024-04-20T00:00:00+00:00",
          "2024-04-21T00:00:00+00:00",
          "2024-04-22T00:00:00+00:00",
          "2024-04-23T00:00:00+00:00",
          "2024-04-24T00:00:00+00:00",
          "2024-04-25T00:00:00+00:00",
          "2024-04-26T00:00:00+00:00",
          "2024-04-27T00:00:00+00:00",
          "2024-04-28T00:00:00+00:00",
          "2024-04-29T00:00:00+00:00",
          "2024-04-30T00:00:00+00:00",
          "2024-05-01T00:00:00+00:00",
          "2024-05-02T00:00:00+00:00",
          "2024-05-03T00:00:00+00:00",
          "2024-05-04T00:00:00+00:00",
          "2024-05-05T00:00:00+00:00",
          "2024-05-06T00:00:00+00:00",
          "2024-05-07T00:00:00+00:00",
          "2024-05-08T00:00:00+00:00",
          "2024-05-09T00:00:00+00:00",
          "2024-05-10T00:00:00+00:00",
          "2024-05-11T00:00:00+00:00",
          "2024-05-12T00:00:00+00:00",
          "2024-05-13T00:00:00+00:00",
          "2024-05-14T00:00:00+00:00",
          "2024-05-15T00:00:00+00:00",
          "2024-05-16T00:00:00+00:00",
          "2024-05-17T00:00:00+00:00",
          "2024-05-18T00:00:00+00:00",
          "2024-05-19T00:00:00+00:00",
          "2024-05-20T00:00:00+00:00",
          "2024-05-21T00:00:00+00:00",
          "2024-05-22T00:00:00+00:00"
         ],
         "xaxis": "x",
         "y": [
          0.6159411703839022,
          0.6052083298563957,
          0.6067083328962326,
          0.6089999998609225,
          0.6753749971588453,
          0.7896666626135508,
          0.7905000050862631,
          0.7615833307305971,
          0.7518333320816358,
          0.8007916683952013,
          0.849124995370706,
          0.862125001847744,
          0.8708749984701475,
          0.9598333264390627,
          1.2446666707595189,
          1.2614999910195668,
          1.2146250009536743,
          1.2861249943574269,
          1.2682083298762639,
          1.2234166711568832,
          1.1918750007947285,
          1.1742083231608074,
          1.1419999947150548,
          1.127458319067955,
          1.1259583135445912,
          1.1432499935229619,
          1.1406666686137517,
          1.1288749972979228,
          1.100125014781952,
          1.0840833286444347,
          1.0801666627327602,
          1.0725833425919216,
          1.0689999957879384,
          1.1639583359162013,
          1.3580416788657506,
          1.3333750019470851,
          1.291958327094714,
          1.2653333346048992,
          1.3087916672229767,
          1.3500416775544484,
          1.3229583352804184,
          1.3342083344856899,
          1.3188333362340927,
          1.2992499868075054,
          1.2824999888737996,
          1.2854583114385605,
          1.3380833367506664,
          1.465708335240682,
          1.444041669368744,
          1.4299583385388057,
          1.402166669567426,
          1.3751666645208995,
          1.3780416697263718,
          1.4163749913374584,
          1.4150000015894573,
          1.388874997695287,
          1.3663749992847443,
          1.421208346883456,
          1.5759583314259846,
          1.5285416742165883,
          1.4975416660308838,
          1.4749166717131932,
          1.6118750075499217,
          1.8265000035365422,
          1.8498333444197972,
          1.8057916710774105,
          1.7577500094970067,
          1.7323749959468842,
          1.7170416514078777,
          1.692458336551984,
          1.66737499833107,
          1.6535416543483734,
          1.6600416700045268,
          1.794000004728635,
          1.7456249992052715,
          1.7012499968210857,
          1.6794999937216442,
          1.6590416530768077,
          1.6366250117619832,
          1.6207499951124191,
          1.6007916579643886,
          1.5937916586796443,
          1.5805833290020626,
          1.5680833359559376,
          1.700750008225441,
          1.728124996026357,
          1.7304999977350235,
          1.7012500017881393,
          1.7042083243529003,
          1.7760416616996129,
          1.7270833452542622,
          1.7348333199818928,
          1.7030833313862483,
          1.6896666636069615,
          1.6444166600704193,
          1.6176249980926514,
          1.6494999925295513,
          1.7548749943574269,
          1.7320000032583873,
          1.6950000027815502,
          1.6841250012318294,
          1.6730000029007595,
          1.6369583308696747,
          1.593625009059906,
          1.5532083213329315,
          1.5043333272139232,
          1.7277500132719676,
          1.8200000027815502,
          1.7516666650772095,
          1.7381250162919362,
          1.7675416668256123,
          1.7135000030199687,
          1.6720416595538456,
          1.618208333849907,
          1.5861666748921077,
          1.5354999999205272,
          1.6288750022649765,
          1.699041669567426,
          1.7262500027815502,
          1.7382499972979228,
          1.7075000007947285,
          1.6821666707595189,
          1.7417500118414562,
          1.6844166666269302,
          1.6687083492676418,
          1.6210833191871643,
          1.628208339214325,
          1.6881666630506516,
          1.7305833200613658,
          1.7229999949534733,
          1.7019166698058446,
          1.669000004728635,
          1.6503749986489613,
          1.6025833239157994,
          1.5444583346446354,
          1.5167083442211151,
          1.4768749922513962,
          1.4174999942382176,
          1.3590000222126644,
          1.2948333223660786,
          1.229291672507922,
          1.2018333325783412,
          1.2607368481786627
         ],
         "yaxis": "y2"
        }
       ],
       "layout": {
        "autosize": true,
        "template": {
         "data": {
          "bar": [
           {
            "error_x": {
             "color": "#2a3f5f"
            },
            "error_y": {
             "color": "#2a3f5f"
            },
            "marker": {
             "line": {
              "color": "#E5ECF6",
              "width": 0.5
             },
             "pattern": {
              "fillmode": "overlay",
              "size": 10,
              "solidity": 0.2
             }
            },
            "type": "bar"
           }
          ],
          "barpolar": [
           {
            "marker": {
             "line": {
              "color": "#E5ECF6",
              "width": 0.5
             },
             "pattern": {
              "fillmode": "overlay",
              "size": 10,
              "solidity": 0.2
             }
            },
            "type": "barpolar"
           }
          ],
          "carpet": [
           {
            "aaxis": {
             "endlinecolor": "#2a3f5f",
             "gridcolor": "white",
             "linecolor": "white",
             "minorgridcolor": "white",
             "startlinecolor": "#2a3f5f"
            },
            "baxis": {
             "endlinecolor": "#2a3f5f",
             "gridcolor": "white",
             "linecolor": "white",
             "minorgridcolor": "white",
             "startlinecolor": "#2a3f5f"
            },
            "type": "carpet"
           }
          ],
          "choropleth": [
           {
            "colorbar": {
             "outlinewidth": 0,
             "ticks": ""
            },
            "type": "choropleth"
           }
          ],
          "contour": [
           {
            "colorbar": {
             "outlinewidth": 0,
             "ticks": ""
            },
            "colorscale": [
             [
              0,
              "#0d0887"
             ],
             [
              0.1111111111111111,
              "#46039f"
             ],
             [
              0.2222222222222222,
              "#7201a8"
             ],
             [
              0.3333333333333333,
              "#9c179e"
             ],
             [
              0.4444444444444444,
              "#bd3786"
             ],
             [
              0.5555555555555556,
              "#d8576b"
             ],
             [
              0.6666666666666666,
              "#ed7953"
             ],
             [
              0.7777777777777778,
              "#fb9f3a"
             ],
             [
              0.8888888888888888,
              "#fdca26"
             ],
             [
              1,
              "#f0f921"
             ]
            ],
            "type": "contour"
           }
          ],
          "contourcarpet": [
           {
            "colorbar": {
             "outlinewidth": 0,
             "ticks": ""
            },
            "type": "contourcarpet"
           }
          ],
          "heatmap": [
           {
            "colorbar": {
             "outlinewidth": 0,
             "ticks": ""
            },
            "colorscale": [
             [
              0,
              "#0d0887"
             ],
             [
              0.1111111111111111,
              "#46039f"
             ],
             [
              0.2222222222222222,
              "#7201a8"
             ],
             [
              0.3333333333333333,
              "#9c179e"
             ],
             [
              0.4444444444444444,
              "#bd3786"
             ],
             [
              0.5555555555555556,
              "#d8576b"
             ],
             [
              0.6666666666666666,
              "#ed7953"
             ],
             [
              0.7777777777777778,
              "#fb9f3a"
             ],
             [
              0.8888888888888888,
              "#fdca26"
             ],
             [
              1,
              "#f0f921"
             ]
            ],
            "type": "heatmap"
           }
          ],
          "heatmapgl": [
           {
            "colorbar": {
             "outlinewidth": 0,
             "ticks": ""
            },
            "colorscale": [
             [
              0,
              "#0d0887"
             ],
             [
              0.1111111111111111,
              "#46039f"
             ],
             [
              0.2222222222222222,
              "#7201a8"
             ],
             [
              0.3333333333333333,
              "#9c179e"
             ],
             [
              0.4444444444444444,
              "#bd3786"
             ],
             [
              0.5555555555555556,
              "#d8576b"
             ],
             [
              0.6666666666666666,
              "#ed7953"
             ],
             [
              0.7777777777777778,
              "#fb9f3a"
             ],
             [
              0.8888888888888888,
              "#fdca26"
             ],
             [
              1,
              "#f0f921"
             ]
            ],
            "type": "heatmapgl"
           }
          ],
          "histogram": [
           {
            "marker": {
             "pattern": {
              "fillmode": "overlay",
              "size": 10,
              "solidity": 0.2
             }
            },
            "type": "histogram"
           }
          ],
          "histogram2d": [
           {
            "colorbar": {
             "outlinewidth": 0,
             "ticks": ""
            },
            "colorscale": [
             [
              0,
              "#0d0887"
             ],
             [
              0.1111111111111111,
              "#46039f"
             ],
             [
              0.2222222222222222,
              "#7201a8"
             ],
             [
              0.3333333333333333,
              "#9c179e"
             ],
             [
              0.4444444444444444,
              "#bd3786"
             ],
             [
              0.5555555555555556,
              "#d8576b"
             ],
             [
              0.6666666666666666,
              "#ed7953"
             ],
             [
              0.7777777777777778,
              "#fb9f3a"
             ],
             [
              0.8888888888888888,
              "#fdca26"
             ],
             [
              1,
              "#f0f921"
             ]
            ],
            "type": "histogram2d"
           }
          ],
          "histogram2dcontour": [
           {
            "colorbar": {
             "outlinewidth": 0,
             "ticks": ""
            },
            "colorscale": [
             [
              0,
              "#0d0887"
             ],
             [
              0.1111111111111111,
              "#46039f"
             ],
             [
              0.2222222222222222,
              "#7201a8"
             ],
             [
              0.3333333333333333,
              "#9c179e"
             ],
             [
              0.4444444444444444,
              "#bd3786"
             ],
             [
              0.5555555555555556,
              "#d8576b"
             ],
             [
              0.6666666666666666,
              "#ed7953"
             ],
             [
              0.7777777777777778,
              "#fb9f3a"
             ],
             [
              0.8888888888888888,
              "#fdca26"
             ],
             [
              1,
              "#f0f921"
             ]
            ],
            "type": "histogram2dcontour"
           }
          ],
          "mesh3d": [
           {
            "colorbar": {
             "outlinewidth": 0,
             "ticks": ""
            },
            "type": "mesh3d"
           }
          ],
          "parcoords": [
           {
            "line": {
             "colorbar": {
              "outlinewidth": 0,
              "ticks": ""
             }
            },
            "type": "parcoords"
           }
          ],
          "pie": [
           {
            "automargin": true,
            "type": "pie"
           }
          ],
          "scatter": [
           {
            "fillpattern": {
             "fillmode": "overlay",
             "size": 10,
             "solidity": 0.2
            },
            "type": "scatter"
           }
          ],
          "scatter3d": [
           {
            "line": {
             "colorbar": {
              "outlinewidth": 0,
              "ticks": ""
             }
            },
            "marker": {
             "colorbar": {
              "outlinewidth": 0,
              "ticks": ""
             }
            },
            "type": "scatter3d"
           }
          ],
          "scattercarpet": [
           {
            "marker": {
             "colorbar": {
              "outlinewidth": 0,
              "ticks": ""
             }
            },
            "type": "scattercarpet"
           }
          ],
          "scattergeo": [
           {
            "marker": {
             "colorbar": {
              "outlinewidth": 0,
              "ticks": ""
             }
            },
            "type": "scattergeo"
           }
          ],
          "scattergl": [
           {
            "marker": {
             "colorbar": {
              "outlinewidth": 0,
              "ticks": ""
             }
            },
            "type": "scattergl"
           }
          ],
          "scattermapbox": [
           {
            "marker": {
             "colorbar": {
              "outlinewidth": 0,
              "ticks": ""
             }
            },
            "type": "scattermapbox"
           }
          ],
          "scatterpolar": [
           {
            "marker": {
             "colorbar": {
              "outlinewidth": 0,
              "ticks": ""
             }
            },
            "type": "scatterpolar"
           }
          ],
          "scatterpolargl": [
           {
            "marker": {
             "colorbar": {
              "outlinewidth": 0,
              "ticks": ""
             }
            },
            "type": "scatterpolargl"
           }
          ],
          "scatterternary": [
           {
            "marker": {
             "colorbar": {
              "outlinewidth": 0,
              "ticks": ""
             }
            },
            "type": "scatterternary"
           }
          ],
          "surface": [
           {
            "colorbar": {
             "outlinewidth": 0,
             "ticks": ""
            },
            "colorscale": [
             [
              0,
              "#0d0887"
             ],
             [
              0.1111111111111111,
              "#46039f"
             ],
             [
              0.2222222222222222,
              "#7201a8"
             ],
             [
              0.3333333333333333,
              "#9c179e"
             ],
             [
              0.4444444444444444,
              "#bd3786"
             ],
             [
              0.5555555555555556,
              "#d8576b"
             ],
             [
              0.6666666666666666,
              "#ed7953"
             ],
             [
              0.7777777777777778,
              "#fb9f3a"
             ],
             [
              0.8888888888888888,
              "#fdca26"
             ],
             [
              1,
              "#f0f921"
             ]
            ],
            "type": "surface"
           }
          ],
          "table": [
           {
            "cells": {
             "fill": {
              "color": "#EBF0F8"
             },
             "line": {
              "color": "white"
             }
            },
            "header": {
             "fill": {
              "color": "#C8D4E3"
             },
             "line": {
              "color": "white"
             }
            },
            "type": "table"
           }
          ]
         },
         "layout": {
          "annotationdefaults": {
           "arrowcolor": "#2a3f5f",
           "arrowhead": 0,
           "arrowwidth": 1
          },
          "autotypenumbers": "strict",
          "coloraxis": {
           "colorbar": {
            "outlinewidth": 0,
            "ticks": ""
           }
          },
          "colorscale": {
           "diverging": [
            [
             0,
             "#8e0152"
            ],
            [
             0.1,
             "#c51b7d"
            ],
            [
             0.2,
             "#de77ae"
            ],
            [
             0.3,
             "#f1b6da"
            ],
            [
             0.4,
             "#fde0ef"
            ],
            [
             0.5,
             "#f7f7f7"
            ],
            [
             0.6,
             "#e6f5d0"
            ],
            [
             0.7,
             "#b8e186"
            ],
            [
             0.8,
             "#7fbc41"
            ],
            [
             0.9,
             "#4d9221"
            ],
            [
             1,
             "#276419"
            ]
           ],
           "sequential": [
            [
             0,
             "#0d0887"
            ],
            [
             0.1111111111111111,
             "#46039f"
            ],
            [
             0.2222222222222222,
             "#7201a8"
            ],
            [
             0.3333333333333333,
             "#9c179e"
            ],
            [
             0.4444444444444444,
             "#bd3786"
            ],
            [
             0.5555555555555556,
             "#d8576b"
            ],
            [
             0.6666666666666666,
             "#ed7953"
            ],
            [
             0.7777777777777778,
             "#fb9f3a"
            ],
            [
             0.8888888888888888,
             "#fdca26"
            ],
            [
             1,
             "#f0f921"
            ]
           ],
           "sequentialminus": [
            [
             0,
             "#0d0887"
            ],
            [
             0.1111111111111111,
             "#46039f"
            ],
            [
             0.2222222222222222,
             "#7201a8"
            ],
            [
             0.3333333333333333,
             "#9c179e"
            ],
            [
             0.4444444444444444,
             "#bd3786"
            ],
            [
             0.5555555555555556,
             "#d8576b"
            ],
            [
             0.6666666666666666,
             "#ed7953"
            ],
            [
             0.7777777777777778,
             "#fb9f3a"
            ],
            [
             0.8888888888888888,
             "#fdca26"
            ],
            [
             1,
             "#f0f921"
            ]
           ]
          },
          "colorway": [
           "#636efa",
           "#EF553B",
           "#00cc96",
           "#ab63fa",
           "#FFA15A",
           "#19d3f3",
           "#FF6692",
           "#B6E880",
           "#FF97FF",
           "#FECB52"
          ],
          "font": {
           "color": "#2a3f5f"
          },
          "geo": {
           "bgcolor": "white",
           "lakecolor": "white",
           "landcolor": "#E5ECF6",
           "showlakes": true,
           "showland": true,
           "subunitcolor": "white"
          },
          "hoverlabel": {
           "align": "left"
          },
          "hovermode": "closest",
          "mapbox": {
           "style": "light"
          },
          "paper_bgcolor": "white",
          "plot_bgcolor": "#E5ECF6",
          "polar": {
           "angularaxis": {
            "gridcolor": "white",
            "linecolor": "white",
            "ticks": ""
           },
           "bgcolor": "#E5ECF6",
           "radialaxis": {
            "gridcolor": "white",
            "linecolor": "white",
            "ticks": ""
           }
          },
          "scene": {
           "xaxis": {
            "backgroundcolor": "#E5ECF6",
            "gridcolor": "white",
            "gridwidth": 2,
            "linecolor": "white",
            "showbackground": true,
            "ticks": "",
            "zerolinecolor": "white"
           },
           "yaxis": {
            "backgroundcolor": "#E5ECF6",
            "gridcolor": "white",
            "gridwidth": 2,
            "linecolor": "white",
            "showbackground": true,
            "ticks": "",
            "zerolinecolor": "white"
           },
           "zaxis": {
            "backgroundcolor": "#E5ECF6",
            "gridcolor": "white",
            "gridwidth": 2,
            "linecolor": "white",
            "showbackground": true,
            "ticks": "",
            "zerolinecolor": "white"
           }
          },
          "shapedefaults": {
           "line": {
            "color": "#2a3f5f"
           }
          },
          "ternary": {
           "aaxis": {
            "gridcolor": "white",
            "linecolor": "white",
            "ticks": ""
           },
           "baxis": {
            "gridcolor": "white",
            "linecolor": "white",
            "ticks": ""
           },
           "bgcolor": "#E5ECF6",
           "caxis": {
            "gridcolor": "white",
            "linecolor": "white",
            "ticks": ""
           }
          },
          "title": {
           "x": 0.05
          },
          "xaxis": {
           "automargin": true,
           "gridcolor": "white",
           "linecolor": "white",
           "ticks": "",
           "title": {
            "standoff": 15
           },
           "zerolinecolor": "white",
           "zerolinewidth": 2
          },
          "yaxis": {
           "automargin": true,
           "gridcolor": "white",
           "linecolor": "white",
           "ticks": "",
           "title": {
            "standoff": 15
           },
           "zerolinecolor": "white",
           "zerolinewidth": 2
          }
         }
        },
        "title": {
         "text": "Blue Ridge Meteorological Station NR Fraser"
        },
        "xaxis": {
         "anchor": "y",
         "autorange": true,
         "domain": [
          0,
          0.94
         ],
         "range": [
          "2023-12-23 06:06:01.3296",
          "2024-05-30 17:53:58.6704"
         ],
         "title": {
          "text": "Date"
         },
         "type": "date"
        },
        "yaxis": {
         "anchor": "x",
         "domain": [
          0,
          1
         ],
         "range": [
          0.25,
          1
         ],
         "tickfont": {
          "color": "blue"
         },
         "tickvals": [
          0.25,
          0.5,
          0.75,
          1
         ],
         "title": {
          "font": {
           "color": "blue"
          },
          "text": "Unitless"
         },
         "type": "linear"
        },
        "yaxis2": {
         "anchor": "x",
         "autorange": true,
         "overlaying": "y",
         "range": [
          -0.22287757275699635,
          1.95892339269226
         ],
         "side": "right",
         "tickfont": {
          "color": "red"
         },
         "title": {
          "font": {
           "color": "red"
          },
          "text": "[m]"
         },
         "type": "linear"
        }
       }
      },
      "image/png": "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",
      "text/html": [
       "<div>                            <div id=\"4336c7b6-9ce7-44ed-a71a-d3f4caf0191a\" class=\"plotly-graph-div\" style=\"height:525px; width:100%;\"></div>            <script type=\"text/javascript\">                require([\"plotly\"], function(Plotly) {                    window.PLOTLYENV=window.PLOTLYENV || {};                                    if (document.getElementById(\"4336c7b6-9ce7-44ed-a71a-d3f4caf0191a\")) {                    Plotly.newPlot(                        \"4336c7b6-9ce7-44ed-a71a-d3f4caf0191a\",                        [{\"name\":\"ALBEDO\",\"x\":[\"2024-01-01T00:00:00+00:00\",\"2024-01-02T00:00:00+00:00\",\"2024-01-03T00:00:00+00:00\",\"2024-01-04T00:00:00+00:00\",\"2024-01-05T00:00:00+00:00\",\"2024-01-06T00:00:00+00:00\",\"2024-01-07T00:00:00+00:00\",\"2024-01-08T00:00:00+00:00\",\"2024-01-09T00:00:00+00:00\",\"2024-01-10T00:00:00+00:00\",\"2024-01-11T00:00:00+00:00\",\"2024-01-12T00:00:00+00:00\",\"2024-01-13T00:00:00+00:00\",\"2024-01-14T00:00:00+00:00\",\"2024-01-15T00:00:00+00:00\",\"2024-01-16T00:00:00+00:00\",\"2024-01-17T00:00:00+00:00\",\"2024-01-18T00:00:00+00:00\",\"2024-01-19T00:00:00+00:00\",\"2024-01-20T00:00:00+00:00\",\"2024-01-21T00:00:00+00:00\",\"2024-01-22T00:00:00+00:00\",\"2024-01-23T00:00:00+00:00\",\"2024-01-24T00:00:00+00:00\",\"2024-01-25T00:00:00+00:00\",\"2024-01-26T00:00:00+00:00\",\"2024-01-27T00:00:00+00:00\",\"2024-01-28T00:00:00+00:00\",\"2024-01-29T00:00:00+00:00\",\"2024-01-30T00:00:00+00:00\",\"2024-01-31T00:00:00+00:00\",\"2024-02-01T00:00:00+00:00\",\"2024-02-02T00:00:00+00:00\",\"2024-02-03T00:00:00+00:00\",\"2024-02-04T00:00:00+00:00\",\"2024-02-05T00:00:00+00:00\",\"2024-02-06T00:00:00+00:00\",\"2024-02-07T00:00:00+00:00\",\"2024-02-08T00:00:00+00:00\",\"2024-02-09T00:00:00+00:00\",\"2024-02-10T00:00:00+00:00\",\"2024-02-11T00:00:00+00:00\",\"2024-02-12T00:00:00+00:00\",\"2024-02-13T00:00:00+00:00\",\"2024-02-14T00:00:00+00:00\",\"2024-02-15T00:00:00+00:00\",\"2024-02-16T00:00:00+00:00\",\"2024-02-17T00:00:00+00:00\",\"2024-02-18T00:00:00+00:00\",\"2024-02-19T00:00:00+00:00\",\"2024-02-20T00:00:00+00:00\",\"2024-02-21T00:00:00+00:00\",\"2024-02-22T00:00:00+00:00\",\"2024-02-23T00:00:00+00:00\",\"2024-02-24T00:00:00+00:00\",\"2024-02-25T00:00:00+00:00\",\"2024-02-26T00:00:00+00:00\",\"2024-02-27T00:00:00+00:00\",\"2024-02-28T00:00:00+00:00\",\"2024-02-29T00:00:00+00:00\",\"2024-03-01T00:00:00+00:00\",\"2024-03-02T00:00:00+00:00\",\"2024-03-03T00:00:00+00:00\",\"2024-03-04T00:00:00+00:00\",\"2024-03-05T00:00:00+00:00\",\"2024-03-06T00:00:00+00:00\",\"2024-03-07T00:00:00+00:00\",\"2024-03-08T00:00:00+00:00\",\"2024-03-09T00:00:00+00:00\",\"2024-03-10T00:00:00+00:00\",\"2024-03-11T00:00:00+00:00\",\"2024-03-12T00:00:00+00:00\",\"2024-03-13T00:00:00+00:00\",\"2024-03-14T00:00:00+00:00\",\"2024-03-15T00:00:00+00:00\",\"2024-03-16T00:00:00+00:00\",\"2024-03-17T00:00:00+00:00\",\"2024-03-18T00:00:00+00:00\",\"2024-03-19T00:00:00+00:00\",\"2024-03-20T00:00:00+00:00\",\"2024-03-21T00:00:00+00:00\",\"2024-03-22T00:00:00+00:00\",\"2024-03-23T00:00:00+00:00\",\"2024-03-24T00:00:00+00:00\",\"2024-03-25T00:00:00+00:00\",\"2024-03-26T00:00:00+00:00\",\"2024-03-27T00:00:00+00:00\",\"2024-03-28T00:00:00+00:00\",\"2024-03-29T00:00:00+00:00\",\"2024-03-30T00:00:00+00:00\",\"2024-03-31T00:00:00+00:00\",\"2024-04-01T00:00:00+00:00\",\"2024-04-02T00:00:00+00:00\",\"2024-04-03T00:00:00+00:00\",\"2024-04-04T00:00:00+00:00\",\"2024-04-05T00:00:00+00:00\",\"2024-04-06T00:00:00+00:00\",\"2024-04-07T00:00:00+00:00\",\"2024-04-08T00:00:00+00:00\",\"2024-04-09T00:00:00+00:00\",\"2024-04-10T00:00:00+00:00\",\"2024-04-11T00:00:00+00:00\",\"2024-04-12T00:00:00+00:00\",\"2024-04-13T00:00:00+00:00\",\"2024-04-14T00:00:00+00:00\",\"2024-04-15T00:00:00+00:00\",\"2024-04-16T00:00:00+00:00\",\"2024-04-17T00:00:00+00:00\",\"2024-04-18T00:00:00+00:00\",\"2024-04-19T00:00:00+00:00\",\"2024-04-20T00:00:00+00:00\",\"2024-04-21T00:00:00+00:00\",\"2024-04-22T00:00:00+00:00\",\"2024-04-23T00:00:00+00:00\",\"2024-04-24T00:00:00+00:00\",\"2024-04-25T00:00:00+00:00\",\"2024-04-26T00:00:00+00:00\",\"2024-04-27T00:00:00+00:00\",\"2024-04-28T00:00:00+00:00\",\"2024-04-29T00:00:00+00:00\",\"2024-04-30T00:00:00+00:00\",\"2024-05-01T00:00:00+00:00\",\"2024-05-02T00:00:00+00:00\",\"2024-05-03T00:00:00+00:00\",\"2024-05-04T00:00:00+00:00\",\"2024-05-05T00:00:00+00:00\",\"2024-05-06T00:00:00+00:00\",\"2024-05-07T00:00:00+00:00\",\"2024-05-08T00:00:00+00:00\",\"2024-05-09T00:00:00+00:00\",\"2024-05-10T00:00:00+00:00\",\"2024-05-11T00:00:00+00:00\",\"2024-05-12T00:00:00+00:00\",\"2024-05-13T00:00:00+00:00\",\"2024-05-14T00:00:00+00:00\",\"2024-05-15T00:00:00+00:00\",\"2024-05-16T00:00:00+00:00\",\"2024-05-17T00:00:00+00:00\",\"2024-05-18T00:00:00+00:00\",\"2024-05-19T00:00:00+00:00\",\"2024-05-20T00:00:00+00:00\",\"2024-05-21T00:00:00+00:00\",\"2024-05-22T00:00:00+00:00\"],\"y\":[0.6282821269441731,0.5733020312661534,0.6033322119715501,0.6784820684144912,0.7515879790618374,0.6984424639938616,0.7364351675194745,0.6838360575075074,0.7438754283634876,0.7078032636892133,0.7376139291455419,0.7674299148334078,0.7734844577080587,0.8274015257615939,0.7940390132969529,0.7201567520897757,0.8252608622286352,0.7497510546802237,0.7431198352355068,0.6661591441402472,0.7836562867408843,0.7713577190098818,0.7068682098273239,0.6774393890587871,0.7578310351255181,0.7990675943251626,0.6434136622899822,0.6408052390428215,0.6619315263635472,0.6711833290624634,0.6218831862850722,0.6204077878091044,0.7140525715309599,0.8188992924055695,0.7381078345608251,0.677903563621409,0.7291544289886908,0.7226021080724885,0.7403395099364205,0.6812971415393569,0.7681099442952327,0.7325268447908742,0.7369756412746576,0.6863273296373008,0.7581088525203064,0.7573108250426361,0.8116543924943312,0.7343175186657496,0.8183691356593971,0.7435980473444584,0.8276606426651051,0.7508908066211751,0.7739596273619694,0.7563190260163619,0.7276131045241809,0.7219038689567217,0.7025793533494624,0.763815008291028,0.7588788518660968,0.72915905499424,0.7217314493327488,0.7838437109965604,0.8064236851689892,0.8042022350235718,0.7950518628412019,0.7671845254516177,0.7612011012581064,0.792604115685214,0.7436879558574961,0.7302074928001246,0.7312283322182338,0.7591099228022334,0.8077318638667256,0.768580396818089,0.7671194009142057,0.7214573679793159,0.7229692818200448,0.7132259090766834,0.7009111296174608,0.6932833849149092,0.6841520956464274,0.7249666855104598,0.7092017206589533,0.7475176189112417,0.791463675901946,0.7773692398512511,0.7772020714561035,0.7601926770513457,0.8052529052916853,0.7813871029922077,0.7575228768831924,0.7677826605044067,0.7414122576229721,0.7057042253521127,0.6901504787961698,0.6749548651082475,0.7943622527337941,0.7780878304236526,0.7624865314153236,0.7967221554429742,0.770247194934074,0.7983920154968939,0.7451778662813013,0.6637692398057952,0.6822245131549968,0.6821201390765983,0.8362949807225251,0.7475520534511803,0.7594069810262258,0.7545634318175565,0.7614732479140454,0.68283036583252,0.6946067618835894,0.7671307470186784,0.6376338861768858,0.6366677507024215,0.7472806672393983,0.8586046265540445,0.7966439298782335,0.7684862900552625,0.7439750402289486,0.713070529401463,0.7591919595366784,0.7191158692942129,0.6825293181994824,0.6153428955041721,0.780447508852303,0.819323171283358,0.8142047256194616,0.7920586609944911,0.7491727072545903,0.720232699427666,0.6730510093253363,0.6318947698567453,0.5989457236948554,0.608970871439403,0.566786444003051,0.5531470430201315,0.5389878811377145,0.5339315385270175,0.532648722237007,0.7353871658115606,0.7527567574784563],\"type\":\"scatter\",\"xaxis\":\"x\",\"yaxis\":\"y\"},{\"mode\":\"lines+markers\",\"name\":\"SNOWDEPTH signal\",\"x\":[\"2024-01-01T00:00:00+00:00\",\"2024-01-02T00:00:00+00:00\",\"2024-01-03T00:00:00+00:00\",\"2024-01-04T00:00:00+00:00\",\"2024-01-05T00:00:00+00:00\",\"2024-01-06T00:00:00+00:00\",\"2024-01-07T00:00:00+00:00\",\"2024-01-08T00:00:00+00:00\",\"2024-01-09T00:00:00+00:00\",\"2024-01-10T00:00:00+00:00\",\"2024-01-11T00:00:00+00:00\",\"2024-01-12T00:00:00+00:00\",\"2024-01-13T00:00:00+00:00\",\"2024-01-14T00:00:00+00:00\",\"2024-01-15T00:00:00+00:00\",\"2024-01-16T00:00:00+00:00\",\"2024-01-17T00:00:00+00:00\",\"2024-01-18T00:00:00+00:00\",\"2024-01-19T00:00:00+00:00\",\"2024-01-20T00:00:00+00:00\",\"2024-01-21T00:00:00+00:00\",\"2024-01-22T00:00:00+00:00\",\"2024-01-23T00:00:00+00:00\",\"2024-01-24T00:00:00+00:00\",\"2024-01-25T00:00:00+00:00\",\"2024-01-26T00:00:00+00:00\",\"2024-01-27T00:00:00+00:00\",\"2024-01-28T00:00:00+00:00\",\"2024-01-29T00:00:00+00:00\",\"2024-01-30T00:00:00+00:00\",\"2024-01-31T00:00:00+00:00\",\"2024-02-01T00:00:00+00:00\",\"2024-02-02T00:00:00+00:00\",\"2024-02-03T00:00:00+00:00\",\"2024-02-04T00:00:00+00:00\",\"2024-02-05T00:00:00+00:00\",\"2024-02-06T00:00:00+00:00\",\"2024-02-07T00:00:00+00:00\",\"2024-02-08T00:00:00+00:00\",\"2024-02-09T00:00:00+00:00\",\"2024-02-10T00:00:00+00:00\",\"2024-02-11T00:00:00+00:00\",\"2024-02-12T00:00:00+00:00\",\"2024-02-13T00:00:00+00:00\",\"2024-02-14T00:00:00+00:00\",\"2024-02-15T00:00:00+00:00\",\"2024-02-16T00:00:00+00:00\",\"2024-02-17T00:00:00+00:00\",\"2024-02-18T00:00:00+00:00\",\"2024-02-19T00:00:00+00:00\",\"2024-02-20T00:00:00+00:00\",\"2024-02-21T00:00:00+00:00\",\"2024-02-22T00:00:00+00:00\",\"2024-02-23T00:00:00+00:00\",\"2024-02-24T00:00:00+00:00\",\"2024-02-25T00:00:00+00:00\",\"2024-02-26T00:00:00+00:00\",\"2024-02-27T00:00:00+00:00\",\"2024-02-28T00:00:00+00:00\",\"2024-02-29T00:00:00+00:00\",\"2024-03-01T00:00:00+00:00\",\"2024-03-02T00:00:00+00:00\",\"2024-03-03T00:00:00+00:00\",\"2024-03-04T00:00:00+00:00\",\"2024-03-05T00:00:00+00:00\",\"2024-03-06T00:00:00+00:00\",\"2024-03-07T00:00:00+00:00\",\"2024-03-08T00:00:00+00:00\",\"2024-03-09T00:00:00+00:00\",\"2024-03-10T00:00:00+00:00\",\"2024-03-11T00:00:00+00:00\",\"2024-03-12T00:00:00+00:00\",\"2024-03-13T00:00:00+00:00\",\"2024-03-14T00:00:00+00:00\",\"2024-03-15T00:00:00+00:00\",\"2024-03-16T00:00:00+00:00\",\"2024-03-17T00:00:00+00:00\",\"2024-03-18T00:00:00+00:00\",\"2024-03-19T00:00:00+00:00\",\"2024-03-20T00:00:00+00:00\",\"2024-03-21T00:00:00+00:00\",\"2024-03-22T00:00:00+00:00\",\"2024-03-23T00:00:00+00:00\",\"2024-03-24T00:00:00+00:00\",\"2024-03-25T00:00:00+00:00\",\"2024-03-26T00:00:00+00:00\",\"2024-03-27T00:00:00+00:00\",\"2024-03-28T00:00:00+00:00\",\"2024-03-29T00:00:00+00:00\",\"2024-03-30T00:00:00+00:00\",\"2024-03-31T00:00:00+00:00\",\"2024-04-01T00:00:00+00:00\",\"2024-04-02T00:00:00+00:00\",\"2024-04-03T00:00:00+00:00\",\"2024-04-04T00:00:00+00:00\",\"2024-04-05T00:00:00+00:00\",\"2024-04-06T00:00:00+00:00\",\"2024-04-07T00:00:00+00:00\",\"2024-04-08T00:00:00+00:00\",\"2024-04-09T00:00:00+00:00\",\"2024-04-10T00:00:00+00:00\",\"2024-04-11T00:00:00+00:00\",\"2024-04-12T00:00:00+00:00\",\"2024-04-13T00:00:00+00:00\",\"2024-04-14T00:00:00+00:00\",\"2024-04-15T00:00:00+00:00\",\"2024-04-16T00:00:00+00:00\",\"2024-04-17T00:00:00+00:00\",\"2024-04-18T00:00:00+00:00\",\"2024-04-19T00:00:00+00:00\",\"2024-04-20T00:00:00+00:00\",\"2024-04-21T00:00:00+00:00\",\"2024-04-22T00:00:00+00:00\",\"2024-04-23T00:00:00+00:00\",\"2024-04-24T00:00:00+00:00\",\"2024-04-25T00:00:00+00:00\",\"2024-04-26T00:00:00+00:00\",\"2024-04-27T00:00:00+00:00\",\"2024-04-28T00:00:00+00:00\",\"2024-04-29T00:00:00+00:00\",\"2024-04-30T00:00:00+00:00\",\"2024-05-01T00:00:00+00:00\",\"2024-05-02T00:00:00+00:00\",\"2024-05-03T00:00:00+00:00\",\"2024-05-04T00:00:00+00:00\",\"2024-05-05T00:00:00+00:00\",\"2024-05-06T00:00:00+00:00\",\"2024-05-07T00:00:00+00:00\",\"2024-05-08T00:00:00+00:00\",\"2024-05-09T00:00:00+00:00\",\"2024-05-10T00:00:00+00:00\",\"2024-05-11T00:00:00+00:00\",\"2024-05-12T00:00:00+00:00\",\"2024-05-13T00:00:00+00:00\",\"2024-05-14T00:00:00+00:00\",\"2024-05-15T00:00:00+00:00\",\"2024-05-16T00:00:00+00:00\",\"2024-05-17T00:00:00+00:00\",\"2024-05-18T00:00:00+00:00\",\"2024-05-19T00:00:00+00:00\",\"2024-05-20T00:00:00+00:00\",\"2024-05-21T00:00:00+00:00\",\"2024-05-22T00:00:00+00:00\"],\"y\":[null,-0.010732840527506449,0.0015000030398368835,0.0022916669646898535,0.06637499729792284,0.11429166545470548,0.0008333424727122729,-0.028916674355665917,-0.009749998648961311,0.0489583363135655,0.04833332697550463,0.013000006477038029,0.0087499966224035,0.08895832796891523,0.28483334432045615,0.016833320260047913,-0.04687499006589246,0.07149999340375257,-0.017916664481163025,-0.04479165871938062,-0.03154167036215472,-0.017666677633921157,-0.03220832844575261,-0.014541675647099739,-0.0015000055233638232,0.017291679978370667,-0.002583324909210205,-0.011791671315828811,-0.02874998251597094,-0.01604168613751722,-0.0039166659116744995,-0.007583320140838623,-0.0035833468039832006,0.09495834012826299,0.1940833429495492,-0.02466667691866542,-0.041416674852371216,-0.02662499248981476,0.04345833261807752,0.04125001033147169,-0.027083342274029976,0.011249999205271477,-0.01537499825159716,-0.01958334942658735,-0.016749997933705796,0.002958322564760918,0.05262502531210589,0.12762499849001552,-0.021666665871937996,-0.014083330829938179,-0.027791668971379746,-0.027000005046526443,0.0028750052054722364,0.0383333216110866,-0.0013749897480010986,-0.026125003894170273,-0.022499998410542732,0.054833347598711724,0.15474998454252864,-0.04741665720939636,-0.031000008185704475,-0.022624994317690605,0.13695833583672856,0.21462499598662044,0.023333340883255005,-0.044041673342386733,-0.048041661580403794,-0.025375013550122505,-0.015333344539006477,-0.0245833148558936,-0.02508333822091413,-0.013833343982696533,0.006500015656153435,0.13395833472410823,-0.0483750055233636,-0.04437500238418579,-0.02175000309944153,-0.020458340644836426,-0.02241664131482457,-0.015875016649564033,-0.019958337148030525,-0.006999999284744263,-0.013208329677581787,-0.012499993046124924,0.13266667226950335,0.027374987800915962,0.0023750017086665576,-0.029249995946884155,0.002958322564760918,0.0718333373467126,-0.04895831644535065,0.007749974727630615,-0.031749988595644485,-0.01341666777928685,-0.04525000353654218,-0.026791661977767944,0.031874994436899895,0.10537500182787563,-0.022874991099039566,-0.03700000047683716,-0.010875001549720764,-0.011124998331069946,-0.03604167203108477,-0.04333332180976868,-0.04041668772697449,-0.04887499411900831,0.22341668605804443,0.09224998950958252,-0.06833333770434069,-0.013541648785273308,0.029416650533676147,-0.05404166380564357,-0.04145834346612309,-0.05383332570393873,-0.0320416589577992,-0.050666674971580505,0.09337500234444929,0.07016666730244947,0.027208333214124192,0.01199999451637268,-0.03074999650319432,-0.025333330035209656,0.0595833410819373,-0.05733334521452593,-0.01570831735928846,-0.04762503008047747,0.0071250200271606445,0.0599583238363266,0.04241665701071429,-0.007583325107892502,-0.021083325147628784,-0.03291666507720947,-0.018625006079673767,-0.047791674733161926,-0.05812498927116394,-0.027749990423520332,-0.03983335196971893,-0.05937499801317858,-0.05849997202555324,-0.06416669984658574,-0.06554164985815669,-0.02745833992958069,0.05890351560032148],\"type\":\"scatter\",\"xaxis\":\"x\",\"yaxis\":\"y2\"},{\"name\":\"SNOWDEPTH\",\"opacity\":0.3,\"x\":[\"2024-01-01T00:00:00+00:00\",\"2024-01-02T00:00:00+00:00\",\"2024-01-03T00:00:00+00:00\",\"2024-01-04T00:00:00+00:00\",\"2024-01-05T00:00:00+00:00\",\"2024-01-06T00:00:00+00:00\",\"2024-01-07T00:00:00+00:00\",\"2024-01-08T00:00:00+00:00\",\"2024-01-09T00:00:00+00:00\",\"2024-01-10T00:00:00+00:00\",\"2024-01-11T00:00:00+00:00\",\"2024-01-12T00:00:00+00:00\",\"2024-01-13T00:00:00+00:00\",\"2024-01-14T00:00:00+00:00\",\"2024-01-15T00:00:00+00:00\",\"2024-01-16T00:00:00+00:00\",\"2024-01-17T00:00:00+00:00\",\"2024-01-18T00:00:00+00:00\",\"2024-01-19T00:00:00+00:00\",\"2024-01-20T00:00:00+00:00\",\"2024-01-21T00:00:00+00:00\",\"2024-01-22T00:00:00+00:00\",\"2024-01-23T00:00:00+00:00\",\"2024-01-24T00:00:00+00:00\",\"2024-01-25T00:00:00+00:00\",\"2024-01-26T00:00:00+00:00\",\"2024-01-27T00:00:00+00:00\",\"2024-01-28T00:00:00+00:00\",\"2024-01-29T00:00:00+00:00\",\"2024-01-30T00:00:00+00:00\",\"2024-01-31T00:00:00+00:00\",\"2024-02-01T00:00:00+00:00\",\"2024-02-02T00:00:00+00:00\",\"2024-02-03T00:00:00+00:00\",\"2024-02-04T00:00:00+00:00\",\"2024-02-05T00:00:00+00:00\",\"2024-02-06T00:00:00+00:00\",\"2024-02-07T00:00:00+00:00\",\"2024-02-08T00:00:00+00:00\",\"2024-02-09T00:00:00+00:00\",\"2024-02-10T00:00:00+00:00\",\"2024-02-11T00:00:00+00:00\",\"2024-02-12T00:00:00+00:00\",\"2024-02-13T00:00:00+00:00\",\"2024-02-14T00:00:00+00:00\",\"2024-02-15T00:00:00+00:00\",\"2024-02-16T00:00:00+00:00\",\"2024-02-17T00:00:00+00:00\",\"2024-02-18T00:00:00+00:00\",\"2024-02-19T00:00:00+00:00\",\"2024-02-20T00:00:00+00:00\",\"2024-02-21T00:00:00+00:00\",\"2024-02-22T00:00:00+00:00\",\"2024-02-23T00:00:00+00:00\",\"2024-02-24T00:00:00+00:00\",\"2024-02-25T00:00:00+00:00\",\"2024-02-26T00:00:00+00:00\",\"2024-02-27T00:00:00+00:00\",\"2024-02-28T00:00:00+00:00\",\"2024-02-29T00:00:00+00:00\",\"2024-03-01T00:00:00+00:00\",\"2024-03-02T00:00:00+00:00\",\"2024-03-03T00:00:00+00:00\",\"2024-03-04T00:00:00+00:00\",\"2024-03-05T00:00:00+00:00\",\"2024-03-06T00:00:00+00:00\",\"2024-03-07T00:00:00+00:00\",\"2024-03-08T00:00:00+00:00\",\"2024-03-09T00:00:00+00:00\",\"2024-03-10T00:00:00+00:00\",\"2024-03-11T00:00:00+00:00\",\"2024-03-12T00:00:00+00:00\",\"2024-03-13T00:00:00+00:00\",\"2024-03-14T00:00:00+00:00\",\"2024-03-15T00:00:00+00:00\",\"2024-03-16T00:00:00+00:00\",\"2024-03-17T00:00:00+00:00\",\"2024-03-18T00:00:00+00:00\",\"2024-03-19T00:00:00+00:00\",\"2024-03-20T00:00:00+00:00\",\"2024-03-21T00:00:00+00:00\",\"2024-03-22T00:00:00+00:00\",\"2024-03-23T00:00:00+00:00\",\"2024-03-24T00:00:00+00:00\",\"2024-03-25T00:00:00+00:00\",\"2024-03-26T00:00:00+00:00\",\"2024-03-27T00:00:00+00:00\",\"2024-03-28T00:00:00+00:00\",\"2024-03-29T00:00:00+00:00\",\"2024-03-30T00:00:00+00:00\",\"2024-03-31T00:00:00+00:00\",\"2024-04-01T00:00:00+00:00\",\"2024-04-02T00:00:00+00:00\",\"2024-04-03T00:00:00+00:00\",\"2024-04-04T00:00:00+00:00\",\"2024-04-05T00:00:00+00:00\",\"2024-04-06T00:00:00+00:00\",\"2024-04-07T00:00:00+00:00\",\"2024-04-08T00:00:00+00:00\",\"2024-04-09T00:00:00+00:00\",\"2024-04-10T00:00:00+00:00\",\"2024-04-11T00:00:00+00:00\",\"2024-04-12T00:00:00+00:00\",\"2024-04-13T00:00:00+00:00\",\"2024-04-14T00:00:00+00:00\",\"2024-04-15T00:00:00+00:00\",\"2024-04-16T00:00:00+00:00\",\"2024-04-17T00:00:00+00:00\",\"2024-04-18T00:00:00+00:00\",\"2024-04-19T00:00:00+00:00\",\"2024-04-20T00:00:00+00:00\",\"2024-04-21T00:00:00+00:00\",\"2024-04-22T00:00:00+00:00\",\"2024-04-23T00:00:00+00:00\",\"2024-04-24T00:00:00+00:00\",\"2024-04-25T00:00:00+00:00\",\"2024-04-26T00:00:00+00:00\",\"2024-04-27T00:00:00+00:00\",\"2024-04-28T00:00:00+00:00\",\"2024-04-29T00:00:00+00:00\",\"2024-04-30T00:00:00+00:00\",\"2024-05-01T00:00:00+00:00\",\"2024-05-02T00:00:00+00:00\",\"2024-05-03T00:00:00+00:00\",\"2024-05-04T00:00:00+00:00\",\"2024-05-05T00:00:00+00:00\",\"2024-05-06T00:00:00+00:00\",\"2024-05-07T00:00:00+00:00\",\"2024-05-08T00:00:00+00:00\",\"2024-05-09T00:00:00+00:00\",\"2024-05-10T00:00:00+00:00\",\"2024-05-11T00:00:00+00:00\",\"2024-05-12T00:00:00+00:00\",\"2024-05-13T00:00:00+00:00\",\"2024-05-14T00:00:00+00:00\",\"2024-05-15T00:00:00+00:00\",\"2024-05-16T00:00:00+00:00\",\"2024-05-17T00:00:00+00:00\",\"2024-05-18T00:00:00+00:00\",\"2024-05-19T00:00:00+00:00\",\"2024-05-20T00:00:00+00:00\",\"2024-05-21T00:00:00+00:00\",\"2024-05-22T00:00:00+00:00\"],\"y\":[0.6159411703839022,0.6052083298563957,0.6067083328962326,0.6089999998609225,0.6753749971588453,0.7896666626135508,0.7905000050862631,0.7615833307305971,0.7518333320816358,0.8007916683952013,0.849124995370706,0.862125001847744,0.8708749984701475,0.9598333264390627,1.2446666707595189,1.2614999910195668,1.2146250009536743,1.2861249943574269,1.2682083298762639,1.2234166711568832,1.1918750007947285,1.1742083231608074,1.1419999947150548,1.127458319067955,1.1259583135445912,1.1432499935229619,1.1406666686137517,1.1288749972979228,1.100125014781952,1.0840833286444347,1.0801666627327602,1.0725833425919216,1.0689999957879384,1.1639583359162013,1.3580416788657506,1.3333750019470851,1.291958327094714,1.2653333346048992,1.3087916672229767,1.3500416775544484,1.3229583352804184,1.3342083344856899,1.3188333362340927,1.2992499868075054,1.2824999888737996,1.2854583114385605,1.3380833367506664,1.465708335240682,1.444041669368744,1.4299583385388057,1.402166669567426,1.3751666645208995,1.3780416697263718,1.4163749913374584,1.4150000015894573,1.388874997695287,1.3663749992847443,1.421208346883456,1.5759583314259846,1.5285416742165883,1.4975416660308838,1.4749166717131932,1.6118750075499217,1.8265000035365422,1.8498333444197972,1.8057916710774105,1.7577500094970067,1.7323749959468842,1.7170416514078777,1.692458336551984,1.66737499833107,1.6535416543483734,1.6600416700045268,1.794000004728635,1.7456249992052715,1.7012499968210857,1.6794999937216442,1.6590416530768077,1.6366250117619832,1.6207499951124191,1.6007916579643886,1.5937916586796443,1.5805833290020626,1.5680833359559376,1.700750008225441,1.728124996026357,1.7304999977350235,1.7012500017881393,1.7042083243529003,1.7760416616996129,1.7270833452542622,1.7348333199818928,1.7030833313862483,1.6896666636069615,1.6444166600704193,1.6176249980926514,1.6494999925295513,1.7548749943574269,1.7320000032583873,1.6950000027815502,1.6841250012318294,1.6730000029007595,1.6369583308696747,1.593625009059906,1.5532083213329315,1.5043333272139232,1.7277500132719676,1.8200000027815502,1.7516666650772095,1.7381250162919362,1.7675416668256123,1.7135000030199687,1.6720416595538456,1.618208333849907,1.5861666748921077,1.5354999999205272,1.6288750022649765,1.699041669567426,1.7262500027815502,1.7382499972979228,1.7075000007947285,1.6821666707595189,1.7417500118414562,1.6844166666269302,1.6687083492676418,1.6210833191871643,1.628208339214325,1.6881666630506516,1.7305833200613658,1.7229999949534733,1.7019166698058446,1.669000004728635,1.6503749986489613,1.6025833239157994,1.5444583346446354,1.5167083442211151,1.4768749922513962,1.4174999942382176,1.3590000222126644,1.2948333223660786,1.229291672507922,1.2018333325783412,1.2607368481786627],\"type\":\"scatter\",\"xaxis\":\"x\",\"yaxis\":\"y2\"}],                        {\"template\":{\"data\":{\"histogram2dcontour\":[{\"type\":\"histogram2dcontour\",\"colorbar\":{\"outlinewidth\":0,\"ticks\":\"\"},\"colorscale\":[[0.0,\"#0d0887\"],[0.1111111111111111,\"#46039f\"],[0.2222222222222222,\"#7201a8\"],[0.3333333333333333,\"#9c179e\"],[0.4444444444444444,\"#bd3786\"],[0.5555555555555556,\"#d8576b\"],[0.6666666666666666,\"#ed7953\"],[0.7777777777777778,\"#fb9f3a\"],[0.8888888888888888,\"#fdca26\"],[1.0,\"#f0f921\"]]}],\"choropleth\":[{\"type\":\"choropleth\",\"colorbar\":{\"outlinewidth\":0,\"ticks\":\"\"}}],\"histogram2d\":[{\"type\":\"histogram2d\",\"colorbar\":{\"outlinewidth\":0,\"ticks\":\"\"},\"colorscale\":[[0.0,\"#0d0887\"],[0.1111111111111111,\"#46039f\"],[0.2222222222222222,\"#7201a8\"],[0.3333333333333333,\"#9c179e\"],[0.4444444444444444,\"#bd3786\"],[0.5555555555555556,\"#d8576b\"],[0.6666666666666666,\"#ed7953\"],[0.7777777777777778,\"#fb9f3a\"],[0.8888888888888888,\"#fdca26\"],[1.0,\"#f0f921\"]]}],\"heatmap\":[{\"type\":\"heatmap\",\"colorbar\":{\"outlinewidth\":0,\"ticks\":\"\"},\"colorscale\":[[0.0,\"#0d0887\"],[0.1111111111111111,\"#46039f\"],[0.2222222222222222,\"#7201a8\"],[0.3333333333333333,\"#9c179e\"],[0.4444444444444444,\"#bd3786\"],[0.5555555555555556,\"#d8576b\"],[0.6666666666666666,\"#ed7953\"],[0.7777777777777778,\"#fb9f3a\"],[0.8888888888888888,\"#fdca26\"],[1.0,\"#f0f921\"]]}],\"heatmapgl\":[{\"type\":\"heatmapgl\",\"colorbar\":{\"outlinewidth\":0,\"ticks\":\"\"},\"colorscale\":[[0.0,\"#0d0887\"],[0.1111111111111111,\"#46039f\"],[0.2222222222222222,\"#7201a8\"],[0.3333333333333333,\"#9c179e\"],[0.4444444444444444,\"#bd3786\"],[0.5555555555555556,\"#d8576b\"],[0.6666666666666666,\"#ed7953\"],[0.7777777777777778,\"#fb9f3a\"],[0.8888888888888888,\"#fdca26\"],[1.0,\"#f0f921\"]]}],\"contourcarpet\":[{\"type\":\"contourcarpet\",\"colorbar\":{\"outlinewidth\":0,\"ticks\":\"\"}}],\"contour\":[{\"type\":\"contour\",\"colorbar\":{\"outlinewidth\":0,\"ticks\":\"\"},\"colorscale\":[[0.0,\"#0d0887\"],[0.1111111111111111,\"#46039f\"],[0.2222222222222222,\"#7201a8\"],[0.3333333333333333,\"#9c179e\"],[0.4444444444444444,\"#bd3786\"],[0.5555555555555556,\"#d8576b\"],[0.6666666666666666,\"#ed7953\"],[0.7777777777777778,\"#fb9f3a\"],[0.8888888888888888,\"#fdca26\"],[1.0,\"#f0f921\"]]}],\"surface\":[{\"type\":\"surface\",\"colorbar\":{\"outlinewidth\":0,\"ticks\":\"\"},\"colorscale\":[[0.0,\"#0d0887\"],[0.1111111111111111,\"#46039f\"],[0.2222222222222222,\"#7201a8\"],[0.3333333333333333,\"#9c179e\"],[0.4444444444444444,\"#bd3786\"],[0.5555555555555556,\"#d8576b\"],[0.6666666666666666,\"#ed7953\"],[0.7777777777777778,\"#fb9f3a\"],[0.8888888888888888,\"#fdca26\"],[1.0,\"#f0f921\"]]}],\"mesh3d\":[{\"type\":\"mesh3d\",\"colorbar\":{\"outlinewidth\":0,\"ticks\":\"\"}}],\"scatter\":[{\"fillpattern\":{\"fillmode\":\"overlay\",\"size\":10,\"solidity\":0.2},\"type\":\"scatter\"}],\"parcoords\":[{\"type\":\"parcoords\",\"line\":{\"colorbar\":{\"outlinewidth\":0,\"ticks\":\"\"}}}],\"scatterpolargl\":[{\"type\":\"scatterpolargl\",\"marker\":{\"colorbar\":{\"outlinewidth\":0,\"ticks\":\"\"}}}],\"bar\":[{\"error_x\":{\"color\":\"#2a3f5f\"},\"error_y\":{\"color\":\"#2a3f5f\"},\"marker\":{\"line\":{\"color\":\"#E5ECF6\",\"width\":0.5},\"pattern\":{\"fillmode\":\"overlay\",\"size\":10,\"solidity\":0.2}},\"type\":\"bar\"}],\"scattergeo\":[{\"type\":\"scattergeo\",\"marker\":{\"colorbar\":{\"outlinewidth\":0,\"ticks\":\"\"}}}],\"scatterpolar\":[{\"type\":\"scatterpolar\",\"marker\":{\"colorbar\":{\"outlinewidth\":0,\"ticks\":\"\"}}}],\"histogram\":[{\"marker\":{\"pattern\":{\"fillmode\":\"overlay\",\"size\":10,\"solidity\":0.2}},\"type\":\"histogram\"}],\"scattergl\":[{\"type\":\"scattergl\",\"marker\":{\"colorbar\":{\"outlinewidth\":0,\"ticks\":\"\"}}}],\"scatter3d\":[{\"type\":\"scatter3d\",\"line\":{\"colorbar\":{\"outlinewidth\":0,\"ticks\":\"\"}},\"marker\":{\"colorbar\":{\"outlinewidth\":0,\"ticks\":\"\"}}}],\"scattermapbox\":[{\"type\":\"scattermapbox\",\"marker\":{\"colorbar\":{\"outlinewidth\":0,\"ticks\":\"\"}}}],\"scatterternary\":[{\"type\":\"scatterternary\",\"marker\":{\"colorbar\":{\"outlinewidth\":0,\"ticks\":\"\"}}}],\"scattercarpet\":[{\"type\":\"scattercarpet\",\"marker\":{\"colorbar\":{\"outlinewidth\":0,\"ticks\":\"\"}}}],\"carpet\":[{\"aaxis\":{\"endlinecolor\":\"#2a3f5f\",\"gridcolor\":\"white\",\"linecolor\":\"white\",\"minorgridcolor\":\"white\",\"startlinecolor\":\"#2a3f5f\"},\"baxis\":{\"endlinecolor\":\"#2a3f5f\",\"gridcolor\":\"white\",\"linecolor\":\"white\",\"minorgridcolor\":\"white\",\"startlinecolor\":\"#2a3f5f\"},\"type\":\"carpet\"}],\"table\":[{\"cells\":{\"fill\":{\"color\":\"#EBF0F8\"},\"line\":{\"color\":\"white\"}},\"header\":{\"fill\":{\"color\":\"#C8D4E3\"},\"line\":{\"color\":\"white\"}},\"type\":\"table\"}],\"barpolar\":[{\"marker\":{\"line\":{\"color\":\"#E5ECF6\",\"width\":0.5},\"pattern\":{\"fillmode\":\"overlay\",\"size\":10,\"solidity\":0.2}},\"type\":\"barpolar\"}],\"pie\":[{\"automargin\":true,\"type\":\"pie\"}]},\"layout\":{\"autotypenumbers\":\"strict\",\"colorway\":[\"#636efa\",\"#EF553B\",\"#00cc96\",\"#ab63fa\",\"#FFA15A\",\"#19d3f3\",\"#FF6692\",\"#B6E880\",\"#FF97FF\",\"#FECB52\"],\"font\":{\"color\":\"#2a3f5f\"},\"hovermode\":\"closest\",\"hoverlabel\":{\"align\":\"left\"},\"paper_bgcolor\":\"white\",\"plot_bgcolor\":\"#E5ECF6\",\"polar\":{\"bgcolor\":\"#E5ECF6\",\"angularaxis\":{\"gridcolor\":\"white\",\"linecolor\":\"white\",\"ticks\":\"\"},\"radialaxis\":{\"gridcolor\":\"white\",\"linecolor\":\"white\",\"ticks\":\"\"}},\"ternary\":{\"bgcolor\":\"#E5ECF6\",\"aaxis\":{\"gridcolor\":\"white\",\"linecolor\":\"white\",\"ticks\":\"\"},\"baxis\":{\"gridcolor\":\"white\",\"linecolor\":\"white\",\"ticks\":\"\"},\"caxis\":{\"gridcolor\":\"white\",\"linecolor\":\"white\",\"ticks\":\"\"}},\"coloraxis\":{\"colorbar\":{\"outlinewidth\":0,\"ticks\":\"\"}},\"colorscale\":{\"sequential\":[[0.0,\"#0d0887\"],[0.1111111111111111,\"#46039f\"],[0.2222222222222222,\"#7201a8\"],[0.3333333333333333,\"#9c179e\"],[0.4444444444444444,\"#bd3786\"],[0.5555555555555556,\"#d8576b\"],[0.6666666666666666,\"#ed7953\"],[0.7777777777777778,\"#fb9f3a\"],[0.8888888888888888,\"#fdca26\"],[1.0,\"#f0f921\"]],\"sequentialminus\":[[0.0,\"#0d0887\"],[0.1111111111111111,\"#46039f\"],[0.2222222222222222,\"#7201a8\"],[0.3333333333333333,\"#9c179e\"],[0.4444444444444444,\"#bd3786\"],[0.5555555555555556,\"#d8576b\"],[0.6666666666666666,\"#ed7953\"],[0.7777777777777778,\"#fb9f3a\"],[0.8888888888888888,\"#fdca26\"],[1.0,\"#f0f921\"]],\"diverging\":[[0,\"#8e0152\"],[0.1,\"#c51b7d\"],[0.2,\"#de77ae\"],[0.3,\"#f1b6da\"],[0.4,\"#fde0ef\"],[0.5,\"#f7f7f7\"],[0.6,\"#e6f5d0\"],[0.7,\"#b8e186\"],[0.8,\"#7fbc41\"],[0.9,\"#4d9221\"],[1,\"#276419\"]]},\"xaxis\":{\"gridcolor\":\"white\",\"linecolor\":\"white\",\"ticks\":\"\",\"title\":{\"standoff\":15},\"zerolinecolor\":\"white\",\"automargin\":true,\"zerolinewidth\":2},\"yaxis\":{\"gridcolor\":\"white\",\"linecolor\":\"white\",\"ticks\":\"\",\"title\":{\"standoff\":15},\"zerolinecolor\":\"white\",\"automargin\":true,\"zerolinewidth\":2},\"scene\":{\"xaxis\":{\"backgroundcolor\":\"#E5ECF6\",\"gridcolor\":\"white\",\"linecolor\":\"white\",\"showbackground\":true,\"ticks\":\"\",\"zerolinecolor\":\"white\",\"gridwidth\":2},\"yaxis\":{\"backgroundcolor\":\"#E5ECF6\",\"gridcolor\":\"white\",\"linecolor\":\"white\",\"showbackground\":true,\"ticks\":\"\",\"zerolinecolor\":\"white\",\"gridwidth\":2},\"zaxis\":{\"backgroundcolor\":\"#E5ECF6\",\"gridcolor\":\"white\",\"linecolor\":\"white\",\"showbackground\":true,\"ticks\":\"\",\"zerolinecolor\":\"white\",\"gridwidth\":2}},\"shapedefaults\":{\"line\":{\"color\":\"#2a3f5f\"}},\"annotationdefaults\":{\"arrowcolor\":\"#2a3f5f\",\"arrowhead\":0,\"arrowwidth\":1},\"geo\":{\"bgcolor\":\"white\",\"landcolor\":\"#E5ECF6\",\"subunitcolor\":\"white\",\"showland\":true,\"showlakes\":true,\"lakecolor\":\"white\"},\"title\":{\"x\":0.05},\"mapbox\":{\"style\":\"light\"}}},\"xaxis\":{\"anchor\":\"y\",\"domain\":[0.0,0.94],\"title\":{\"text\":\"Date\"}},\"yaxis\":{\"anchor\":\"x\",\"domain\":[0.0,1.0],\"title\":{\"text\":\"Unitless\",\"font\":{\"color\":\"blue\"}},\"tickfont\":{\"color\":\"blue\"},\"tickvals\":[0.25,0.5,0.75,1.0],\"range\":[0.25,1]},\"yaxis2\":{\"anchor\":\"x\",\"overlaying\":\"y\",\"side\":\"right\",\"title\":{\"text\":\"[m]\",\"font\":{\"color\":\"red\"}},\"tickfont\":{\"color\":\"red\"}},\"title\":{\"text\":\"Blue Ridge Meteorological Station NR Fraser\"}},                        {\"responsive\": true}                    ).then(function(){\n",
       "                            \n",
       "var gd = document.getElementById('4336c7b6-9ce7-44ed-a71a-d3f4caf0191a');\n",
       "var x = new MutationObserver(function (mutations, observer) {{\n",
       "        var display = window.getComputedStyle(gd).display;\n",
       "        if (!display || display === 'none') {{\n",
       "            console.log([gd, 'removed!']);\n",
       "            Plotly.purge(gd);\n",
       "            observer.disconnect();\n",
       "        }}\n",
       "}});\n",
       "\n",
       "// Listen for the removal of the full notebook cells\n",
       "var notebookContainer = gd.closest('#notebook-container');\n",
       "if (notebookContainer) {{\n",
       "    x.observe(notebookContainer, {childList: true});\n",
       "}}\n",
       "\n",
       "// Listen for the clearing of the current output cell\n",
       "var outputEl = gd.closest('.output');\n",
       "if (outputEl) {{\n",
       "    x.observe(outputEl, {childList: true});\n",
       "}}\n",
       "\n",
       "                        })                };                });            </script>        </div>"
      ]
     },
     "metadata": {},
     "output_type": "display_data"
    }
   ],
   "source": [
    "# Create figure with secondary y-axis\n",
    "fig = make_subplots(specs=[[{\"secondary_y\": True}]])\n",
    "\n",
    "# Add traces\n",
    "fig.add_trace(\n",
    "    go.Scatter(x=df_rad.index, y=df_rad[albedo_var], name=albedo_var),\n",
    "    secondary_y=False,\n",
    ")\n",
    "\n",
    "fig.add_trace(\n",
    "    go.Scatter(\n",
    "        x=df_rad.index, y=df_rad[depth.name].diff(), name=f\"{depth.name} signal\", mode=\"lines+markers\"\n",
    "    ), secondary_y=True, \n",
    ")\n",
    "\n",
    "fig.add_trace(\n",
    "    go.Scatter(\n",
    "        x=df_rad.index, y=df_rad[depth.name], name=f\"{depth.name}\", opacity=0.3,\n",
    "    ), secondary_y=True, \n",
    ")\n",
    "\n",
    "fig.update_layout(\n",
    "    # template='plotly_dark',\n",
    "    title=f'{pt.name}',\n",
    "    xaxis=dict(title='Date'),\n",
    "    yaxis=dict(\n",
    "        title=f'Unitless',\n",
    "        titlefont=dict(color='blue'),\n",
    "        tickfont=dict(color='blue'),\n",
    "        tickvals=[.25, .5, .75, 1.0],\n",
    "        range=[.25, 1]\n",
    "    ),\n",
    "    yaxis2=dict(\n",
    "        title=f'[m]',\n",
    "        titlefont=dict(color='red'),\n",
    "        tickfont=dict(color='red'), overlaying='y', side='right'\n",
    "    )\n",
    ")\n",
    "\n",
    "# Show the plot\n",
    "fig.show()"
   ]
  },
  {
   "cell_type": "markdown",
   "id": "eac2af7c-b240-4e95-baa1-e65611347a95",
   "metadata": {
    "editable": true,
    "slideshow": {
     "slide_type": ""
    },
    "tags": []
   },
   "source": [
    "### Summary\n",
    "*e started with a point that we knew had shortwave measurements.\n",
    "*ext, we pulled all the necessary data, cleaned it, and resampled to daily.\n",
    "*e calculated albedo, and plotted it to see how the snow"
   ]
  },
  {
   "cell_type": "code",
   "execution_count": null,
   "id": "72ac1ea5-3c9c-4b85-8d74-454055599194",
   "metadata": {},
   "outputs": [],
   "source": []
  }
 ],
 "metadata": {
  "kernelspec": {
   "display_name": "Python 3 (ipykernel)",
   "language": "python",
   "name": "python3"
  },
  "language_info": {
   "codemirror_mode": {
    "name": "ipython",
    "version": 3
   },
   "file_extension": ".py",
   "mimetype": "text/x-python",
   "name": "python",
   "nbconvert_exporter": "python",
   "pygments_lexer": "ipython3",
   "version": "3.9.18"
  }
 },
 "nbformat": 4,
 "nbformat_minor": 5
}
